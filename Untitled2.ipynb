{
 "cells": [
  {
   "cell_type": "code",
   "execution_count": null,
   "id": "ba6afc96-21a5-47ee-a923-01eac48d7bfb",
   "metadata": {},
   "outputs": [],
   "source": []
  }
 ],
 "metadata": {
  "kernelspec": {
   "display_name": "",
   "name": ""
  },
  "language_info": {
   "name": ""
  }
 },
 "nbformat": 4,
 "nbformat_minor": 5
}
