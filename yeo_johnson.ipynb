{
 "cells": [
  {
   "cell_type": "code",
   "execution_count": 1,
   "id": "d7210792-650d-4e75-a1cd-e1172eee0ccd",
   "metadata": {},
   "outputs": [
    {
     "name": "stdout",
     "output_type": "stream",
     "text": [
      "   values  values_yeojohnson\n",
      "0      -5          -2.068156\n",
      "1      -2          -0.848640\n",
      "2      -1          -0.545319\n",
      "3       0          -0.311488\n",
      "4       1          -0.152983\n"
     ]
    }
   ],
   "source": [
    "from sklearn.preprocessing import PowerTransformer\n",
    "import pandas as pd\n",
    "\n",
    "# Data with negatives and zeros\n",
    "df = pd.DataFrame({'values': [-5, -2, -1, 0, 1, 2, 3, 5, 10, 20, 50]})\n",
    "\n",
    "# Apply Yeo-Johnson transform\n",
    "pt = PowerTransformer(method='yeo-johnson')\n",
    "df['values_yeojohnson'] = pt.fit_transform(df[['values']])\n",
    "\n",
    "print(df.head())\n"
   ]
  },
  {
   "cell_type": "code",
   "execution_count": null,
   "id": "86ef35c0-cace-468b-ba2c-7d34eef3a6d7",
   "metadata": {},
   "outputs": [],
   "source": []
  }
 ],
 "metadata": {
  "kernelspec": {
   "display_name": "Python [conda env:base] *",
   "language": "python",
   "name": "conda-base-py"
  },
  "language_info": {
   "codemirror_mode": {
    "name": "ipython",
    "version": 3
   },
   "file_extension": ".py",
   "mimetype": "text/x-python",
   "name": "python",
   "nbconvert_exporter": "python",
   "pygments_lexer": "ipython3",
   "version": "3.12.11"
  }
 },
 "nbformat": 4,
 "nbformat_minor": 5
}
