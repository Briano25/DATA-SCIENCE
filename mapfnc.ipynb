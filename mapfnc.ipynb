{
 "cells": [
  {
   "cell_type": "code",
   "execution_count": null,
   "id": "80556f6f-9430-412e-b79d-886211c6bbdf",
   "metadata": {},
   "outputs": [],
   "source": [
    "#Convert strings into numeric values for modeling\n",
    "gender_map = {'Male': 1, 'Female': 0}\n",
    "df['Gender_encoded'] = df['Gender'].map(gender_map)\n",
    "\n",
    "\n",
    "#Apply a Custom Function to Each Value\n",
    "df['Age_category'] = df['Age'].map(lambda age: 'Senior' if age > 60 else 'Adult')\n",
    "\n",
    "\n",
    "#Change Values Based on Rules\n",
    "def grade(score):\n",
    "    if score >= 90:\n",
    "        return 'A'\n",
    "    elif score >= 75:\n",
    "        return 'B'\n",
    "    else:\n",
    "        return 'C'\n",
    "\n",
    "df['Grade'] = df['Score'].map(grade)\n",
    "\n"
   ]
  }
 ],
 "metadata": {
  "kernelspec": {
   "display_name": "Python [conda env:base] *",
   "language": "python",
   "name": "conda-base-py"
  },
  "language_info": {
   "codemirror_mode": {
    "name": "ipython",
    "version": 3
   },
   "file_extension": ".py",
   "mimetype": "text/x-python",
   "name": "python",
   "nbconvert_exporter": "python",
   "pygments_lexer": "ipython3",
   "version": "3.12.7"
  }
 },
 "nbformat": 4,
 "nbformat_minor": 5
}
