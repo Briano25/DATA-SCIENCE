{
 "cells": [
  {
   "cell_type": "code",
   "execution_count": 1,
   "id": "8b80bfe0-afc7-44b7-a0f5-e9f3e702a89a",
   "metadata": {},
   "outputs": [],
   "source": [
    "import pandas as pd\n",
    "df=pd.read_csv(r\"C:\\Users\\OJ 001\\Downloads\\health_insurance_features_engineered.csv\")"
   ]
  },
  {
   "cell_type": "code",
   "execution_count": 5,
   "id": "dd177bc7-b25a-4eba-b273-19b721488100",
   "metadata": {},
   "outputs": [
    {
     "name": "stdout",
     "output_type": "stream",
     "text": [
      "  Customerid  Age  Gender   Bmi Smoker     Region  Children  Annual_Income  \\\n",
      "0      H0001   56    Male  27.9     No  Southwest         1          39130   \n",
      "1      H0002   69    Male  33.9     No  Southwest         1         119360   \n",
      "2      H0003   46    Male  40.6     No  Southeast         1          92287   \n",
      "3      H0004   32  Female  25.3     No  Northeast         0          81702   \n",
      "4      H0005   60    Male  25.6     No  Southeast         4          66993   \n",
      "\n",
      "   Claim_History  Annual_Premium  ... Is_Female High_claim_history_flag  \\\n",
      "0              3            3246  ...         0                       1   \n",
      "1              1            7825  ...         0                       0   \n",
      "2              2            9516  ...         0                       0   \n",
      "3              1            3416  ...         1                       0   \n",
      "4              2            9702  ...         0                       0   \n",
      "\n",
      "  Is_Obese Smoker_Obese  Risk_Score_raw  Risk_Score  Log_Annual_Income  \\\n",
      "0        0            0            0.40        0.40          10.574670   \n",
      "1        1            0            0.45        0.45          11.689908   \n",
      "2        1            0            0.25        0.25          11.432669   \n",
      "3        0            0            0.00        0.00          11.310846   \n",
      "4        0            0            0.20        0.20          11.112358   \n",
      "\n",
      "   Log_Annual_Premium  Age_by_Premium  Premium_per_Child  \n",
      "0            8.085487          181776             1623.0  \n",
      "1            8.965207          539925             3912.5  \n",
      "2            9.160835          437736             4758.0  \n",
      "3            8.136518          109312             3416.0  \n",
      "4            9.180190          582120             1940.4  \n",
      "\n",
      "[5 rows x 27 columns]\n"
     ]
    },
    {
     "data": {
      "text/plain": [
       "Index(['Customerid', 'Age', 'Gender', 'Bmi', 'Smoker', 'Region', 'Children',\n",
       "       'Annual_Income', 'Claim_History', 'Annual_Premium', 'High_Cost_Claim',\n",
       "       'Bmi_Category', 'Age_Group', 'Income_Bracket', 'Income_per_Child',\n",
       "       'Premium_to_Income_Ratio', 'Smoker_flag', 'Is_Female',\n",
       "       'High_claim_history_flag', 'Is_Obese', 'Smoker_Obese', 'Risk_Score_raw',\n",
       "       'Risk_Score', 'Log_Annual_Income', 'Log_Annual_Premium',\n",
       "       'Age_by_Premium', 'Premium_per_Child'],\n",
       "      dtype='object')"
      ]
     },
     "execution_count": 5,
     "metadata": {},
     "output_type": "execute_result"
    }
   ],
   "source": [
    "print(df.head(5))\n",
    "df.columns"
   ]
  },
  {
   "cell_type": "code",
   "execution_count": 19,
   "id": "1de393a6-afab-4667-98b5-c5ad8d6e5221",
   "metadata": {},
   "outputs": [
    {
     "name": "stdout",
     "output_type": "stream",
     "text": [
      "    Customerid  Age Gender   Bmi Smoker     Region  Children  Annual_Income  \\\n",
      "1        H0002   69   Male  33.9     No  Southwest         1         119360   \n",
      "11       H0012   28   Male  33.5    Yes  Southeast         2         118388   \n",
      "12       H0013   41   Male  32.1     No  Southeast         0         119156   \n",
      "18       H0019   19   Male  27.2    Yes  Northeast         4          56312   \n",
      "25       H0026   50   Male  34.4     No  Northwest         1          86597   \n",
      "..         ...  ...    ...   ...    ...        ...       ...            ...   \n",
      "975      H0976   69   Male  32.6    Yes  Northwest         0          36378   \n",
      "980      H0981   43   Male  29.4    Yes  Northeast         1          66931   \n",
      "996      H0997   64   Male  34.6     No  Northwest         4          43419   \n",
      "998      H0999   35   Male  25.2    Yes  Southwest         1          97600   \n",
      "999      H1000   55   Male  27.0    Yes  Northeast         0         106102   \n",
      "\n",
      "     Claim_History  Annual_Premium  ... Is_Female High_claim_history_flag  \\\n",
      "1                1            7825  ...         0                       0   \n",
      "11               2           10248  ...         0                       0   \n",
      "12               4            5962  ...         0                       1   \n",
      "18               1            7952  ...         0                       0   \n",
      "25               4            3347  ...         0                       1   \n",
      "..             ...             ...  ...       ...                     ...   \n",
      "975              3            9615  ...         0                       1   \n",
      "980              3           10050  ...         0                       1   \n",
      "996              1            9574  ...         0                       0   \n",
      "998              4            4138  ...         0                       1   \n",
      "999              4           10257  ...         0                       1   \n",
      "\n",
      "    Is_Obese Smoker_Obese  Risk_Score_raw  Risk_Score  Log_Annual_Income  \\\n",
      "1          1            0            0.45        0.45          11.689908   \n",
      "11         1            1            0.60        0.60          11.681731   \n",
      "12         1            0            0.45        0.45          11.688197   \n",
      "18         0            0            0.35        0.35          10.938681   \n",
      "25         1            0            0.45        0.45          11.369032   \n",
      "..       ...          ...             ...         ...                ...   \n",
      "975        1            1            1.00        1.00          10.501747   \n",
      "980        0            0            0.55        0.55          11.111432   \n",
      "996        1            0            0.45        0.45          10.678675   \n",
      "998        0            0            0.55        0.55          11.488643   \n",
      "999        0            0            0.75        0.75          11.572166   \n",
      "\n",
      "     Log_Annual_Premium  Age_by_Premium  Premium_per_Child  \n",
      "1              8.965207          539925             3912.5  \n",
      "11             9.234935          286944             3416.0  \n",
      "12             8.693329          244442             5962.0  \n",
      "18             8.981304          151088             1590.4  \n",
      "25             8.116118          167350             1673.5  \n",
      "..                  ...             ...                ...  \n",
      "975            9.171184          663435             9615.0  \n",
      "980            9.215427          432150             5025.0  \n",
      "996            9.166911          612736             1914.8  \n",
      "998            8.328209          144830             2069.0  \n",
      "999            9.235813          564135            10257.0  \n",
      "\n",
      "[159 rows x 27 columns]\n"
     ]
    }
   ],
   "source": [
    "print(df.query(\"High_Cost_Claim == 'Yes' and Gender == 'Male'\"))\n",
    "\n"
   ]
  },
  {
   "cell_type": "code",
   "execution_count": 20,
   "id": "66278716-01b7-4278-8b97-ec16ca2bd561",
   "metadata": {},
   "outputs": [
    {
     "name": "stdout",
     "output_type": "stream",
     "text": [
      "Gender\n",
      "Male      159\n",
      "Female    150\n",
      "Name: count, dtype: int64\n"
     ]
    }
   ],
   "source": [
    "counts = df[df['High_Cost_Claim'] == 'Yes']['Gender'].value_counts()\n",
    "print(counts)\n"
   ]
  },
  {
   "cell_type": "code",
   "execution_count": 16,
   "id": "5b16d855-dfb8-44d2-b006-4982c4a3895d",
   "metadata": {},
   "outputs": [
    {
     "name": "stdout",
     "output_type": "stream",
     "text": [
      "['Male' 'Female']\n"
     ]
    }
   ],
   "source": [
    "print(df['Gender'].unique())\n"
   ]
  },
  {
   "cell_type": "code",
   "execution_count": 21,
   "id": "8d5cdca1-5387-47a9-a6fd-110f5a88c1ad",
   "metadata": {},
   "outputs": [
    {
     "name": "stdout",
     "output_type": "stream",
     "text": [
      "Gender\n",
      "Male      159\n",
      "Female    150\n",
      "Name: count, dtype: int64\n"
     ]
    }
   ],
   "source": [
    "print(df[df['High_Cost_Claim'] == 'Yes']['Gender'].value_counts())\n"
   ]
  },
  {
   "cell_type": "code",
   "execution_count": 18,
   "id": "91c8818f-ef34-4100-9db4-5946c05fe1ca",
   "metadata": {},
   "outputs": [
    {
     "data": {
      "text/html": [
       "<div>\n",
       "<style scoped>\n",
       "    .dataframe tbody tr th:only-of-type {\n",
       "        vertical-align: middle;\n",
       "    }\n",
       "\n",
       "    .dataframe tbody tr th {\n",
       "        vertical-align: top;\n",
       "    }\n",
       "\n",
       "    .dataframe thead th {\n",
       "        text-align: right;\n",
       "    }\n",
       "</style>\n",
       "<table border=\"1\" class=\"dataframe\">\n",
       "  <thead>\n",
       "    <tr style=\"text-align: right;\">\n",
       "      <th>High_Cost_Claim</th>\n",
       "      <th>No</th>\n",
       "      <th>Yes</th>\n",
       "    </tr>\n",
       "    <tr>\n",
       "      <th>Gender</th>\n",
       "      <th></th>\n",
       "      <th></th>\n",
       "    </tr>\n",
       "  </thead>\n",
       "  <tbody>\n",
       "    <tr>\n",
       "      <th>Female</th>\n",
       "      <td>326</td>\n",
       "      <td>150</td>\n",
       "    </tr>\n",
       "    <tr>\n",
       "      <th>Male</th>\n",
       "      <td>365</td>\n",
       "      <td>159</td>\n",
       "    </tr>\n",
       "  </tbody>\n",
       "</table>\n",
       "</div>"
      ],
      "text/plain": [
       "High_Cost_Claim   No  Yes\n",
       "Gender                   \n",
       "Female           326  150\n",
       "Male             365  159"
      ]
     },
     "execution_count": 18,
     "metadata": {},
     "output_type": "execute_result"
    }
   ],
   "source": [
    "pd.crosstab(df['Gender'], df['High_Cost_Claim'])\n"
   ]
  },
  {
   "cell_type": "code",
   "execution_count": 29,
   "id": "102f8154-9e40-4583-9ee7-0680376ca22a",
   "metadata": {},
   "outputs": [
    {
     "data": {
      "text/html": [
       "<div>\n",
       "<style scoped>\n",
       "    .dataframe tbody tr th:only-of-type {\n",
       "        vertical-align: middle;\n",
       "    }\n",
       "\n",
       "    .dataframe tbody tr th {\n",
       "        vertical-align: top;\n",
       "    }\n",
       "\n",
       "    .dataframe thead th {\n",
       "        text-align: right;\n",
       "    }\n",
       "</style>\n",
       "<table border=\"1\" class=\"dataframe\">\n",
       "  <thead>\n",
       "    <tr style=\"text-align: right;\">\n",
       "      <th>Income_Bracket</th>\n",
       "      <th>High</th>\n",
       "      <th>Low</th>\n",
       "      <th>Medium</th>\n",
       "    </tr>\n",
       "    <tr>\n",
       "      <th>Gender</th>\n",
       "      <th></th>\n",
       "      <th></th>\n",
       "      <th></th>\n",
       "    </tr>\n",
       "  </thead>\n",
       "  <tbody>\n",
       "    <tr>\n",
       "      <th>Female</th>\n",
       "      <td>162</td>\n",
       "      <td>155</td>\n",
       "      <td>159</td>\n",
       "    </tr>\n",
       "    <tr>\n",
       "      <th>Male</th>\n",
       "      <td>171</td>\n",
       "      <td>179</td>\n",
       "      <td>174</td>\n",
       "    </tr>\n",
       "  </tbody>\n",
       "</table>\n",
       "</div>"
      ],
      "text/plain": [
       "Income_Bracket  High  Low  Medium\n",
       "Gender                           \n",
       "Female           162  155     159\n",
       "Male             171  179     174"
      ]
     },
     "execution_count": 29,
     "metadata": {},
     "output_type": "execute_result"
    }
   ],
   "source": [
    "pd.crosstab(df['Gender'], df['Income_Bracket'], values=df['Age_Group'], aggfunc='count')\n"
   ]
  },
  {
   "cell_type": "code",
   "execution_count": null,
   "id": "b4b0e0df-f1ad-4405-86a3-9fa643ace9c7",
   "metadata": {},
   "outputs": [],
   "source": []
  }
 ],
 "metadata": {
  "kernelspec": {
   "display_name": "Python [conda env:base] *",
   "language": "python",
   "name": "conda-base-py"
  },
  "language_info": {
   "codemirror_mode": {
    "name": "ipython",
    "version": 3
   },
   "file_extension": ".py",
   "mimetype": "text/x-python",
   "name": "python",
   "nbconvert_exporter": "python",
   "pygments_lexer": "ipython3",
   "version": "3.12.11"
  }
 },
 "nbformat": 4,
 "nbformat_minor": 5
}
