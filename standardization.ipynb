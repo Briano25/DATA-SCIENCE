{
 "cells": [
  {
   "cell_type": "code",
   "execution_count": 1,
   "id": "819aaa31",
   "metadata": {},
   "outputs": [
    {
     "name": "stdout",
     "output_type": "stream",
     "text": [
      "        Age    Salary\n",
      "0 -1.293993 -1.125000\n",
      "1 -0.754829 -0.708333\n",
      "2  0.862662  0.125000\n",
      "3 -0.215666 -0.083333\n",
      "4  1.401826  1.791667\n"
     ]
    }
   ],
   "source": [
    "from sklearn.preprocessing import StandardScaler\n",
    "import pandas as pd\n",
    "\n",
    "# Sample data\n",
    "data = {'Age': [25, 30, 45, 35, 50], 'Salary': [50000, 60000, 80000, 75000, 120000]}\n",
    "df = pd.DataFrame(data)\n",
    "\n",
    "# Standardization\n",
    "scaler = StandardScaler()\n",
    "standardized_data = scaler.fit_transform(df)\n",
    "\n",
    "# Convert back to DataFrame for readability\n",
    "standardized_df = pd.DataFrame(standardized_data, columns=['Age', 'Salary'])\n",
    "print(standardized_df)\n"
   ]
  }
 ],
 "metadata": {
  "kernelspec": {
   "display_name": "venv",
   "language": "python",
   "name": "python3"
  },
  "language_info": {
   "codemirror_mode": {
    "name": "ipython",
    "version": 3
   },
   "file_extension": ".py",
   "mimetype": "text/x-python",
   "name": "python",
   "nbconvert_exporter": "python",
   "pygments_lexer": "ipython3",
   "version": "3.12.9"
  }
 },
 "nbformat": 4,
 "nbformat_minor": 5
}
