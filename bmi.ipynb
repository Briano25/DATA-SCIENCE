{
 "cells": [
  {
   "cell_type": "code",
   "execution_count": null,
   "id": "c7458eb5-813d-43b6-b2ed-d9fd3aaca752",
   "metadata": {},
   "outputs": [],
   "source": []
  }
 ],
 "metadata": {
  "kernelspec": {
   "display_name": "",
   "name": ""
  },
  "language_info": {
   "name": ""
  }
 },
 "nbformat": 4,
 "nbformat_minor": 5
}
