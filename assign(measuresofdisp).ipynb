{
 "cells": [
  {
   "cell_type": "code",
   "execution_count": null,
   "id": "d73a4dd9-361a-47f5-8a31-4bdb1dca5e0d",
   "metadata": {},
   "outputs": [],
   "source": []
  }
 ],
 "metadata": {
  "kernelspec": {
   "display_name": "",
   "name": ""
  },
  "language_info": {
   "name": ""
  }
 },
 "nbformat": 4,
 "nbformat_minor": 5
}
