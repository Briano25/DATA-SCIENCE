{
 "cells": [
  {
   "cell_type": "code",
   "execution_count": null,
   "id": "b7bae4c9-22b7-4cc9-973b-97de404b5d55",
   "metadata": {},
   "outputs": [],
   "source": []
  }
 ],
 "metadata": {
  "kernelspec": {
   "display_name": "",
   "name": ""
  },
  "language_info": {
   "name": ""
  }
 },
 "nbformat": 4,
 "nbformat_minor": 5
}
