{
 "cells": [
  {
   "cell_type": "code",
   "execution_count": null,
   "id": "5dd032c2-770b-4bd3-ad1e-7659b4d395d7",
   "metadata": {},
   "outputs": [],
   "source": []
  }
 ],
 "metadata": {
  "kernelspec": {
   "display_name": "",
   "name": ""
  },
  "language_info": {
   "name": ""
  }
 },
 "nbformat": 4,
 "nbformat_minor": 5
}
