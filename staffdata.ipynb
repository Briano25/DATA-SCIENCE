{
 "cells": [
  {
   "cell_type": "code",
   "execution_count": null,
   "id": "e2e5c4a9-bc37-4f0a-a3aa-498aa953076e",
   "metadata": {},
   "outputs": [],
   "source": []
  }
 ],
 "metadata": {
  "kernelspec": {
   "display_name": "",
   "name": ""
  },
  "language_info": {
   "name": ""
  }
 },
 "nbformat": 4,
 "nbformat_minor": 5
}
