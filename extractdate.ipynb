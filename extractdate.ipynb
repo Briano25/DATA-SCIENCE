{
 "cells": [
  {
   "cell_type": "code",
   "execution_count": 1,
   "id": "d4814814",
   "metadata": {},
   "outputs": [
    {
     "name": "stdout",
     "output_type": "stream",
     "text": [
      "    JoinDate  JoinYear  JoinMonth  JoinDay  DayOfWeek WeekdayName MonthName  \\\n",
      "0 2020-05-15      2020          5       15          4      Friday       May   \n",
      "1 2022-11-03      2022         11        3          3    Thursday  November   \n",
      "2 2021-01-25      2021          1       25          0      Monday   January   \n",
      "3 2023-12-31      2023         12       31          6      Sunday  December   \n",
      "\n",
      "   Quarter  DayOfYear  \n",
      "0        2        136  \n",
      "1        4        307  \n",
      "2        1         25  \n",
      "3        4        365  \n"
     ]
    }
   ],
   "source": [
    "import pandas as pd\n",
    "\n",
    "# Sample data\n",
    "df = pd.DataFrame({\n",
    "    'JoinDate': pd.to_datetime(['2020-05-15', '2022-11-03', '2021-01-25', '2023-12-31'])\n",
    "})\n",
    "\n",
    "# Extract date parts\n",
    "df['JoinYear'] = df['JoinDate'].dt.year\n",
    "df['JoinMonth'] = df['JoinDate'].dt.month\n",
    "df['JoinDay'] = df['JoinDate'].dt.day\n",
    "df['DayOfWeek'] = df['JoinDate'].dt.dayofweek            # 0 = Monday, 6 = Sunday\n",
    "df['WeekdayName'] = df['JoinDate'].dt.day_name()         # 'Monday', 'Tuesday', etc.\n",
    "df['MonthName'] = df['JoinDate'].dt.month_name()         # 'January', 'February', etc.\n",
    "df['Quarter'] = df['JoinDate'].dt.quarter                # 1–4\n",
    "df['DayOfYear'] = df['JoinDate'].dt.dayofyear            # 1–365 or 366\n",
    "\n",
    "# Display the result\n",
    "print(df)\n"
   ]
  }
 ],
 "metadata": {
  "kernelspec": {
   "display_name": "venv",
   "language": "python",
   "name": "python3"
  },
  "language_info": {
   "codemirror_mode": {
    "name": "ipython",
    "version": 3
   },
   "file_extension": ".py",
   "mimetype": "text/x-python",
   "name": "python",
   "nbconvert_exporter": "python",
   "pygments_lexer": "ipython3",
   "version": "3.12.9"
  }
 },
 "nbformat": 4,
 "nbformat_minor": 5
}
