{
 "cells": [
  {
   "cell_type": "code",
   "execution_count": 1,
   "id": "8577d01d-a3d6-46aa-80b5-bcbea1ec2341",
   "metadata": {},
   "outputs": [],
   "source": [
    "import pandas as pd\n",
    "import numpy as np\n",
    "\n",
    "df=pd.read_csv(r\"C:\\Users\\OJ 001\\Downloads\\health_insurance_dataset.csv\")\n"
   ]
  },
  {
   "cell_type": "code",
   "execution_count": 2,
   "id": "33548a17-1cc2-4108-a352-6875d48a5e50",
   "metadata": {},
   "outputs": [
    {
     "data": {
      "text/plain": [
       "Index(['customerID', 'age', 'gender', 'bmi', 'smoker', 'region', 'children',\n",
       "       'annual_income', 'claim_history', 'annual_premium', 'high_cost_claim'],\n",
       "      dtype='object')"
      ]
     },
     "execution_count": 2,
     "metadata": {},
     "output_type": "execute_result"
    }
   ],
   "source": [
    "df.columns"
   ]
  },
  {
   "cell_type": "code",
   "execution_count": 5,
   "id": "e7b4c407-90d7-4fbb-85ef-cd81e275fac5",
   "metadata": {},
   "outputs": [
    {
     "name": "stdout",
     "output_type": "stream",
     "text": [
      "The dataset has (1000, 11) rows and columns respectively\n"
     ]
    }
   ],
   "source": [
    "print(f'The dataset has {df.shape} rows and columns respectively')"
   ]
  },
  {
   "cell_type": "code",
   "execution_count": 7,
   "id": "90038f3d-ba98-4bae-abb6-60ad4690ce88",
   "metadata": {},
   "outputs": [
    {
     "data": {
      "text/plain": [
       "0"
      ]
     },
     "execution_count": 7,
     "metadata": {},
     "output_type": "execute_result"
    }
   ],
   "source": [
    "df.duplicated(subset=['customerID']).sum()\n"
   ]
  },
  {
   "cell_type": "code",
   "execution_count": 9,
   "id": "b55fce7e-349c-43bf-8d90-38e87958bb0a",
   "metadata": {},
   "outputs": [],
   "source": [
    "df.drop_duplicates(inplace=True)\n"
   ]
  },
  {
   "cell_type": "code",
   "execution_count": 11,
   "id": "3ebb1056-a7cc-4a11-bd88-2bced8897f38",
   "metadata": {},
   "outputs": [],
   "source": [
    "df.columns = df.columns.str.strip().str.title()\n",
    "#print(df.head())\n"
   ]
  },
  {
   "cell_type": "code",
   "execution_count": 13,
   "id": "3d74686c-3d06-4eb7-8418-aa7f38a92f37",
   "metadata": {},
   "outputs": [
    {
     "data": {
      "text/plain": [
       "Index(['Customerid', 'Age', 'Gender', 'Bmi', 'Smoker', 'Region', 'Children',\n",
       "       'Annual_Income', 'Claim_History', 'Annual_Premium', 'High_Cost_Claim'],\n",
       "      dtype='object')"
      ]
     },
     "execution_count": 13,
     "metadata": {},
     "output_type": "execute_result"
    }
   ],
   "source": [
    "df.columns"
   ]
  },
  {
   "cell_type": "code",
   "execution_count": 15,
   "id": "35f93260-2e36-45e3-b76f-fe328404362c",
   "metadata": {},
   "outputs": [
    {
     "data": {
      "text/html": [
       "<div>\n",
       "<style scoped>\n",
       "    .dataframe tbody tr th:only-of-type {\n",
       "        vertical-align: middle;\n",
       "    }\n",
       "\n",
       "    .dataframe tbody tr th {\n",
       "        vertical-align: top;\n",
       "    }\n",
       "\n",
       "    .dataframe thead th {\n",
       "        text-align: right;\n",
       "    }\n",
       "</style>\n",
       "<table border=\"1\" class=\"dataframe\">\n",
       "  <thead>\n",
       "    <tr style=\"text-align: right;\">\n",
       "      <th></th>\n",
       "      <th>Age</th>\n",
       "      <th>Bmi</th>\n",
       "      <th>Children</th>\n",
       "      <th>Annual_Income</th>\n",
       "      <th>Claim_History</th>\n",
       "      <th>Annual_Premium</th>\n",
       "    </tr>\n",
       "  </thead>\n",
       "  <tbody>\n",
       "    <tr>\n",
       "      <th>count</th>\n",
       "      <td>1000.00000</td>\n",
       "      <td>1000.000000</td>\n",
       "      <td>1000.00000</td>\n",
       "      <td>1000.000000</td>\n",
       "      <td>1000.000000</td>\n",
       "      <td>1000.000000</td>\n",
       "    </tr>\n",
       "    <tr>\n",
       "      <th>mean</th>\n",
       "      <td>43.81900</td>\n",
       "      <td>28.402000</td>\n",
       "      <td>2.04700</td>\n",
       "      <td>75309.880000</td>\n",
       "      <td>1.915000</td>\n",
       "      <td>7517.134000</td>\n",
       "    </tr>\n",
       "    <tr>\n",
       "      <th>std</th>\n",
       "      <td>14.99103</td>\n",
       "      <td>4.966236</td>\n",
       "      <td>1.39382</td>\n",
       "      <td>26453.769263</td>\n",
       "      <td>1.305174</td>\n",
       "      <td>2642.875681</td>\n",
       "    </tr>\n",
       "    <tr>\n",
       "      <th>min</th>\n",
       "      <td>18.00000</td>\n",
       "      <td>13.400000</td>\n",
       "      <td>0.00000</td>\n",
       "      <td>30060.000000</td>\n",
       "      <td>0.000000</td>\n",
       "      <td>3011.000000</td>\n",
       "    </tr>\n",
       "    <tr>\n",
       "      <th>25%</th>\n",
       "      <td>31.00000</td>\n",
       "      <td>25.000000</td>\n",
       "      <td>1.00000</td>\n",
       "      <td>52963.500000</td>\n",
       "      <td>1.000000</td>\n",
       "      <td>5236.000000</td>\n",
       "    </tr>\n",
       "    <tr>\n",
       "      <th>50%</th>\n",
       "      <td>44.00000</td>\n",
       "      <td>28.400000</td>\n",
       "      <td>2.00000</td>\n",
       "      <td>74189.500000</td>\n",
       "      <td>2.000000</td>\n",
       "      <td>7671.000000</td>\n",
       "    </tr>\n",
       "    <tr>\n",
       "      <th>75%</th>\n",
       "      <td>56.00000</td>\n",
       "      <td>31.700000</td>\n",
       "      <td>3.00000</td>\n",
       "      <td>98635.500000</td>\n",
       "      <td>3.000000</td>\n",
       "      <td>9785.500000</td>\n",
       "    </tr>\n",
       "    <tr>\n",
       "      <th>max</th>\n",
       "      <td>69.00000</td>\n",
       "      <td>44.000000</td>\n",
       "      <td>4.00000</td>\n",
       "      <td>119962.000000</td>\n",
       "      <td>8.000000</td>\n",
       "      <td>11998.000000</td>\n",
       "    </tr>\n",
       "  </tbody>\n",
       "</table>\n",
       "</div>"
      ],
      "text/plain": [
       "              Age          Bmi    Children  Annual_Income  Claim_History  \\\n",
       "count  1000.00000  1000.000000  1000.00000    1000.000000    1000.000000   \n",
       "mean     43.81900    28.402000     2.04700   75309.880000       1.915000   \n",
       "std      14.99103     4.966236     1.39382   26453.769263       1.305174   \n",
       "min      18.00000    13.400000     0.00000   30060.000000       0.000000   \n",
       "25%      31.00000    25.000000     1.00000   52963.500000       1.000000   \n",
       "50%      44.00000    28.400000     2.00000   74189.500000       2.000000   \n",
       "75%      56.00000    31.700000     3.00000   98635.500000       3.000000   \n",
       "max      69.00000    44.000000     4.00000  119962.000000       8.000000   \n",
       "\n",
       "       Annual_Premium  \n",
       "count     1000.000000  \n",
       "mean      7517.134000  \n",
       "std       2642.875681  \n",
       "min       3011.000000  \n",
       "25%       5236.000000  \n",
       "50%       7671.000000  \n",
       "75%       9785.500000  \n",
       "max      11998.000000  "
      ]
     },
     "execution_count": 15,
     "metadata": {},
     "output_type": "execute_result"
    }
   ],
   "source": [
    "df.describe()"
   ]
  },
  {
   "cell_type": "code",
   "execution_count": 17,
   "id": "17ad2216-07b9-41bc-bb80-fe4c52336493",
   "metadata": {},
   "outputs": [
    {
     "data": {
      "text/plain": [
       "Customerid         0\n",
       "Age                0\n",
       "Gender             0\n",
       "Bmi                0\n",
       "Smoker             0\n",
       "Region             0\n",
       "Children           0\n",
       "Annual_Income      0\n",
       "Claim_History      0\n",
       "Annual_Premium     0\n",
       "High_Cost_Claim    0\n",
       "dtype: int64"
      ]
     },
     "execution_count": 17,
     "metadata": {},
     "output_type": "execute_result"
    }
   ],
   "source": [
    "df.isnull().sum()"
   ]
  },
  {
   "cell_type": "code",
   "execution_count": 60,
   "id": "5eea5039-6520-4d15-a2c4-17f60918dfe9",
   "metadata": {},
   "outputs": [
    {
     "data": {
      "text/plain": [
       "0"
      ]
     },
     "execution_count": 60,
     "metadata": {},
     "output_type": "execute_result"
    }
   ],
   "source": [
    "df['Customerid'].isnull().sum()"
   ]
  },
  {
   "cell_type": "code",
   "execution_count": 19,
   "id": "ef2c63b8-1e5e-4805-a764-98a80e98fb43",
   "metadata": {},
   "outputs": [
    {
     "data": {
      "text/plain": [
       "array(['Male', 'Female'], dtype=object)"
      ]
     },
     "execution_count": 19,
     "metadata": {},
     "output_type": "execute_result"
    }
   ],
   "source": [
    "df['Gender'].unique()"
   ]
  },
  {
   "cell_type": "code",
   "execution_count": 21,
   "id": "28db913b-5ef7-4956-8977-4674e7479f78",
   "metadata": {},
   "outputs": [
    {
     "data": {
      "text/plain": [
       "Gender\n",
       "Male      524\n",
       "Female    476\n",
       "Name: count, dtype: int64"
      ]
     },
     "execution_count": 21,
     "metadata": {},
     "output_type": "execute_result"
    }
   ],
   "source": [
    "df['Gender'].value_counts()"
   ]
  },
  {
   "cell_type": "code",
   "execution_count": 28,
   "id": "f060efde-3695-45bb-985e-05aa28714036",
   "metadata": {},
   "outputs": [
    {
     "data": {
      "image/png": "[encoded data removed]",
      "text/plain": [
       "<Figure size 1500x800 with 6 Axes>"
      ]
     },
     "metadata": {},
     "output_type": "display_data"
    },
    {
     "name": "stdout",
     "output_type": "stream",
     "text": [
      "\n",
      "🔎 Outliers in Age: 0 rows\n",
      "\n",
      "🔎 Outliers in Bmi: 6 rows\n",
      "    Customerid   Bmi\n",
      "183      H0184  13.8\n",
      "223      H0224  13.5\n",
      "661      H0662  13.6\n",
      "713      H0714  13.4\n",
      "737      H0738  44.0\n",
      "\n",
      "🔎 Outliers in Children: 0 rows\n",
      "\n",
      "🔎 Outliers in Annual_Income: 0 rows\n",
      "\n",
      "🔎 Outliers in Claim_History: 1 rows\n",
      "    Customerid  Claim_History\n",
      "353      H0354              8\n",
      "\n",
      "🔎 Outliers in Annual_Premium: 0 rows\n"
     ]
    }
   ],
   "source": [
    "import matplotlib.pyplot as plt\n",
    "import seaborn as sns\n",
    "\n",
    "# Select numeric columns\n",
    "num_cols = [\"Age\", \"Bmi\", \"Children\", \"Annual_Income\", \"Claim_History\", \"Annual_Premium\"]\n",
    "\n",
    "# 1. Boxplots for quick visual check\n",
    "plt.figure(figsize=(15, 8))\n",
    "for i, col in enumerate(num_cols, 1):\n",
    "    plt.subplot(2, 3, i)\n",
    "    sns.boxplot(y=df[col], color=\"skyblue\")\n",
    "    plt.title(f\"Boxplot of {col}\")\n",
    "plt.tight_layout()\n",
    "plt.show()\n",
    "\n",
    "\n",
    "# 2. Function to detect outliers using IQR\n",
    "def detect_outliers_iqr(data, column):\n",
    "    Q1 = data[column].quantile(0.25)\n",
    "    Q3 = data[column].quantile(0.75)\n",
    "    IQR = Q3 - Q1\n",
    "    lower_bound = Q1 - 1.5 * IQR\n",
    "    upper_bound = Q3 + 1.5 * IQR\n",
    "    \n",
    "    # Boolean mask for outliers\n",
    "    outliers = data[(data[column] < lower_bound) | (data[column] > upper_bound)]\n",
    "    return outliers\n",
    "\n",
    "\n",
    "# 3. Detect outliers column by column\n",
    "for col in num_cols:\n",
    "    outliers = detect_outliers_iqr(df, col)\n",
    "    print(f\"\\n🔎 Outliers in {col}: {len(outliers)} rows\")\n",
    "    if not outliers.empty:\n",
    "        print(outliers[[\"Customerid\", col]].head())  # show first few with ID\n"
   ]
  },
  {
   "cell_type": "code",
   "execution_count": null,
   "id": "898d4d88-ef5e-4be1-8914-cb5ecf1de64a",
   "metadata": {},
   "outputs": [],
   "source": []
  },
  {
   "cell_type": "code",
   "execution_count": 31,
   "id": "356659fb-8f2b-42b3-966a-b5a99187d4ff",
   "metadata": {},
   "outputs": [
    {
     "name": "stdout",
     "output_type": "stream",
     "text": [
      "BMI lower bound: 14.95, upper bound: 41.75\n"
     ]
    }
   ],
   "source": [
    "Q1 = df[\"Bmi\"].quantile(0.25)\n",
    "Q3 = df[\"Bmi\"].quantile(0.75)\n",
    "IQR = Q3 - Q1\n",
    "\n",
    "lower_bound = Q1 - 1.5 * IQR\n",
    "upper_bound = Q3 + 1.5 * IQR\n",
    "\n",
    "print(f\"BMI lower bound: {lower_bound:.2f}, upper bound: {upper_bound:.2f}\")\n"
   ]
  },
  {
   "cell_type": "code",
   "execution_count": 37,
   "id": "4777f11e-b403-4da6-9ea0-9e7051f2ffbc",
   "metadata": {},
   "outputs": [],
   "source": [
    "#We use winsorization (replace outliers with nearest valid bound)\n",
    "\n",
    "df[\"Bmi\"] = np.where(df[\"Bmi\"] < lower_bound, lower_bound,\n",
    "              np.where(df[\"Bmi\"] > upper_bound, upper_bound, df[\"Bmi\"]))\n",
    "\n",
    "\n",
    "#If BMI is below the lower bound → replace with lower bound.\n",
    "\n",
    "#If BMI is above the upper bound → replace with upper bound.\n",
    "\n",
    "#Otherwise → keep the value."
   ]
  },
  {
   "cell_type": "code",
   "execution_count": 39,
   "id": "a6ef09f5-831b-42df-9c71-6b615be10186",
   "metadata": {},
   "outputs": [
    {
     "name": "stdout",
     "output_type": "stream",
     "text": [
      "count    1000.000000\n",
      "mean       28.405700\n",
      "std         4.942691\n",
      "min        14.950000\n",
      "25%        25.000000\n",
      "50%        28.400000\n",
      "75%        31.700000\n",
      "max        41.750000\n",
      "Name: Bmi, dtype: float64\n"
     ]
    }
   ],
   "source": [
    "#confirming application\n",
    "print(df[\"Bmi\"].describe())\n"
   ]
  },
  {
   "cell_type": "code",
   "execution_count": 41,
   "id": "2f8abd75-f4b8-48ce-8acd-60b88ae4fff5",
   "metadata": {},
   "outputs": [
    {
     "data": {
      "image/png": "[encoded data removed]",
      "text/plain": [
       "<Figure size 600x400 with 1 Axes>"
      ]
     },
     "metadata": {},
     "output_type": "display_data"
    },
    {
     "name": "stdout",
     "output_type": "stream",
     "text": [
      "count    1000.000000\n",
      "mean       28.405700\n",
      "std         4.942691\n",
      "min        14.950000\n",
      "25%        25.000000\n",
      "50%        28.400000\n",
      "75%        31.700000\n",
      "max        41.750000\n",
      "Name: Bmi, dtype: float64\n"
     ]
    }
   ],
   "source": [
    "#a box plot after capping \n",
    "\n",
    "import matplotlib.pyplot as plt\n",
    "\n",
    "plt.figure(figsize=(6, 4))\n",
    "\n",
    "# Boxplot for BMI after capping\n",
    "df[\"Bmi\"].plot(kind=\"box\", vert=False)\n",
    "plt.title(\"Boxplot of BMI After Outlier Treatment\")\n",
    "plt.xlabel(\"BMI\")\n",
    "plt.show()\n",
    "\n",
    "# Also check the summary stats\n",
    "print(df[\"Bmi\"].describe())\n"
   ]
  },
  {
   "cell_type": "code",
   "execution_count": null,
   "id": "3b3d6bdf-9fd5-4ecf-9fc4-05012762b722",
   "metadata": {},
   "outputs": [],
   "source": []
  }
 ],
 "metadata": {
  "kernelspec": {
   "display_name": "Python [conda env:base] *",
   "language": "python",
   "name": "conda-base-py"
  },
  "language_info": {
   "codemirror_mode": {
    "name": "ipython",
    "version": 3
   },
   "file_extension": ".py",
   "mimetype": "text/x-python",
   "name": "python",
   "nbconvert_exporter": "python",
   "pygments_lexer": "ipython3",
   "version": "3.12.7"
  }
 },
 "nbformat": 4,
 "nbformat_minor": 5
}
