{
 "cells": [
  {
   "cell_type": "code",
   "execution_count": null,
   "id": "7d093bbd-2674-4304-b031-3d64de99dc54",
   "metadata": {},
   "outputs": [],
   "source": []
  }
 ],
 "metadata": {
  "kernelspec": {
   "display_name": "",
   "name": ""
  },
  "language_info": {
   "name": ""
  }
 },
 "nbformat": 4,
 "nbformat_minor": 5
}
