{
 "cells": [
  {
   "cell_type": "code",
   "execution_count": null,
   "id": "c445c5e0-8243-4211-b33a-7bd51c72b61d",
   "metadata": {},
   "outputs": [],
   "source": []
  }
 ],
 "metadata": {
  "kernelspec": {
   "display_name": "",
   "name": ""
  },
  "language_info": {
   "name": ""
  }
 },
 "nbformat": 4,
 "nbformat_minor": 5
}
