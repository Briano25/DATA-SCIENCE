{
 "cells": [
  {
   "cell_type": "code",
   "execution_count": null,
   "id": "aaf3152d-0fea-4e39-98ab-9742d0cc8ec1",
   "metadata": {},
   "outputs": [],
   "source": []
  }
 ],
 "metadata": {
  "kernelspec": {
   "display_name": "",
   "name": ""
  },
  "language_info": {
   "name": ""
  }
 },
 "nbformat": 4,
 "nbformat_minor": 5
}
