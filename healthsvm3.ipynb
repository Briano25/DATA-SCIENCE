{
 "cells": [
  {
   "cell_type": "code",
   "execution_count": null,
   "id": "21c94d68-6f10-4aa0-8d9d-c26482b56037",
   "metadata": {},
   "outputs": [],
   "source": []
  }
 ],
 "metadata": {
  "kernelspec": {
   "display_name": "",
   "name": ""
  },
  "language_info": {
   "name": ""
  }
 },
 "nbformat": 4,
 "nbformat_minor": 5
}
