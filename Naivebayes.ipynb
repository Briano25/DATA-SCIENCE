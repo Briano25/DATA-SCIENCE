{
 "cells": [
  {
   "cell_type": "code",
   "execution_count": null,
   "id": "8ef68575",
   "metadata": {},
   "outputs": [
    {
     "name": "stdout",
     "output_type": "stream",
     "text": [
      "Model Accuracy: 0.77\n",
      "\n",
      "Enter patient data to predict diabetes:\n"
     ]
    }
   ],
   "source": [
    "import pandas as pd\n",
    "from sklearn.model_selection import train_test_split\n",
    "from sklearn.naive_bayes import GaussianNB\n",
    "from sklearn.metrics import accuracy_score\n",
    "\n",
    "# Step 1: Load the dataset\n",
    "url = \"https://raw.githubusercontent.com/jbrownlee/Datasets/master/pima-indians-diabetes.data.csv\"\n",
    "columns = ['Pregnancies', 'Glucose', 'BloodPressure', 'SkinThickness', 'Insulin',\n",
    "           'BMI', 'DiabetesPedigreeFunction', 'Age', 'Outcome']\n",
    "df = pd.read_csv(url, names=columns)\n",
    "\n",
    "# Step 2: Prepare the data\n",
    "X = df.drop('Outcome', axis=1)\n",
    "y = df['Outcome']\n",
    "\n",
    "# Step 3: Split into train and test sets\n",
    "X_train, X_test, y_train, y_test = train_test_split(X, y, test_size=0.2, random_state=42)\n",
    "\n",
    "# Step 4: Train the Naive Bayes model\n",
    "model = GaussianNB()\n",
    "model.fit(X_train, y_train)\n",
    "\n",
    "# Step 5: Evaluate accuracy (optional)\n",
    "accuracy = accuracy_score(y_test, model.predict(X_test))\n",
    "print(f\"Model Accuracy: {accuracy:.2f}\")\n",
    "\n",
    "# Step 6: Accept user input\n",
    "print(\"\\nEnter patient data to predict diabetes:\")\n",
    "\n",
    "user_data = []\n",
    "user_data.append(float(input(\"Pregnancies (e.g. 2): \")))\n",
    "user_data.append(float(input(\"Glucose Level (e.g. 120): \")))\n",
    "user_data.append(float(input(\"Blood Pressure (e.g. 70): \")))\n",
    "user_data.append(float(input(\"Skin Thickness (e.g. 20): \")))\n",
    "user_data.append(float(input(\"Insulin Level (e.g. 85): \")))\n",
    "user_data.append(float(input(\"BMI (e.g. 28.5): \")))\n",
    "user_data.append(float(input(\"Diabetes Pedigree Function (e.g. 0.45): \")))\n",
    "user_data.append(float(input(\"Age (e.g. 32): \")))\n",
    "\n",
    "# Step 7: Make prediction\n",
    "prediction = model.predict([user_data])[0]\n",
    "\n",
    "# Step 8: Output result\n",
    "if prediction == 1:\n",
    "    print(\"\\n🚨 Prediction: The patient is likely to have **diabetes**.\")\n",
    "else:\n",
    "    print(\"\\n✅ Prediction: The patient is **not likely** to have diabetes.\")\n"
   ]
  }
 ],
 "metadata": {
  "kernelspec": {
   "display_name": "venv",
   "language": "python",
   "name": "python3"
  },
  "language_info": {
   "codemirror_mode": {
    "name": "ipython",
    "version": 3
   },
   "file_extension": ".py",
   "mimetype": "text/x-python",
   "name": "python",
   "nbconvert_exporter": "python",
   "pygments_lexer": "ipython3",
   "version": "3.12.9"
  }
 },
 "nbformat": 4,
 "nbformat_minor": 5
}
