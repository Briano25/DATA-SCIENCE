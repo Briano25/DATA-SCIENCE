{
 "cells": [
  {
   "cell_type": "code",
   "execution_count": 3,
   "id": "f6f4da6b",
   "metadata": {},
   "outputs": [
    {
     "name": "stdout",
     "output_type": "stream",
     "text": [
      "   Hours_Studied  Score  Pass\n",
      "0              1     30     0\n",
      "1              2     35     0\n",
      "2              3     40     0\n",
      "3              4     45     0\n",
      "4              5     49     0\n",
      "5              6     55     1\n",
      "6              7     60     1\n",
      "7              8     65     1\n",
      "8              9     70     1\n",
      "9             10     80     1\n",
      "Predicted Score: 58.18\n",
      "Predicted Pass (1=Yes, 0=No): 1\n"
     ]
    },
    {
     "name": "stderr",
     "output_type": "stream",
     "text": [
      "c:\\Users\\OJ 001\\Desktop\\DataScience\\venv\\Lib\\site-packages\\sklearn\\utils\\validation.py:2749: UserWarning: X does not have valid feature names, but LinearRegression was fitted with feature names\n",
      "  warnings.warn(\n",
      "c:\\Users\\OJ 001\\Desktop\\DataScience\\venv\\Lib\\site-packages\\sklearn\\utils\\validation.py:2749: UserWarning: X does not have valid feature names, but LogisticRegression was fitted with feature names\n",
      "  warnings.warn(\n"
     ]
    }
   ],
   "source": [
    "import pandas as pd\n",
    "\n",
    "# Create a simple dataset\n",
    "data = {\n",
    "    'Hours_Studied': [1, 2, 3, 4, 5, 6, 7, 8, 9, 10],\n",
    "    'Score': [30, 35, 40, 45, 49, 55, 60, 65, 70, 80]\n",
    "}\n",
    "\n",
    "df = pd.DataFrame(data)\n",
    "\n",
    "# Create a classification label: Pass = 1 if score >= 50\n",
    "df['Pass'] = df['Score'].apply(lambda x: 1 if x >= 50 else 0)\n",
    "\n",
    "print(df)\n",
    "\n",
    "from sklearn.linear_model import LinearRegression\n",
    "\n",
    "# Features and target\n",
    "X = df[['Hours_Studied']]\n",
    "y_reg = df['Score']\n",
    "\n",
    "# Create and train model\n",
    "reg_model = LinearRegression()\n",
    "reg_model.fit(X, y_reg)\n",
    "\n",
    "# Predict score for 6.5 study hours\n",
    "predicted_score = reg_model.predict([[6.5]])\n",
    "print(f\"Predicted Score: {predicted_score[0]:.2f}\")\n",
    "\n",
    "#Classfication with the same dataset\n",
    "from sklearn.linear_model import LogisticRegression\n",
    "\n",
    "# Features and target\n",
    "y_clf = df['Pass']\n",
    "\n",
    "# Create and train model\n",
    "clf_model = LogisticRegression()\n",
    "clf_model.fit(X, y_clf)\n",
    "\n",
    "# Predict if student passes with 6.5 hours of study\n",
    "predicted_class = clf_model.predict([[6.5]])\n",
    "print(f\"Predicted Pass (1=Yes, 0=No): {predicted_class[0]}\")\n",
    "\n",
    "\n"
   ]
  }
 ],
 "metadata": {
  "kernelspec": {
   "display_name": "venv",
   "language": "python",
   "name": "python3"
  },
  "language_info": {
   "codemirror_mode": {
    "name": "ipython",
    "version": 3
   },
   "file_extension": ".py",
   "mimetype": "text/x-python",
   "name": "python",
   "nbconvert_exporter": "python",
   "pygments_lexer": "ipython3",
   "version": "3.12.9"
  }
 },
 "nbformat": 4,
 "nbformat_minor": 5
}
