{
 "cells": [
  {
   "cell_type": "markdown",
   "id": "2d75bdb3-a376-416d-aace-32ffd105e43e",
   "metadata": {},
   "source": [
    "Step 1: Import Required Libraries"
   ]
  },
  {
   "cell_type": "code",
   "execution_count": 2,
   "id": "7cb4e428-b481-45cc-a071-c85c424e467c",
   "metadata": {},
   "outputs": [],
   "source": [
    "import pandas as pd\n",
    "import numpy as np\n"
   ]
  },
  {
   "cell_type": "markdown",
   "id": "471815ef-4a17-4e28-b037-ecb680486926",
   "metadata": {},
   "source": [
    "Step 2: Load the Dataset"
   ]
  },
  {
   "cell_type": "code",
   "execution_count": null,
   "id": "e2fbcb3d-f0cf-4503-9c9a-5315441a3bb6",
   "metadata": {},
   "outputs": [],
   "source": [
    "df = pd.read_csv('students_scores.csv')\n",
    "print(df.head())  #prnts the first 5 rows of thedata\n",
    "print(df.tail())  #prints the last 5 rows of the data\n"
   ]
  },
  {
   "cell_type": "markdown",
   "id": "0a41c1bc-9d9e-4807-97d3-0a9b62abf04a",
   "metadata": {},
   "source": [
    "Step 3: Inspect the Data"
   ]
  },
  {
   "cell_type": "code",
   "execution_count": null,
   "id": "5807d16b-783c-4be7-9bd7-1a869c9d22e5",
   "metadata": {},
   "outputs": [],
   "source": [
    "print(df.info())    #shows data types and the number of non-null values.\n",
    "print(df.describe()) #gives summary stats (mean, std, min, max) for numeric columns.\n",
    "print(df.columns)   #lists the column names.\n"
   ]
  },
  {
   "cell_type": "markdown",
   "id": "bb5ee903-b999-46b5-8e1c-177f1a051909",
   "metadata": {},
   "source": [
    "Step 4: Handling Missing Values"
   ]
  },
  {
   "cell_type": "code",
   "execution_count": null,
   "id": "b2d555b5-04b2-4f38-a98f-9d0aac7b0476",
   "metadata": {},
   "outputs": [],
   "source": [
    "#Check for missing values"
   ]
  },
  {
   "cell_type": "code",
   "execution_count": null,
   "id": "3814a315-e3a4-4c42-8469-7cce854f9156",
   "metadata": {},
   "outputs": [],
   "source": [
    "print(df.isnull().sum())  #returns True for missing values   #adds up how many NaNs are in each column.\n"
   ]
  },
  {
   "cell_type": "code",
   "execution_count": null,
   "id": "a41455b0-be09-4346-a238-cfc0ae555ca2",
   "metadata": {},
   "outputs": [],
   "source": [
    "#Drop rows with missing values (if very few)"
   ]
  },
  {
   "cell_type": "code",
   "execution_count": null,
   "id": "9d5ed8ea-54a0-40ac-bf27-3d370f7b74be",
   "metadata": {},
   "outputs": [],
   "source": [
    "df = df.dropna()\n"
   ]
  },
  {
   "cell_type": "markdown",
   "id": "8520bd53-010f-472e-9642-598e366a889f",
   "metadata": {},
   "source": [
    "#OR fill missing values (if many missing)"
   ]
  },
  {
   "cell_type": "code",
   "execution_count": null,
   "id": "f15d11be-9460-4593-8a5a-7767b1ab8880",
   "metadata": {},
   "outputs": [],
   "source": [
    "df['Math'] = df['Math'].fillna(df['Math'].mean())  #replaces NaNs with the column mean (can also use median, mode, etc.).\n"
   ]
  },
  {
   "cell_type": "markdown",
   "id": "25228453-721a-471e-8a74-a2318ac7fe4d",
   "metadata": {},
   "source": [
    "Step 5: Convert Data Types"
   ]
  },
  {
   "cell_type": "code",
   "execution_count": null,
   "id": "ba058706-595c-4902-9790-0431264104a7",
   "metadata": {},
   "outputs": [],
   "source": [
    "df['Age'] = pd.to_numeric(df['Age'], errors='coerce')  # Convert to numeric\n",
    "df['Date'] = pd.to_datetime(df['Date'], errors='coerce')  # Convert to datetime\n",
    "\n",
    "#errors='coerce' turns bad data into NaN, which we can fix later."
   ]
  },
  {
   "cell_type": "markdown",
   "id": "27944a44-a2e3-4d15-b5b0-bb4ac06968a3",
   "metadata": {},
   "source": [
    "Step 6: Remove Duplicates\n"
   ]
  },
  {
   "cell_type": "code",
   "execution_count": null,
   "id": "2b2f431a-d86f-4ba4-b2a4-64e2f2e7455e",
   "metadata": {},
   "outputs": [],
   "source": [
    "df = df.drop_duplicates()  #Drops any repeated rows in the dataset.\n"
   ]
  },
  {
   "cell_type": "code",
   "execution_count": null,
   "id": "544e7e33-e9f4-4dc1-93fb-33540b241434",
   "metadata": {},
   "outputs": [],
   "source": [
    "Step 7: Clean Text Columns"
   ]
  },
  {
   "cell_type": "code",
   "execution_count": null,
   "id": "ba2e2dc9-34d3-44a3-8add-a5aa51addf24",
   "metadata": {},
   "outputs": [],
   "source": [
    "df['Name'] = df['Name'].str.strip()  #  to remove extra whitespace.\n",
    "df['Gender'] = df['Gender'].str.title()  # makes the first letter uppercase for consistency.\n",
    "\n"
   ]
  },
  {
   "cell_type": "markdown",
   "id": "f7e825bd-c124-4b66-b605-e44f7064d28e",
   "metadata": {},
   "source": [
    " Step 8: Rename Columns (if needed)"
   ]
  },
  {
   "cell_type": "code",
   "execution_count": null,
   "id": "a8507ee4-4893-45a8-a0d7-2ef4b02b9779",
   "metadata": {},
   "outputs": [],
   "source": [
    "df.rename(columns={'Math Score': 'Math', 'Eng Score': 'English'}, inplace=True)\n",
    "#Renames columns to simpler or more consistent names."
   ]
  },
  {
   "cell_type": "markdown",
   "id": "e4ab9b47-dd0b-41e2-8cb9-a742096f3b1d",
   "metadata": {},
   "source": [
    "Step 9: Handle Outliers"
   ]
  },
  {
   "cell_type": "code",
   "execution_count": null,
   "id": "58f50363-d0bf-483f-9fa0-2b0076b9d6d0",
   "metadata": {},
   "outputs": [],
   "source": [
    "q1 = df['Math'].quantile(0.25)\n",
    "q3 = df['Math'].quantile(0.75)\n",
    "iqr = q3 - q1\n",
    "\n",
    "lower_bound = q1 - 1.5 * iqr\n",
    "upper_bound = q3 + 1.5 * iqr\n",
    "\n",
    "df = df[(df['Math'] >= lower_bound) & (df['Math'] <= upper_bound)]\n",
    "\n",
    "#This removes outliers using the Interquartile Range (IQR) method.\n",
    "\n"
   ]
  },
  {
   "cell_type": "markdown",
   "id": "9689e65a-74dd-4c96-a7ca-b3f59b2be985",
   "metadata": {},
   "source": [
    "Step 10: Save the Cleaned Data"
   ]
  },
  {
   "cell_type": "code",
   "execution_count": null,
   "id": "59909bee-47ea-4797-9d3c-bfe2e1988d95",
   "metadata": {},
   "outputs": [],
   "source": [
    "df.to_csv('cleaned_students_scores.csv', index=False)   #Saves the cleaned dataset to a new file.\n"
   ]
  }
 ],
 "metadata": {
  "kernelspec": {
   "display_name": "Python [conda env:base] *",
   "language": "python",
   "name": "conda-base-py"
  },
  "language_info": {
   "codemirror_mode": {
    "name": "ipython",
    "version": 3
   },
   "file_extension": ".py",
   "mimetype": "text/x-python",
   "name": "python",
   "nbconvert_exporter": "python",
   "pygments_lexer": "ipython3",
   "version": "3.12.7"
  }
 },
 "nbformat": 4,
 "nbformat_minor": 5
}
