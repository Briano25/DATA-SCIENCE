{
 "cells": [
  {
   "cell_type": "code",
   "execution_count": null,
   "id": "df4bc281-eb41-4c98-aafa-631d935bc160",
   "metadata": {},
   "outputs": [],
   "source": []
  }
 ],
 "metadata": {
  "kernelspec": {
   "display_name": "",
   "name": ""
  },
  "language_info": {
   "name": ""
  }
 },
 "nbformat": 4,
 "nbformat_minor": 5
}
