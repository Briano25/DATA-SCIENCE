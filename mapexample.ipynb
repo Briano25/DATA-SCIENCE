{
 "cells": [
  {
   "cell_type": "code",
   "execution_count": 5,
   "id": "2f3b3b15-9a3d-4188-a8d7-1fc4b05c76f2",
   "metadata": {},
   "outputs": [
    {
     "name": "stdout",
     "output_type": "stream",
     "text": [
      "   Gender  Score  Gender_encoded Grade\n",
      "0    Male     88               1     B\n",
      "1  Female     95               0     A\n",
      "2  Female     67               0     C\n",
      "3    Male     74               1     C\n"
     ]
    }
   ],
   "source": [
    "import pandas as pd\n",
    "\n",
    "df = pd.DataFrame({\n",
    "    'Gender': ['Male', 'Female', 'Female', 'Male'],\n",
    "    'Score': [88, 95, 67, 74]\n",
    "})\n",
    "\n",
    "# Encode Gender\n",
    "df['Gender_encoded'] = df['Gender'].map({'Male': 1, 'Female': 0})\n",
    "\n",
    "# Grade scores\n",
    "df['Grade'] = df['Score'].map(lambda x: 'A' if x >= 90 else ('B' if x >= 75 else 'C'))\n",
    "\n",
    "print(df)\n"
   ]
  },
  {
   "cell_type": "code",
   "execution_count": null,
   "id": "b7484cde-d381-4da4-97df-6a1ba99ef174",
   "metadata": {},
   "outputs": [],
   "source": []
  }
 ],
 "metadata": {
  "kernelspec": {
   "display_name": "Python [conda env:base] *",
   "language": "python",
   "name": "conda-base-py"
  },
  "language_info": {
   "codemirror_mode": {
    "name": "ipython",
    "version": 3
   },
   "file_extension": ".py",
   "mimetype": "text/x-python",
   "name": "python",
   "nbconvert_exporter": "python",
   "pygments_lexer": "ipython3",
   "version": "3.12.7"
  }
 },
 "nbformat": 4,
 "nbformat_minor": 5
}
