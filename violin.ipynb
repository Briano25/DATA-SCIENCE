{
 "cells": [
  {
   "cell_type": "code",
   "execution_count": null,
   "id": "9638bf69-c15b-4fe8-8af2-1fc27c9f506a",
   "metadata": {},
   "outputs": [],
   "source": []
  }
 ],
 "metadata": {
  "kernelspec": {
   "display_name": "",
   "name": ""
  },
  "language_info": {
   "name": ""
  }
 },
 "nbformat": 4,
 "nbformat_minor": 5
}
