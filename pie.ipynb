{
 "cells": [
  {
   "cell_type": "code",
   "execution_count": null,
   "id": "e754ae84-de62-4af8-91bc-6923076a3a5d",
   "metadata": {},
   "outputs": [],
   "source": []
  }
 ],
 "metadata": {
  "kernelspec": {
   "display_name": "",
   "name": ""
  },
  "language_info": {
   "name": ""
  }
 },
 "nbformat": 4,
 "nbformat_minor": 5
}
