{
 "cells": [
  {
   "cell_type": "code",
   "execution_count": null,
   "id": "53f469d9-088f-43d2-879a-3a4d6cb4cee2",
   "metadata": {},
   "outputs": [],
   "source": []
  }
 ],
 "metadata": {
  "kernelspec": {
   "display_name": "",
   "name": ""
  },
  "language_info": {
   "name": ""
  }
 },
 "nbformat": 4,
 "nbformat_minor": 5
}
