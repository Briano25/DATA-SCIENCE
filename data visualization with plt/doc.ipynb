{
 "cells": [
  {
   "cell_type": "code",
   "execution_count": null,
   "id": "7e16bb16-0912-4537-8722-7d0f6cea95a9",
   "metadata": {},
   "outputs": [],
   "source": []
  }
 ],
 "metadata": {
  "kernelspec": {
   "display_name": "",
   "name": ""
  },
  "language_info": {
   "name": ""
  }
 },
 "nbformat": 4,
 "nbformat_minor": 5
}
