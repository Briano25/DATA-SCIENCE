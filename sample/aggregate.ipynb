{
 "cells": [
  {
   "cell_type": "code",
   "execution_count": 1,
   "id": "accd4938",
   "metadata": {},
   "outputs": [
    {
     "name": "stdout",
     "output_type": "stream",
     "text": [
      "Aggregated results:\n",
      "              Salary         Bonus\n",
      "               mean    max    sum\n",
      "Department                       \n",
      "Finance     71000.0  72000  15000\n",
      "HR          51000.0  52000   7000\n",
      "IT          62500.0  65000  11000\n"
     ]
    }
   ],
   "source": [
    "import pandas as pd\n",
    "\n",
    "# Sample data\n",
    "data = {\n",
    "    'Department': ['IT', 'HR', 'IT', 'HR', 'Finance', 'Finance'],\n",
    "    'Salary': [60000, 50000, 65000, 52000, 70000, 72000],\n",
    "    'Bonus': [5000, 4000, 6000, 3000, 7000, 8000]\n",
    "}\n",
    "\n",
    "df = pd.DataFrame(data)\n",
    "\n",
    "# Group by Department and apply multiple aggregations\n",
    "grouped = df.groupby('Department').agg({\n",
    "    'Salary': ['mean', 'max'],\n",
    "    'Bonus': 'sum'\n",
    "})\n",
    "\n",
    "print(\"Aggregated results:\\n\", grouped)\n"
   ]
  }
 ],
 "metadata": {
  "kernelspec": {
   "display_name": "venv",
   "language": "python",
   "name": "python3"
  },
  "language_info": {
   "codemirror_mode": {
    "name": "ipython",
    "version": 3
   },
   "file_extension": ".py",
   "mimetype": "text/x-python",
   "name": "python",
   "nbconvert_exporter": "python",
   "pygments_lexer": "ipython3",
   "version": "3.12.9"
  }
 },
 "nbformat": 4,
 "nbformat_minor": 5
}
