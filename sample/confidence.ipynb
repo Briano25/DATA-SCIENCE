{
 "cells": [
  {
   "cell_type": "code",
   "execution_count": 1,
   "id": "8c147e83",
   "metadata": {},
   "outputs": [
    {
     "name": "stdout",
     "output_type": "stream",
     "text": [
      "Sample Mean: 23.2\n",
      "95% Confidence Interval: ( 21.3 , 25.1 )\n"
     ]
    }
   ],
   "source": [
    "import numpy as np\n",
    "import pandas as pd\n",
    "from scipy import stats\n",
    "\n",
    "# Sample data\n",
    "ages = [23, 25, 22, 24, 21, 26, 27, 23, 28, 22]\n",
    "df = pd.DataFrame({'Age': ages})\n",
    "\n",
    "# Step 1: Take a sample\n",
    "sample = df.sample(n=5, random_state=3)\n",
    "sample_mean = sample['Age'].mean()\n",
    "sample_std = sample['Age'].std()\n",
    "n = len(sample)\n",
    "\n",
    "# Step 2: Calculate 95% confidence interval\n",
    "confidence = 0.95\n",
    "z_score = stats.norm.ppf((1 + confidence) / 2)  # 1.96 for 95%\n",
    "margin_of_error = z_score * (sample_std / np.sqrt(n))\n",
    "\n",
    "lower = sample_mean - margin_of_error\n",
    "upper = sample_mean + margin_of_error\n",
    "\n",
    "print(\"Sample Mean:\", sample_mean)\n",
    "print(\"95% Confidence Interval: (\", round(lower, 2), \",\", round(upper, 2), \")\")\n"
   ]
  }
 ],
 "metadata": {
  "kernelspec": {
   "display_name": "venv",
   "language": "python",
   "name": "python3"
  },
  "language_info": {
   "codemirror_mode": {
    "name": "ipython",
    "version": 3
   },
   "file_extension": ".py",
   "mimetype": "text/x-python",
   "name": "python",
   "nbconvert_exporter": "python",
   "pygments_lexer": "ipython3",
   "version": "3.12.9"
  }
 },
 "nbformat": 4,
 "nbformat_minor": 5
}
