{
 "cells": [
  {
   "cell_type": "code",
   "execution_count": 1,
   "id": "590fba40",
   "metadata": {},
   "outputs": [
    {
     "name": "stdout",
     "output_type": "stream",
     "text": [
      "Sample Mean (Estimate of Population Mean): 169.15\n"
     ]
    }
   ],
   "source": [
    "import numpy as np\n",
    "\n",
    "# Population\n",
    "population = np.random.normal(loc=170, scale=10, size=10000)  # 10,000 people\n",
    "\n",
    "# Take a sample of 100\n",
    "sample = np.random.choice(population, size=100)\n",
    "\n",
    "# Point estimate of population mean\n",
    "sample_mean = np.mean(sample)\n",
    "\n",
    "print(\"Sample Mean (Estimate of Population Mean):\", round(sample_mean, 2))\n"
   ]
  }
 ],
 "metadata": {
  "kernelspec": {
   "display_name": "venv",
   "language": "python",
   "name": "python3"
  },
  "language_info": {
   "codemirror_mode": {
    "name": "ipython",
    "version": 3
   },
   "file_extension": ".py",
   "mimetype": "text/x-python",
   "name": "python",
   "nbconvert_exporter": "python",
   "pygments_lexer": "ipython3",
   "version": "3.12.9"
  }
 },
 "nbformat": 4,
 "nbformat_minor": 5
}
