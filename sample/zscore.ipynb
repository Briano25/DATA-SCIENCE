{
 "cells": [
  {
   "cell_type": "code",
   "execution_count": 1,
   "id": "8dc9d314",
   "metadata": {},
   "outputs": [
    {
     "name": "stdout",
     "output_type": "stream",
     "text": [
      "Z-score of 17 is 0.61\n"
     ]
    }
   ],
   "source": [
    "import numpy as np\n",
    "from scipy import stats\n",
    "\n",
    "# Example data\n",
    "data = [10, 12, 13, 15, 17, 18, 20]\n",
    "mean = np.mean(data)\n",
    "std = np.std(data)\n",
    "\n",
    "# Value to check\n",
    "x = 17\n",
    "\n",
    "# Z-score\n",
    "z = (x - mean) / std\n",
    "print(\"Z-score of\", x, \"is\", round(z, 2))\n"
   ]
  }
 ],
 "metadata": {
  "kernelspec": {
   "display_name": "venv",
   "language": "python",
   "name": "python3"
  },
  "language_info": {
   "codemirror_mode": {
    "name": "ipython",
    "version": 3
   },
   "file_extension": ".py",
   "mimetype": "text/x-python",
   "name": "python",
   "nbconvert_exporter": "python",
   "pygments_lexer": "ipython3",
   "version": "3.12.9"
  }
 },
 "nbformat": 4,
 "nbformat_minor": 5
}
