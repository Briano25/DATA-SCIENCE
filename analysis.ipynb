{
 "cells": [
  {
   "cell_type": "code",
   "execution_count": null,
   "id": "8ea11dac-ec03-477e-8a5b-0cd1a7ad6f34",
   "metadata": {},
   "outputs": [],
   "source": []
  }
 ],
 "metadata": {
  "kernelspec": {
   "display_name": "",
   "name": ""
  },
  "language_info": {
   "name": ""
  }
 },
 "nbformat": 4,
 "nbformat_minor": 5
}
