{
 "cells": [
  {
   "cell_type": "code",
   "execution_count": null,
   "id": "1a4f8c0e",
   "metadata": {},
   "outputs": [
    {
     "name": "stdout",
     "output_type": "stream",
     "text": [
      "Z-scores for each data point:\n",
      "    Score   Z-Score\n",
      "0     70  0.579921\n",
      "1     75  0.514446\n",
      "2     80  0.448971\n",
      "3     85  0.383496\n",
      "4     90  0.318021\n",
      "5    100  0.187071\n",
      "6    300  2.431925\n",
      "\n",
      "Z-Score Outliers:\n",
      " Empty DataFrame\n",
      "Columns: [Score, Z-Score]\n",
      "Index: []\n"
     ]
    },
    {
     "ename": "",
     "evalue": "",
     "output_type": "error",
     "traceback": [
      "\u001b[1;31mThe Kernel crashed while executing code in the current cell or a previous cell. \n",
      "\u001b[1;31mPlease review the code in the cell(s) to identify a possible cause of the failure. \n",
      "\u001b[1;31mClick <a href='https://aka.ms/vscodeJupyterKernelCrash'>here</a> for more info. \n",
      "\u001b[1;31mView Jupyter <a href='command:jupyter.viewOutput'>log</a> for further details."
     ]
    }
   ],
   "source": [
    "import pandas as pd\n",
    "import numpy as np\n",
    "from scipy import stats\n",
    "\n",
    "# Sample data\n",
    "data = {'Score': [70, 75, 80, 85, 90, 100, 300]}\n",
    "df = pd.DataFrame(data)\n",
    "\n",
    "# Compute Z-scores\n",
    "z_scores = np.abs(stats.zscore(df['Score']))\n",
    "df['Z-Score'] = z_scores\n",
    "\n",
    "# Display all Z-scores\n",
    "print(\"Z-scores for each data point:\\n\", df)\n",
    "\n",
    "# Identify outliers using threshold (e.g. z > 3)\n",
    "outliers_z = df[z_scores > 3]\n",
    "print(\"\\nZ-Score Outliers:\\n\", outliers_z)\n"
   ]
  }
 ],
 "metadata": {
  "kernelspec": {
   "display_name": "venv",
   "language": "python",
   "name": "python3"
  },
  "language_info": {
   "codemirror_mode": {
    "name": "ipython",
    "version": 3
   },
   "file_extension": ".py",
   "mimetype": "text/x-python",
   "name": "python",
   "nbconvert_exporter": "python",
   "pygments_lexer": "ipython3",
   "version": "3.12.9"
  }
 },
 "nbformat": 4,
 "nbformat_minor": 5
}
