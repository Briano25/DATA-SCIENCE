{
 "cells": [
  {
   "cell_type": "code",
   "execution_count": null,
   "id": "a6f11125-d8ca-4cfc-80c8-5ccb5d01b126",
   "metadata": {},
   "outputs": [],
   "source": []
  }
 ],
 "metadata": {
  "kernelspec": {
   "display_name": "",
   "name": ""
  },
  "language_info": {
   "name": ""
  }
 },
 "nbformat": 4,
 "nbformat_minor": 5
}
