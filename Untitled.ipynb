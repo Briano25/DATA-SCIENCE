{
 "cells": [
  {
   "cell_type": "code",
   "execution_count": null,
   "id": "9afbb4a4-9333-4f62-94d3-98b5dd848079",
   "metadata": {},
   "outputs": [],
   "source": []
  }
 ],
 "metadata": {
  "kernelspec": {
   "display_name": "",
   "name": ""
  },
  "language_info": {
   "name": ""
  }
 },
 "nbformat": 4,
 "nbformat_minor": 5
}
