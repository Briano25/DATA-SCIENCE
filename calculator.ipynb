{
 "cells": [
  {
   "cell_type": "code",
   "execution_count": null,
   "id": "2cf2652b-78dd-4d2e-8922-b357bfc61dfa",
   "metadata": {},
   "outputs": [],
   "source": []
  }
 ],
 "metadata": {
  "kernelspec": {
   "display_name": "",
   "name": ""
  },
  "language_info": {
   "name": ""
  }
 },
 "nbformat": 4,
 "nbformat_minor": 5
}
