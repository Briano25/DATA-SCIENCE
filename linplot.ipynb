{
 "cells": [
  {
   "cell_type": "code",
   "execution_count": null,
   "id": "9d0442b6-ec59-4046-99ab-6df6d339496e",
   "metadata": {},
   "outputs": [],
   "source": []
  }
 ],
 "metadata": {
  "kernelspec": {
   "display_name": "",
   "name": ""
  },
  "language_info": {
   "name": ""
  }
 },
 "nbformat": 4,
 "nbformat_minor": 5
}
