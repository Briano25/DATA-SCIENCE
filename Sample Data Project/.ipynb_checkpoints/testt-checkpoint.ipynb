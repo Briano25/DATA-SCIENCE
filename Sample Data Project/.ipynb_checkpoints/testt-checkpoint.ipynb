{
 "cells": [
  {
   "cell_type": "code",
   "execution_count": 1,
   "id": "6ec7c4f3-a9bc-449e-b032-8519d7bed0f6",
   "metadata": {},
   "outputs": [
    {
     "name": "stdout",
     "output_type": "stream",
     "text": [
      "  Employee Name  Salary Department\n",
      "0         Alice   50000         HR\n",
      "1           Bob   60000         IT\n",
      "2         Carol   55000    Finance\n",
      "3         David   62000         IT\n",
      "4           Eve   58000         HR\n",
      "5          Mark   80000         IT\n"
     ]
    }
   ],
   "source": [
    "import numpy as np\n",
    "import pandas as pd\n",
    "\n",
    "import pandas as pd\n",
    "\n",
    "# Create a dictionary with employee data\n",
    "data = {\n",
    "    'Employee Name': ['Alice', 'Bob', 'Carol', 'David', 'Eve','Mark'],\n",
    "    'Salary': [50000, 60000, 55000, 62000, 58000,80000],\n",
    "    'Department': ['HR', 'IT', 'Finance', 'IT', 'HR','IT']\n",
    "}\n",
    "\n",
    "# Create a DataFrame from the dictionary\n",
    "df = pd.DataFrame(data)\n",
    "\n",
    "# Show the DataFrame\n",
    "print(df)"
   ]
  },
  {
   "cell_type": "code",
   "execution_count": 11,
   "id": "7ec569f8-d0e0-48f8-b6a7-cd5ffb00b817",
   "metadata": {},
   "outputs": [],
   "source": [
    "df = df.rename(columns={'Salary': 'Earnings'})\n",
    "\n"
   ]
  },
  {
   "cell_type": "code",
   "execution_count": 13,
   "id": "b87de4aa-bb6c-4da0-9251-4a37a5154029",
   "metadata": {},
   "outputs": [
    {
     "name": "stdout",
     "output_type": "stream",
     "text": [
      "  Employee Name  Earnings Department\n",
      "0         Alice     50000         HR\n",
      "1           Bob     60000         IT\n",
      "2         Carol     55000    Finance\n",
      "3         David     62000         IT\n",
      "4           Eve     58000         HR\n",
      "5          Mark     80000         IT\n"
     ]
    }
   ],
   "source": [
    "print (df)"
   ]
  },
  {
   "cell_type": "code",
   "execution_count": null,
   "id": "c053734d-16d4-4d51-ad03-0bc1a556f8cb",
   "metadata": {},
   "outputs": [],
   "source": []
  }
 ],
 "metadata": {
  "kernelspec": {
   "display_name": "Python [conda env:base] *",
   "language": "python",
   "name": "conda-base-py"
  },
  "language_info": {
   "codemirror_mode": {
    "name": "ipython",
    "version": 3
   },
   "file_extension": ".py",
   "mimetype": "text/x-python",
   "name": "python",
   "nbconvert_exporter": "python",
   "pygments_lexer": "ipython3",
   "version": "3.12.7"
  }
 },
 "nbformat": 4,
 "nbformat_minor": 5
}
