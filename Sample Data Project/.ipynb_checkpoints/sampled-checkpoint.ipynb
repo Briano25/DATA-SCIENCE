{
 "cells": [
  {
   "cell_type": "code",
   "execution_count": 13,
   "id": "9baf6bfc-74cc-44c1-a041-41daabb26ea0",
   "metadata": {},
   "outputs": [],
   "source": [
    "import numpy as np\n",
    "import pandas as pd\n",
    "import matplotlib.pyplot as plt\n",
    "import seaborn as sns\n",
    "\n",
    "\n",
    "df = pd.read_csv(r\"C:\\Users\\OJ 001\\Downloads\\sample_preprocessing_dataset.csv\")"
   ]
  },
  {
   "cell_type": "code",
   "execution_count": 15,
   "id": "720ba3dc-51fa-4704-9c5d-d7a30cf04867",
   "metadata": {},
   "outputs": [
    {
     "data": {
      "text/plain": [
       "Index(['ID', 'Name', 'Age', 'Gender', 'Department', 'Salary', 'Experience',\n",
       "       'JoinedDate'],\n",
       "      dtype='object')"
      ]
     },
     "execution_count": 15,
     "metadata": {},
     "output_type": "execute_result"
    }
   ],
   "source": [
    "df.columns"
   ]
  },
  {
   "cell_type": "code",
   "execution_count": 25,
   "id": "fef5ce24-05f5-4425-8af7-220819a4b261",
   "metadata": {},
   "outputs": [],
   "source": [
    "#Dropping duplicates from the data\n",
    "df=df.drop_duplicates()\n"
   ]
  },
  {
   "cell_type": "code",
   "execution_count": 27,
   "id": "86b2c32a-af8e-4c84-a500-e594d0e68dce",
   "metadata": {},
   "outputs": [
    {
     "data": {
      "text/plain": [
       "ID             0\n",
       "Name           0\n",
       "Age           15\n",
       "Gender         0\n",
       "Department     0\n",
       "Salary        10\n",
       "Experience     0\n",
       "JoinedDate     0\n",
       "dtype: int64"
      ]
     },
     "execution_count": 27,
     "metadata": {},
     "output_type": "execute_result"
    }
   ],
   "source": [
    "#checking for missing values\n",
    "df.isnull().sum()"
   ]
  },
  {
   "cell_type": "code",
   "execution_count": 43,
   "id": "7832ac1a-6f45-4d08-9f4c-37335c5d1a06",
   "metadata": {},
   "outputs": [],
   "source": [
    "#filling missing values using simple imputer\n",
    "\n",
    "from sklearn.impute import SimpleImputer\n",
    "cols_to_impute = ['Age', 'Salary']\n",
    "\n",
    "# Create SimpleImputer (e.g., using mean strategy)\n",
    "imputer = SimpleImputer(strategy='mean')\n",
    "\n",
    "# Fit and transform the selected columns\n",
    "df[cols_to_impute] = imputer.fit_transform(df[cols_to_impute])\n",
    "df[['Age', 'Salary']] = df[['Age', 'Salary']].round(0).astype(int)"
   ]
  },
  {
   "cell_type": "code",
   "execution_count": 45,
   "id": "58910855-9e8c-4493-8de1-84716c05357d",
   "metadata": {},
   "outputs": [
    {
     "data": {
      "text/html": [
       "<div>\n",
       "<style scoped>\n",
       "    .dataframe tbody tr th:only-of-type {\n",
       "        vertical-align: middle;\n",
       "    }\n",
       "\n",
       "    .dataframe tbody tr th {\n",
       "        vertical-align: top;\n",
       "    }\n",
       "\n",
       "    .dataframe thead th {\n",
       "        text-align: right;\n",
       "    }\n",
       "</style>\n",
       "<table border=\"1\" class=\"dataframe\">\n",
       "  <thead>\n",
       "    <tr style=\"text-align: right;\">\n",
       "      <th></th>\n",
       "      <th>ID</th>\n",
       "      <th>Name</th>\n",
       "      <th>Age</th>\n",
       "      <th>Gender</th>\n",
       "      <th>Department</th>\n",
       "      <th>Salary</th>\n",
       "      <th>Experience</th>\n",
       "      <th>JoinedDate</th>\n",
       "    </tr>\n",
       "  </thead>\n",
       "  <tbody>\n",
       "    <tr>\n",
       "      <th>0</th>\n",
       "      <td>16</td>\n",
       "      <td>Diana</td>\n",
       "      <td>22</td>\n",
       "      <td>Male</td>\n",
       "      <td>Marketing</td>\n",
       "      <td>48574</td>\n",
       "      <td>4</td>\n",
       "      <td>3/8/2015</td>\n",
       "    </tr>\n",
       "    <tr>\n",
       "      <th>1</th>\n",
       "      <td>10</td>\n",
       "      <td>Eve</td>\n",
       "      <td>23</td>\n",
       "      <td>Male</td>\n",
       "      <td>Marketing</td>\n",
       "      <td>44060</td>\n",
       "      <td>9</td>\n",
       "      <td>2/28/2018</td>\n",
       "    </tr>\n",
       "    <tr>\n",
       "      <th>2</th>\n",
       "      <td>101</td>\n",
       "      <td>Eve</td>\n",
       "      <td>24</td>\n",
       "      <td>Male</td>\n",
       "      <td>HR</td>\n",
       "      <td>43224</td>\n",
       "      <td>13</td>\n",
       "      <td>5/10/2023</td>\n",
       "    </tr>\n",
       "    <tr>\n",
       "      <th>3</th>\n",
       "      <td>133</td>\n",
       "      <td>Frank</td>\n",
       "      <td>56</td>\n",
       "      <td>Male</td>\n",
       "      <td>Sales</td>\n",
       "      <td>32482</td>\n",
       "      <td>8</td>\n",
       "      <td>3/22/2024</td>\n",
       "    </tr>\n",
       "    <tr>\n",
       "      <th>4</th>\n",
       "      <td>69</td>\n",
       "      <td>Bob</td>\n",
       "      <td>56</td>\n",
       "      <td>Male</td>\n",
       "      <td>HR</td>\n",
       "      <td>86942</td>\n",
       "      <td>4</td>\n",
       "      <td>1/6/2023</td>\n",
       "    </tr>\n",
       "    <tr>\n",
       "      <th>5</th>\n",
       "      <td>96</td>\n",
       "      <td>Diana</td>\n",
       "      <td>35</td>\n",
       "      <td>Female</td>\n",
       "      <td>HR</td>\n",
       "      <td>98244</td>\n",
       "      <td>10</td>\n",
       "      <td>8/9/2020</td>\n",
       "    </tr>\n",
       "    <tr>\n",
       "      <th>6</th>\n",
       "      <td>160</td>\n",
       "      <td>Diana</td>\n",
       "      <td>34</td>\n",
       "      <td>Female</td>\n",
       "      <td>HR</td>\n",
       "      <td>82603</td>\n",
       "      <td>2</td>\n",
       "      <td>11/11/2015</td>\n",
       "    </tr>\n",
       "    <tr>\n",
       "      <th>7</th>\n",
       "      <td>163</td>\n",
       "      <td>Eve</td>\n",
       "      <td>41</td>\n",
       "      <td>Female</td>\n",
       "      <td>Sales</td>\n",
       "      <td>63750</td>\n",
       "      <td>7</td>\n",
       "      <td>1/21/2015</td>\n",
       "    </tr>\n",
       "    <tr>\n",
       "      <th>8</th>\n",
       "      <td>148</td>\n",
       "      <td>Eve</td>\n",
       "      <td>23</td>\n",
       "      <td>Male</td>\n",
       "      <td>Sales</td>\n",
       "      <td>36645</td>\n",
       "      <td>4</td>\n",
       "      <td>2/14/2024</td>\n",
       "    </tr>\n",
       "    <tr>\n",
       "      <th>9</th>\n",
       "      <td>183</td>\n",
       "      <td>Charlie</td>\n",
       "      <td>54</td>\n",
       "      <td>Male</td>\n",
       "      <td>Sales</td>\n",
       "      <td>90500</td>\n",
       "      <td>8</td>\n",
       "      <td>8/9/2016</td>\n",
       "    </tr>\n",
       "  </tbody>\n",
       "</table>\n",
       "</div>"
      ],
      "text/plain": [
       "    ID     Name  Age  Gender Department  Salary  Experience  JoinedDate\n",
       "0   16    Diana   22    Male  Marketing   48574           4    3/8/2015\n",
       "1   10      Eve   23    Male  Marketing   44060           9   2/28/2018\n",
       "2  101      Eve   24    Male         HR   43224          13   5/10/2023\n",
       "3  133    Frank   56    Male      Sales   32482           8   3/22/2024\n",
       "4   69      Bob   56    Male         HR   86942           4    1/6/2023\n",
       "5   96    Diana   35  Female         HR   98244          10    8/9/2020\n",
       "6  160    Diana   34  Female         HR   82603           2  11/11/2015\n",
       "7  163      Eve   41  Female      Sales   63750           7   1/21/2015\n",
       "8  148      Eve   23    Male      Sales   36645           4   2/14/2024\n",
       "9  183  Charlie   54    Male      Sales   90500           8    8/9/2016"
      ]
     },
     "execution_count": 45,
     "metadata": {},
     "output_type": "execute_result"
    }
   ],
   "source": [
    "#printing the first 10 rows to check if missing values have been handled for Age and Salary column\n",
    "df.head(10)"
   ]
  },
  {
   "cell_type": "code",
   "execution_count": 49,
   "id": "9e67121f-2942-44bd-ac83-c929c78991c9",
   "metadata": {},
   "outputs": [],
   "source": [
    "df.to_excel('cleaned_sampledata2.xlsx', index=False)\n"
   ]
  }
 ],
 "metadata": {
  "kernelspec": {
   "display_name": "Python [conda env:base] *",
   "language": "python",
   "name": "conda-base-py"
  },
  "language_info": {
   "codemirror_mode": {
    "name": "ipython",
    "version": 3
   },
   "file_extension": ".py",
   "mimetype": "text/x-python",
   "name": "python",
   "nbconvert_exporter": "python",
   "pygments_lexer": "ipython3",
   "version": "3.12.7"
  }
 },
 "nbformat": 4,
 "nbformat_minor": 5
}
