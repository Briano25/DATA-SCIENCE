{
 "cells": [
  {
   "cell_type": "code",
   "execution_count": 1,
   "id": "ec4d8e1e",
   "metadata": {},
   "outputs": [
    {
     "name": "stdout",
     "output_type": "stream",
     "text": [
      "    ID   Name   Age Gender Department   Salary  Experience  JoinedDate\n",
      "0   16  Diana  22.0   Male  Marketing  48574.0           4  2015-03-08\n",
      "1   10    Eve  23.0   Male  Marketing  44060.0           9  2018-02-28\n",
      "2  101    Eve  24.0   Male         HR  43224.0          13  2023-05-10\n",
      "3  133  Frank  56.0   Male      Sales  32482.0           8  2024-03-22\n",
      "4   69    Bob  56.0   Male         HR  86942.0           4  2023-01-06\n"
     ]
    }
   ],
   "source": [
    "import pandas as pd\n",
    "import numpy as np\n",
    "import matplotlib.pyplot as plt\n",
    "\n",
    "\n",
    "# Load the Excel file (first sheet)\n",
    "df = pd.read_csv(r\"C:\\Users\\OJ 001\\Downloads\\sample_preprocessing_dataset (1).csv\")\n",
    "\n",
    "df.columns\n",
    "\n",
    "print(df.head())"
   ]
  }
 ],
 "metadata": {
  "kernelspec": {
   "display_name": "venv",
   "language": "python",
   "name": "python3"
  },
  "language_info": {
   "codemirror_mode": {
    "name": "ipython",
    "version": 3
   },
   "file_extension": ".py",
   "mimetype": "text/x-python",
   "name": "python",
   "nbconvert_exporter": "python",
   "pygments_lexer": "ipython3",
   "version": "3.12.9"
  }
 },
 "nbformat": 4,
 "nbformat_minor": 5
}
