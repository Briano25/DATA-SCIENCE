{
 "cells": [
  {
   "cell_type": "code",
   "execution_count": 22,
   "id": "29087931-53bb-49f0-bd01-0f9d2a2e7a55",
   "metadata": {},
   "outputs": [
    {
     "name": "stdin",
     "output_type": "stream",
     "text": [
      "Enter the first number:  20\n",
      "Enter the second number:  40\n"
     ]
    },
    {
     "name": "stdout",
     "output_type": "stream",
     "text": [
      "✅ Division attempt has been made.\n",
      "Division cannot be done if the first number is smaller\n",
      "🧮 The product of 20 and 40 is 800, and the division result is 0.00\n",
      "Division cannot be done if the first number is smaller\n",
      "The difference of the two numbers is None\n"
     ]
    }
   ],
   "source": [
    "def product(a, b):\n",
    "    return a * b\n",
    "\n",
    "def addition(a, b):\n",
    "    return a + b\n",
    "\n",
    "def division(a, b):\n",
    "    try:\n",
    "        result = a // b\n",
    "        return result\n",
    "    except ZeroDivisionError:\n",
    "        print('⚠️ Cannot divide by zero.')\n",
    "        return None\n",
    "    finally:\n",
    "        print('✅ Division attempt has been made.')\n",
    "\n",
    "def subtraction(a,b):\n",
    "    if a>b:\n",
    "        return a-b\n",
    "    else :\n",
    "        print('Division cannot be done if the first number is smaller')\n",
    "        return None\n",
    "        \n",
    "\n",
    "# User input\n",
    "n = int(input('Enter the first number: '))\n",
    "m = int(input('Enter the second number: '))\n",
    "\n",
    "# Function calls\n",
    "p = product(n, m)\n",
    "z = division(n, m)\n",
    "d=subtraction(n,m)\n",
    "\n",
    "# Display result\n",
    "if z is not None:\n",
    "    print(f'🧮 The product of {n} and {m} is {p}, and the division result is {z:.2f}')\n",
    "else:\n",
    "    print(f'🧮 The product of {n} and {m} is {p}, but division could not be completed.')\n",
    "print ('The difference of the two numbers is', subtraction(n,m))\n",
    "\n"
   ]
  },
  {
   "cell_type": "code",
   "execution_count": null,
   "id": "da56adaf-b369-403b-a5a8-ea56e0f36b76",
   "metadata": {},
   "outputs": [],
   "source": []
  },
  {
   "cell_type": "code",
   "execution_count": null,
   "id": "70cc56b3-2451-4032-9b2a-7e79abcc88ac",
   "metadata": {},
   "outputs": [],
   "source": []
  }
 ],
 "metadata": {
  "kernelspec": {
   "display_name": "Python [conda env:base] *",
   "language": "python",
   "name": "conda-base-py"
  },
  "language_info": {
   "codemirror_mode": {
    "name": "ipython",
    "version": 3
   },
   "file_extension": ".py",
   "mimetype": "text/x-python",
   "name": "python",
   "nbconvert_exporter": "python",
   "pygments_lexer": "ipython3",
   "version": "3.12.7"
  }
 },
 "nbformat": 4,
 "nbformat_minor": 5
}
