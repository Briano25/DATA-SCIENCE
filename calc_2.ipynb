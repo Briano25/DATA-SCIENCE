{
 "cells": [
  {
   "cell_type": "code",
   "execution_count": 5,
   "id": "29087931-53bb-49f0-bd01-0f9d2a2e7a55",
   "metadata": {},
   "outputs": [
    {
     "name": "stdin",
     "output_type": "stream",
     "text": [
      "Enter the first number:  40\n",
      "Enter the second number:  20\n"
     ]
    }
   ],
   "source": [
    "def product(a, b):\n",
    "    return a * b\n",
    "\n",
    "def addition(a, b):\n",
    "    return a + b\n",
    "\n",
    "def division(a, b):\n",
    "    try:\n",
    "        result = a // b\n",
    "        return result\n",
    "    except ZeroDivisionError:\n",
    "        print('⚠️ Cannot divide by zero.')\n",
    "        return None\n",
    "    finally:\n",
    "        print('✅ Division attempt has been made.')\n",
    "\n",
    "# User input\n",
    "n = int(input('Enter the first number: '))\n",
    "m = int(input('Enter the second number: '))\n"
   ]
  },
  {
   "cell_type": "code",
   "execution_count": null,
   "id": "da56adaf-b369-403b-a5a8-ea56e0f36b76",
   "metadata": {},
   "outputs": [],
   "source": []
  }
 ],
 "metadata": {
  "kernelspec": {
   "display_name": "Python [conda env:base] *",
   "language": "python",
   "name": "conda-base-py"
  },
  "language_info": {
   "codemirror_mode": {
    "name": "ipython",
    "version": 3
   },
   "file_extension": ".py",
   "mimetype": "text/x-python",
   "name": "python",
   "nbconvert_exporter": "python",
   "pygments_lexer": "ipython3",
   "version": "3.12.7"
  }
 },
 "nbformat": 4,
 "nbformat_minor": 5
}
