{
 "cells": [
  {
   "cell_type": "code",
   "execution_count": null,
   "id": "4ace3e17-4a04-4a24-ac89-a0b0ad78cfde",
   "metadata": {},
   "outputs": [],
   "source": []
  }
 ],
 "metadata": {
  "kernelspec": {
   "display_name": "",
   "name": ""
  },
  "language_info": {
   "name": ""
  }
 },
 "nbformat": 4,
 "nbformat_minor": 5
}
