{
 "cells": [
  {
   "cell_type": "code",
   "execution_count": null,
   "id": "e59b6c15-1ad9-4659-a99d-5ff2e621e362",
   "metadata": {},
   "outputs": [],
   "source": []
  }
 ],
 "metadata": {
  "kernelspec": {
   "display_name": "",
   "name": ""
  },
  "language_info": {
   "name": ""
  }
 },
 "nbformat": 4,
 "nbformat_minor": 5
}
