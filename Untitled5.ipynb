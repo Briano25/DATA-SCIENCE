{
 "cells": [
  {
   "cell_type": "code",
   "execution_count": null,
   "id": "8e94984f-fece-4199-9df8-0040f12cd54a",
   "metadata": {},
   "outputs": [],
   "source": []
  }
 ],
 "metadata": {
  "kernelspec": {
   "display_name": "",
   "name": ""
  },
  "language_info": {
   "name": ""
  }
 },
 "nbformat": 4,
 "nbformat_minor": 5
}
