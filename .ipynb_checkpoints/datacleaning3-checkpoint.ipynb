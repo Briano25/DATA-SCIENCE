{
 "cells": [
  {
   "cell_type": "code",
   "execution_count": 1,
   "id": "56a00577-8a13-4882-8daa-0d14a8f76137",
   "metadata": {},
   "outputs": [],
   "source": [
    "import pandas as pd\n",
    "import numpy as np\n",
    "import matplotlib.pyplot as plt"
   ]
  },
  {
   "cell_type": "code",
   "execution_count": 62,
   "id": "b6513276-5039-4267-b5a5-53dedf019aae",
   "metadata": {},
   "outputs": [
    {
     "name": "stdout",
     "output_type": "stream",
     "text": [
      "['Cover Page', 'Clean Data2', 'Clean Data', 'Raw Data']\n",
      "<class 'pandas.core.frame.DataFrame'>\n",
      "RangeIndex: 28 entries, 0 to 27\n",
      "Data columns (total 9 columns):\n",
      " #   Column         Non-Null Count  Dtype         \n",
      "---  ------         --------------  -----         \n",
      " 0   Date           28 non-null     datetime64[ns]\n",
      " 1   Client         28 non-null     object        \n",
      " 2   Contact        28 non-null     object        \n",
      " 3   Department     28 non-null     object        \n",
      " 4   Region         28 non-null     object        \n",
      " 5   Payment        26 non-null     object        \n",
      " 6   Revenue        26 non-null     float64       \n",
      " 7   Profit         28 non-null     int64         \n",
      " 8   Profit Margin  26 non-null     float64       \n",
      "dtypes: datetime64[ns](1), float64(2), int64(1), object(5)\n",
      "memory usage: 2.1+ KB\n"
     ]
    }
   ],
   "source": [
    "df=pd.read_excel(r\"C:\\Users\\OJ 001\\Desktop\\DataScience\\Data Cleaning Start4.xlsx\",sheet_name='Clean Data2')\n",
    "xls = pd.ExcelFile(r\"C:\\Users\\OJ 001\\Desktop\\DataScience\\Data Cleaning Start4.xlsx\")\n",
    "print(xls.sheet_names)\n",
    "df.columns\n",
    "df.info()\n"
   ]
  },
  {
   "cell_type": "code",
   "execution_count": 64,
   "id": "bca2b4bc-2e14-4f96-a3c3-743be9906596",
   "metadata": {},
   "outputs": [
    {
     "name": "stdout",
     "output_type": "stream",
     "text": [
      "        Date                          Client         Contact   Department  \\\n",
      "0 2023-05-30               AMAZON.COM, INC.        Bill Smith  Cloud Tech   \n",
      "1 2023-05-30                    TESLA, INC.         Ken Singh    Strategy   \n",
      "2 2023-05-30                  NETFLIX, INC.      Harley Fritz    Strategy   \n",
      "3 2023-05-30   THE PROCTER & GAMBLE COMPANY        Nyla Novak  Operations   \n",
      "4 2023-05-30  THE GOLDMAN SACHS GROUP, INC.   David Rasmussen  Operations   \n",
      "5 2023-05-31           JPMORGAN CHASE & CO.        Ivan Hiney  Cloud Tech   \n",
      "6 2023-05-31                 MORGAN STANLEY          Jonha Ma  Cloud Tech   \n",
      "7 2023-05-31                 CITIGROUP INC.      Jordan Boone  Cloud Tech   \n",
      "8 2023-05-31    BANK OF AMERICA CORPORATION    Kylee Townsend  Cloud Tech   \n",
      "9 2023-05-31                   WALMART INC.      Nora Rollins  Cloud Tech   \n",
      "\n",
      "     Region   Payment  Revenue  Profit  Profit Margin  \n",
      "0     Texas  Transfer   4500.0     598       0.132889  \n",
      "1  New York    PayPal   3800.0    1045       0.275000  \n",
      "2  New York       NaN   3712.5    1009       0.271785  \n",
      "3   Florida       NaN      NaN     779            NaN  \n",
      "4   Florida     Check   5000.0     684       0.136800  \n",
      "5     Texas  Transfer   6100.0     544       0.089180  \n",
      "6     Texas  Transfer   4625.0     670       0.144865  \n",
      "7     Texas  Transfer   3800.0    2045       0.538158  \n",
      "8     Texas      Card   3600.0    1564       0.434444  \n",
      "9     Texas     Check   5100.0    1220       0.239216  \n",
      "         Date                         Client         Contact   Department  \\\n",
      "8  2023-05-31   BANK OF AMERICA CORPORATION    Kylee Townsend  Cloud Tech   \n",
      "9  2023-05-31                  WALMART INC.      Nora Rollins  Cloud Tech   \n",
      "10 2023-05-31            TARGET CORPORATION   Brendan Wallace  Cloud Tech   \n",
      "11 2023-05-31  COSTCO WHOLESALE CORPORATION        Conor Wise  Operations   \n",
      "12 2023-05-31        MCDONALD'S CORPORATION    Steven Michael    Big Data   \n",
      "13 2023-06-01       EXXON MOBIL CORPORATION       Lucia Mckay    Big Data   \n",
      "14 2023-06-01   VERIZON COMMUNICATIONS INC.        Jose Roach    Big Data   \n",
      "15 2023-06-01          THE HOME DEPOT, INC.    Franklin Wrigt    Big Data   \n",
      "16 2023-06-01           CISCO SYSTEMS, INC.     Alia Thornton  Operations   \n",
      "17 2023-06-01           CHEVRON CORPORATION     Denzel Flores  Operations   \n",
      "18 2023-06-01                     AT&T INC.     Bruno Cordova    Big Data   \n",
      "19 2023-06-01             INTEL CORPORATION      Jaylynn Napp    Big Data   \n",
      "20 2023-06-01        GENERAL MOTORS COMPANY        Bruce Rich    Big Data   \n",
      "21 2023-06-02         MICROSOFT CORPORATION      Arturo Moore    Big Data   \n",
      "22 2023-06-02           COMCAST CORPORATION   Bryce Carpenter    Strategy   \n",
      "23 2023-06-02        DELL TECHNOLOGIES INC.   Jaidyn Andersen    Strategy   \n",
      "24 2023-06-02             JOHNSON & JOHNSON         Mark Walm    Strategy   \n",
      "25 2023-06-02             FEDEX CORPORATION         Harry Lee    Strategy   \n",
      "26 2023-06-02      GENERAL ELECTRIC COMPANY      Josh Johnson    Strategy   \n",
      "27 2023-06-02   LOCKHEED MARTIN CORPORATION          Mik Naam    Strategy   \n",
      "\n",
      "        Region   Payment  Revenue  Profit  Profit Margin  \n",
      "8        Texas      Card   3600.0    1564       0.434444  \n",
      "9        Texas     Check   5100.0    1220       0.239216  \n",
      "10       Texas     Check   4750.0    1435       0.302105  \n",
      "11     Florida  Transfer   6000.0     998       0.166333  \n",
      "12  California     Check   4500.0     780       0.173333  \n",
      "13  California      Card      NaN    1044            NaN  \n",
      "14  California  Transfer   3712.5    1222       0.329158  \n",
      "15  California  Transfer   4950.0    1065       0.215152  \n",
      "16     Florida  Transfer   4750.0     810       0.170526  \n",
      "17     Florida  Transfer   7320.0     933       0.127459  \n",
      "18  California  Transfer   5087.5     655       0.128747  \n",
      "19  California  Transfer   4500.0     722       0.160444  \n",
      "20  California      Card   4250.0     901       0.212000  \n",
      "21  California    PayPal   5250.0    1349       0.256952  \n",
      "22    New York    PayPal   6500.0    1288       0.198154  \n",
      "23    New York    PayPal   7500.0    1664       0.221867  \n",
      "24    New York  Transfer   5500.0    1320       0.240000  \n",
      "25    New York  Transfer   4625.0    1001       0.216432  \n",
      "26    New York  Transfer   4500.0     960       0.213333  \n",
      "27    New York      Card   5400.0     540       0.100000  \n"
     ]
    }
   ],
   "source": [
    "print(df.head(10))\n",
    "print(df.tail(20))"
   ]
  },
  {
   "cell_type": "code",
   "execution_count": 39,
   "id": "11eb1c2a-6d5c-4d59-8d0b-8fc4c4ef60e9",
   "metadata": {},
   "outputs": [],
   "source": []
  },
  {
   "cell_type": "code",
   "execution_count": 49,
   "id": "cc15df0b-e83c-4a57-a6eb-5e890d2371cf",
   "metadata": {},
   "outputs": [
    {
     "data": {
      "text/html": [
       "<div>\n",
       "<style scoped>\n",
       "    .dataframe tbody tr th:only-of-type {\n",
       "        vertical-align: middle;\n",
       "    }\n",
       "\n",
       "    .dataframe tbody tr th {\n",
       "        vertical-align: top;\n",
       "    }\n",
       "\n",
       "    .dataframe thead th {\n",
       "        text-align: right;\n",
       "    }\n",
       "</style>\n",
       "<table border=\"1\" class=\"dataframe\">\n",
       "  <thead>\n",
       "    <tr style=\"text-align: right;\">\n",
       "      <th></th>\n",
       "      <th>Revenue</th>\n",
       "      <th>Profit</th>\n",
       "      <th>Profit Margin</th>\n",
       "    </tr>\n",
       "  </thead>\n",
       "  <tbody>\n",
       "    <tr>\n",
       "      <th>count</th>\n",
       "      <td>26.000000</td>\n",
       "      <td>28.000000</td>\n",
       "      <td>26.000000</td>\n",
       "    </tr>\n",
       "    <tr>\n",
       "      <th>mean</th>\n",
       "      <td>4974.326923</td>\n",
       "      <td>1030.178571</td>\n",
       "      <td>0.219013</td>\n",
       "    </tr>\n",
       "    <tr>\n",
       "      <th>std</th>\n",
       "      <td>1033.285671</td>\n",
       "      <td>363.281245</td>\n",
       "      <td>0.100781</td>\n",
       "    </tr>\n",
       "    <tr>\n",
       "      <th>min</th>\n",
       "      <td>3600.000000</td>\n",
       "      <td>540.000000</td>\n",
       "      <td>0.089180</td>\n",
       "    </tr>\n",
       "    <tr>\n",
       "      <th>25%</th>\n",
       "      <td>4500.000000</td>\n",
       "      <td>764.750000</td>\n",
       "      <td>0.148760</td>\n",
       "    </tr>\n",
       "    <tr>\n",
       "      <th>50%</th>\n",
       "      <td>4750.000000</td>\n",
       "      <td>999.500000</td>\n",
       "      <td>0.212667</td>\n",
       "    </tr>\n",
       "    <tr>\n",
       "      <th>75%</th>\n",
       "      <td>5362.500000</td>\n",
       "      <td>1238.500000</td>\n",
       "      <td>0.252714</td>\n",
       "    </tr>\n",
       "    <tr>\n",
       "      <th>max</th>\n",
       "      <td>7500.000000</td>\n",
       "      <td>2045.000000</td>\n",
       "      <td>0.538158</td>\n",
       "    </tr>\n",
       "  </tbody>\n",
       "</table>\n",
       "</div>"
      ],
      "text/plain": [
       "           Revenue       Profit  Profit Margin\n",
       "count    26.000000    28.000000      26.000000\n",
       "mean   4974.326923  1030.178571       0.219013\n",
       "std    1033.285671   363.281245       0.100781\n",
       "min    3600.000000   540.000000       0.089180\n",
       "25%    4500.000000   764.750000       0.148760\n",
       "50%    4750.000000   999.500000       0.212667\n",
       "75%    5362.500000  1238.500000       0.252714\n",
       "max    7500.000000  2045.000000       0.538158"
      ]
     },
     "execution_count": 49,
     "metadata": {},
     "output_type": "execute_result"
    }
   ],
   "source": [
    "df[['Revenue','Profit','Profit Margin']].describe()"
   ]
  },
  {
   "cell_type": "code",
   "execution_count": null,
   "id": "263ac6fd-cf3d-4e6d-806a-73262f468c70",
   "metadata": {},
   "outputs": [],
   "source": []
  },
  {
   "cell_type": "code",
   "execution_count": null,
   "id": "5113b95f-b8b2-429e-89a3-7fccd80c4ff5",
   "metadata": {},
   "outputs": [],
   "source": []
  },
  {
   "cell_type": "code",
   "execution_count": null,
   "id": "bd3ae71f-f512-4dbf-808a-2c170a53bae4",
   "metadata": {},
   "outputs": [],
   "source": []
  },
  {
   "cell_type": "code",
   "execution_count": null,
   "id": "17fc8d3e-0f17-4a6a-9798-645d6b0f72f1",
   "metadata": {},
   "outputs": [],
   "source": []
  }
 ],
 "metadata": {
  "kernelspec": {
   "display_name": "Python [conda env:base] *",
   "language": "python",
   "name": "conda-base-py"
  },
  "language_info": {
   "codemirror_mode": {
    "name": "ipython",
    "version": 3
   },
   "file_extension": ".py",
   "mimetype": "text/x-python",
   "name": "python",
   "nbconvert_exporter": "python",
   "pygments_lexer": "ipython3",
   "version": "3.12.7"
  }
 },
 "nbformat": 4,
 "nbformat_minor": 5
}
