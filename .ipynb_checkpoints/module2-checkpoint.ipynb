{
 "cells": [
  {
   "cell_type": "code",
   "execution_count": 11,
   "id": "f92c3050-5a22-4d76-85b8-38bb38108699",
   "metadata": {},
   "outputs": [
    {
     "name": "stdout",
     "output_type": "stream",
     "text": [
      "1D Array:\n",
      " [10 20 30]\n",
      "\n",
      "2D Array:\n",
      " [[1 2 3]\n",
      " [4 5 6]]\n",
      "\n",
      "3D Array:\n",
      " [[[1 2]\n",
      "  [3 4]]\n",
      "\n",
      " [[5 6]\n",
      "  [7 8]]]\n",
      "Shape of arr2d: (2, 3)\n",
      "Data type of arr2d: int32\n",
      "Float array: [1. 2. 3.]\n",
      "Element at [1,2]: 6\n",
      "First row: [1 2 3]\n",
      "First column: [1 4]\n"
     ]
    }
   ],
   "source": [
    "import numpy as np\n",
    "\n",
    "# 1D array\n",
    "arr1d = np.array([10, 20, 30])\n",
    "print(\"1D Array:\\n\", arr1d)\n",
    "\n",
    "# 2D array\n",
    "arr2d = np.array([[1, 2, 3], [4, 5, 6]])\n",
    "print(\"\\n2D Array:\\n\", arr2d)\n",
    "\n",
    "# 3D array\n",
    "arr3d = np.array([[[1, 2], [3, 4]], [[5, 6], [7, 8]]])\n",
    "print(\"\\n3D Array:\\n\", arr3d)\n",
    "\n",
    "print(\"Shape of arr2d:\", arr2d.shape)    # (2 rows, 3 columns)\n",
    "print(\"Data type of arr2d:\", arr2d.dtype)\n",
    "\n",
    "arr_float = np.array([1, 2, 3], dtype=float)\n",
    "print(\"Float array:\", arr_float)\n",
    "print(\"Element at [1,2]:\", arr2d[1, 2])  # 6\n",
    "\n",
    "# Slice rows and columns\n",
    "print(\"First row:\", arr2d[0])\n",
    "print(\"First column:\", arr2d[:, 0])"
   ]
  },
  {
   "cell_type": "code",
   "execution_count": 13,
   "id": "f92e8a41-7081-4e94-abf4-aa175630ff90",
   "metadata": {},
   "outputs": [
    {
     "name": "stdout",
     "output_type": "stream",
     "text": [
      "Reshaped array:\n",
      " [[1 2]\n",
      " [3 4]\n",
      " [5 6]]\n",
      "Flattened array: [1 2 3 4 5 6]\n"
     ]
    }
   ],
   "source": [
    "arr = np.array([[1, 2, 3], [4, 5, 6]])\n",
    "reshaped = arr.reshape(3, 2)  # 3 rows, 2 columns\n",
    "print(\"Reshaped array:\\n\", reshaped)\n",
    "\n",
    "flat = arr.flatten()\n",
    "print(\"Flattened array:\", flat)"
   ]
  },
  {
   "cell_type": "code",
   "execution_count": 15,
   "id": "1a04b2be-f3d7-408f-a317-dc1c8e080c5b",
   "metadata": {},
   "outputs": [
    {
     "name": "stdout",
     "output_type": "stream",
     "text": [
      "Original: [99  2  3]\n",
      "Copy: [1 2 3]\n",
      "View: [99  2  3]\n"
     ]
    }
   ],
   "source": [
    "original = np.array([1, 2, 3])\n",
    "\n",
    "copy_arr = original.copy()\n",
    "view_arr = original.view()\n",
    "\n",
    "original[0] = 99\n",
    "\n",
    "print(\"Original:\", original)     # [99  2  3]\n",
    "print(\"Copy:\", copy_arr)         # [ 1  2  3] → not affected\n",
    "print(\"View:\", view_arr)"
   ]
  },
  {
   "cell_type": "code",
   "execution_count": 19,
   "id": "ea448858-60ef-4262-af5a-2fc3f384f7a1",
   "metadata": {},
   "outputs": [
    {
     "name": "stdout",
     "output_type": "stream",
     "text": [
      "Sum of arr1 and arr2: [5 7 9]\n",
      "Difference between arr1 and arr2: [-3 -3 -3]\n",
      "Product of arr1 and arr2: [ 4 10 18]\n",
      "Division of arr1 by arr2: [0.25 0.4  0.5 ]\n"
     ]
    }
   ],
   "source": [
    "import numpy as np\n",
    "\n",
    "# Creating two arrays\n",
    "arr1 = np.array([1, 2, 3])\n",
    "arr2 = np.array([4, 5, 6])\n",
    "\n",
    "# Addition\n",
    "sum_arr = arr1 + arr2\n",
    "print(\"Sum of arr1 and arr2:\", sum_arr)\n",
    "\n",
    "# Subtraction\n",
    "diff_arr = arr1 - arr2\n",
    "print(\"Difference between arr1 and arr2:\", diff_arr)\n",
    "\n",
    "# Multiplication\n",
    "prod_arr = arr1 * arr2\n",
    "print(\"Product of arr1 and arr2:\", prod_arr)\n",
    "\n",
    "# Division\n",
    "quot_arr = arr1 / arr2\n",
    "print(\"Division of arr1 by arr2:\", quot_arr)"
   ]
  },
  {
   "cell_type": "code",
   "execution_count": 27,
   "id": "360f6800-f57a-4fe6-b583-d2fd4294571b",
   "metadata": {},
   "outputs": [
    {
     "name": "stdout",
     "output_type": "stream",
     "text": [
      "Element-wise Addition:\n",
      " [[ 6  8]\n",
      " [10 12]]\n",
      "Matrix Multiplication:\n",
      " [[19 22]\n",
      " [43 50]]\n"
     ]
    }
   ],
   "source": [
    "arr1 = np.array([[1, 2], [3, 4]])\n",
    "arr2 = np.array([[5, 6], [7, 8]])\n",
    "\n",
    "# Element-wise addition\n",
    "elementwise_add = arr1 + arr2\n",
    "print(\"Element-wise Addition:\\n\", elementwise_add)\n",
    "\n",
    "# Matrix multiplication\n",
    "print(\"Matrix Multiplication:\\n\", matrix_mult)"
   ]
  },
  {
   "cell_type": "code",
   "execution_count": 45,
   "id": "9f89dd6f-c5e5-4208-94a6-2cd614973bae",
   "metadata": {},
   "outputs": [
    {
     "name": "stdout",
     "output_type": "stream",
     "text": [
      "Total Sum: 45\n",
      "Mean Value: 5.0\n",
      "Standard Deviation: 2.581988897471611\n",
      "\n",
      "Min Value: 1\n",
      "Max Value: 9\n",
      "\n",
      "Sum along columns: [12 15 18]\n",
      "Sum along rows: [ 6 15 24]\n"
     ]
    }
   ],
   "source": [
    "arr = np.array([[1, 2, 3], [4, 5, 6], [7, 8, 9]])\n",
    "\n",
    "# Sum of all elements\n",
    "total_sum = arr.sum()\n",
    "print(\"Total Sum:\", total_sum)\n",
    "\n",
    "# Mean of all elements\n",
    "mean_val = arr.mean()\n",
    "print(\"Mean Value:\", mean_val)\n",
    "\n",
    "# Standard deviation\n",
    "std_dev = arr.std()\n",
    "print(\"Standard Deviation:\", std_dev)\n",
    "\n",
    "# Min and Max values\n",
    "min_val = arr.min()\n",
    "max_val = arr.max()\n",
    "print(\"\\nMin Value:\", min_val)\n",
    "print(\"Max Value:\", max_val)\n",
    "\n",
    "# Sum along columns (axis=0) and rows (axis=1)\n",
    "sum_cols = arr.sum(axis=0)\n",
    "sum_rows =arr.sum(axis=1)\n",
    "print(\"\\nSum along columns:\", sum_cols)\n",
    "print(\"Sum along rows:\", sum_rows)"
   ]
  },
  {
   "cell_type": "code",
   "execution_count": null,
   "id": "038ce47d-17bc-4c92-adee-add2d11fe4e6",
   "metadata": {},
   "outputs": [],
   "source": []
  }
 ],
 "metadata": {
  "kernelspec": {
   "display_name": "Python [conda env:base] *",
   "language": "python",
   "name": "conda-base-py"
  },
  "language_info": {
   "codemirror_mode": {
    "name": "ipython",
    "version": 3
   },
   "file_extension": ".py",
   "mimetype": "text/x-python",
   "name": "python",
   "nbconvert_exporter": "python",
   "pygments_lexer": "ipython3",
   "version": "3.12.7"
  }
 },
 "nbformat": 4,
 "nbformat_minor": 5
}
