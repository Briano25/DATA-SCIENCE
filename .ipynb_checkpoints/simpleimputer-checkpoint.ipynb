{
 "cells": [
  {
   "cell_type": "code",
   "execution_count": 11,
   "id": "5399f3c0-2ac8-4b36-82f8-03c10f14f831",
   "metadata": {},
   "outputs": [
    {
     "name": "stdout",
     "output_type": "stream",
     "text": [
      "Original DataFrame:\n",
      "     Age   Salary Department\n",
      "0  25.0  50000.0         HR\n",
      "1  30.0  60000.0         IT\n",
      "2   NaN  52000.0         IT\n",
      "3  40.0      NaN         HR\n",
      "4  35.0  58000.0       None\n"
     ]
    }
   ],
   "source": [
    "import numpy as np\n",
    "import pandas as pd\n",
    "\n",
    "# Creating a DataFrame with missing values\n",
    "data = {\n",
    "    'Age': [25, 30, np.nan, 40, 35],\n",
    "    'Salary': [50000, 60000, 52000, np.nan, 58000],\n",
    "    'Department': ['HR', 'IT', 'IT', 'HR', None]\n",
    "}\n",
    "\n",
    "df = pd.DataFrame(data)\n",
    "print(\"Original DataFrame:\\n\", df)\n"
   ]
  },
  {
   "cell_type": "code",
   "execution_count": 18,
   "id": "c2520ce8-8177-4bea-a727-3e11e249fe51",
   "metadata": {},
   "outputs": [
    {
     "name": "stdout",
     "output_type": "stream",
     "text": [
      "\n",
      "DataFrame after Custom Imputation:\n",
      "     Age   Salary Department\n",
      "0  25.0  50000.0         HR\n",
      "1  30.0  60000.0         IT\n",
      "2  32.5  52000.0         IT\n",
      "3  40.0  55000.0         HR\n",
      "4  35.0  58000.0    Finance\n"
     ]
    }
   ],
   "source": [
    "from sklearn.impute import SimpleImputer\n",
    "import pandas as pd\n",
    "import numpy as np\n",
    "\n",
    "# Sample data\n",
    "data = {\n",
    "    'Age': [25, 30, np.nan, 40, 35],\n",
    "    'Salary': [50000, 60000, 52000, np.nan, 58000],\n",
    "    'Department': ['HR', 'IT', 'IT', 'HR', None]\n",
    "}\n",
    "df = pd.DataFrame(data)\n",
    "df = df.replace({None: np.nan})\n",
    "\n",
    "# Impute numeric columns with mean\n",
    "num_imputer = SimpleImputer(strategy='mean')\n",
    "df[['Age', 'Salary']] = num_imputer.fit_transform(df[['Age', 'Salary']])\n",
    "\n",
    "# Impute missing Department with \"Finance\"\n",
    "cat_imputer = SimpleImputer(strategy='constant', fill_value='Finance')\n",
    "df['Department'] = cat_imputer.fit_transform(df[['Department']]).ravel()\n",
    "\n",
    "print(\"\\nDataFrame after Custom Imputation:\\n\", df)\n"
   ]
  },
  {
   "cell_type": "code",
   "execution_count": null,
   "id": "fffb357e-88c3-4524-a73c-c491bb28e30f",
   "metadata": {},
   "outputs": [],
   "source": []
  }
 ],
 "metadata": {
  "kernelspec": {
   "display_name": "Python [conda env:base] *",
   "language": "python",
   "name": "conda-base-py"
  },
  "language_info": {
   "codemirror_mode": {
    "name": "ipython",
    "version": 3
   },
   "file_extension": ".py",
   "mimetype": "text/x-python",
   "name": "python",
   "nbconvert_exporter": "python",
   "pygments_lexer": "ipython3",
   "version": "3.12.7"
  }
 },
 "nbformat": 4,
 "nbformat_minor": 5
}
