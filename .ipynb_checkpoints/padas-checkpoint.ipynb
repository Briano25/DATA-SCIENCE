{
 "cells": [
  {
   "cell_type": "code",
   "execution_count": 64,
   "id": "0bc8f16e-aa52-4cf5-bdb8-3462b6d8af4e",
   "metadata": {},
   "outputs": [
    {
     "name": "stdout",
     "output_type": "stream",
     "text": [
      "First five rows are:\n",
      "   StudentID  Math  English  Science\n",
      "0      S001    97       66       62\n",
      "1      S002    55       97       51\n",
      "2      S003    62       50       92\n",
      "3      S004    52       77       99\n",
      "4      S005    74       94       57\n",
      "\n",
      "Last five rows are:\n",
      ":   StudentID  Math  English  Science\n",
      "5      S006    66       52       91\n",
      "6      S007    66       78       71\n",
      "7      S008    87       68       95\n",
      "8      S009    50       87       70\n",
      "9      S010    84       88       76\n",
      "\n",
      "First Column:\n",
      "0    S001\n",
      "1    S002\n",
      "2    S003\n",
      "3    S004\n",
      "4    S005\n",
      "5    S006\n",
      "6    S007\n",
      "7    S008\n",
      "8    S009\n",
      "9    S010\n",
      "Name: StudentID, dtype: object\n"
     ]
    }
   ],
   "source": [
    "import pandas as pd\n",
    "\n",
    "# Corrected path using raw string\n",
    "df = pd.read_csv(\"C:\\\\Users\\\\OJ 001\\\\Downloads\\\\students_scores.csv\")\n",
    "print('First five rows are:\\n',df.head())\n",
    "print('\\nLast five rows are:\\n:',df.tail())\n",
    "\n",
    "# Access and print the 4th column (index 3)\n",
    "column_1 = df.iloc[:, 0]\n",
    "print(\"\\nFirst Column:\")\n",
    "print(column_1)\n",
    "\n"
   ]
  },
  {
   "cell_type": "code",
   "execution_count": 110,
   "id": "a53c8400-678d-4afa-a9be-37356c05c264",
   "metadata": {},
   "outputs": [
    {
     "name": "stdout",
     "output_type": "stream",
     "text": [
      "            Math    English    Science  Kiswahili    History\n",
      "count  10.000000  10.000000  10.000000  10.000000  10.000000\n",
      "mean   69.300000  75.700000  76.400000  76.400000  74.000000\n",
      "std    15.881855  16.499495  17.037214  19.190275  12.858201\n",
      "min    50.000000  50.000000  51.000000  34.000000  50.000000\n",
      "25%    56.750000  66.500000  64.000000  70.750000  66.250000\n",
      "50%    66.000000  77.500000  73.500000  80.500000  76.000000\n",
      "75%    81.500000  87.750000  91.750000  89.750000  83.750000\n",
      "max    97.000000  97.000000  99.000000  95.000000  90.000000\n"
     ]
    }
   ],
   "source": [
    "print(df.describe())"
   ]
  },
  {
   "cell_type": "code",
   "execution_count": 112,
   "id": "cf1b3a82-514c-4233-bda2-306884dcafbd",
   "metadata": {},
   "outputs": [],
   "source": [
    "\n",
    "\n",
    "if ('Kiswahili', 'Histroy') in df.columns:\n",
    "    df.drop(columns=[('Kiswahili', 'Histroy')], inplace=True)\n",
    "df['Kiswahili'] = [90, 56, 78, 95, 69, 34, 89, 76, 94, 83]\n",
    "df['History'] = [70, 65, 80, 75, 60, 50, 85, 90, 88, 77]"
   ]
  },
  {
   "cell_type": "code",
   "execution_count": 108,
   "id": "23d8f986-4b2e-44e2-9a71-56a20be3d5bb",
   "metadata": {},
   "outputs": [
    {
     "name": "stdout",
     "output_type": "stream",
     "text": [
      "  StudentID  Math  English  Science  Kiswahili  History\n",
      "0      S001    97       66       62         90       70\n",
      "1      S002    55       97       51         56       65\n",
      "2      S003    62       50       92         78       80\n",
      "3      S004    52       77       99         95       75\n",
      "4      S005    74       94       57         69       60\n",
      "5      S006    66       52       91         34       50\n",
      "6      S007    66       78       71         89       85\n",
      "7      S008    87       68       95         76       90\n",
      "8      S009    50       87       70         94       88\n",
      "9      S010    84       88       76         83       77\n",
      "\n",
      "First Five rowns with new data:\n",
      "   StudentID  Math  English  Science  Kiswahili  History\n",
      "0      S001    97       66       62         90       70\n",
      "1      S002    55       97       51         56       65\n",
      "2      S003    62       50       92         78       80\n",
      "3      S004    52       77       99         95       75\n",
      "4      S005    74       94       57         69       60\n"
     ]
    }
   ],
   "source": [
    "print(df.to_string())\n",
    "print('\\nFirst Five rowns with new data:\\n',df.head())"
   ]
  },
  {
   "cell_type": "code",
   "execution_count": null,
   "id": "2d77f1a6-f808-42ff-9b89-b450b8d88866",
   "metadata": {},
   "outputs": [],
   "source": []
  },
  {
   "cell_type": "code",
   "execution_count": null,
   "id": "f5700ed0-62e4-4120-852c-904b77a58eed",
   "metadata": {},
   "outputs": [],
   "source": []
  },
  {
   "cell_type": "code",
   "execution_count": null,
   "id": "35016c4e-f56c-40a2-8f05-36966ffe2ab3",
   "metadata": {},
   "outputs": [],
   "source": []
  }
 ],
 "metadata": {
  "kernelspec": {
   "display_name": "Python [conda env:base] *",
   "language": "python",
   "name": "conda-base-py"
  },
  "language_info": {
   "codemirror_mode": {
    "name": "ipython",
    "version": 3
   },
   "file_extension": ".py",
   "mimetype": "text/x-python",
   "name": "python",
   "nbconvert_exporter": "python",
   "pygments_lexer": "ipython3",
   "version": "3.12.7"
  }
 },
 "nbformat": 4,
 "nbformat_minor": 5
}
