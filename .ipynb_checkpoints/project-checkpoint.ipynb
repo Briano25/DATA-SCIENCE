{
 "cells": [
  {
   "cell_type": "code",
   "execution_count": 5,
   "id": "1ee620a5",
   "metadata": {},
   "outputs": [
    {
     "name": "stdout",
     "output_type": "stream",
     "text": [
      "Index(['customer_id', 'age', 'gender', 'city', 'county', 'signup_date',\n",
      "       'last_purchase_date', 'tenure_months', 'monthly_charges',\n",
      "       'total_charges', 'plan_type', 'payment_method', 'contract',\n",
      "       'num_support_tickets', 'has_internet', 'data_usage_gb',\n",
      "       'is_senior_citizen', 'dependents', 'device_model', 'referrer',\n",
      "       'feedback_text', 'churn'],\n",
      "      dtype='object')\n",
      "Shape: (1215, 22)\n",
      "<class 'pandas.core.frame.DataFrame'>\n",
      "RangeIndex: 1215 entries, 0 to 1214\n",
      "Data columns (total 22 columns):\n",
      " #   Column               Non-Null Count  Dtype  \n",
      "---  ------               --------------  -----  \n",
      " 0   customer_id          1215 non-null   object \n",
      " 1   age                  1174 non-null   float64\n",
      " 2   gender               1163 non-null   object \n",
      " 3   city                 1161 non-null   object \n",
      " 4   county               1102 non-null   object \n",
      " 5   signup_date          1215 non-null   object \n",
      " 6   last_purchase_date   1215 non-null   object \n",
      " 7   tenure_months        1158 non-null   float64\n",
      " 8   monthly_charges      1181 non-null   object \n",
      " 9   total_charges        985 non-null    object \n",
      " 10  plan_type            1190 non-null   object \n",
      " 11  payment_method       1142 non-null   object \n",
      " 12  contract             1173 non-null   object \n",
      " 13  num_support_tickets  1156 non-null   float64\n",
      " 14  has_internet         1215 non-null   object \n",
      " 15  data_usage_gb        1028 non-null   float64\n",
      " 16  is_senior_citizen    1215 non-null   object \n",
      " 17  dependents           1141 non-null   object \n",
      " 18  device_model         1118 non-null   object \n",
      " 19  referrer             860 non-null    object \n",
      " 20  feedback_text        1013 non-null   object \n",
      " 21  churn                1215 non-null   object \n",
      "dtypes: float64(4), object(18)\n",
      "memory usage: 209.0+ KB\n",
      "None\n",
      "\n",
      "Numeric Summary:\n",
      "\n",
      "               age  tenure_months  num_support_tickets  data_usage_gb\n",
      "count  1174.000000    1158.000000          1156.000000    1028.000000\n",
      "mean     34.914821      38.593264             2.027682      46.320603\n",
      "std      15.215460      24.957690             1.454985     112.479160\n",
      "min      -5.000000     -71.000000             0.000000       0.000000\n",
      "25%      26.000000      19.000000             1.000000       0.000000\n",
      "50%      34.000000      39.000000             2.000000      26.350000\n",
      "75%      42.750000      59.750000             3.000000      64.340000\n",
      "max     145.000000      85.000000             9.000000    1481.470000\n",
      "\n",
      "Categorical Summary:\n",
      "\n",
      "       customer_id gender   city  county signup_date last_purchase_date  \\\n",
      "count         1215   1163   1161    1102        1215               1215   \n",
      "unique        1200      7     13       9        1060               1053   \n",
      "top     CUST000119   male  Nyeri  Nakuru  2021/13/40         2021/13/40   \n",
      "freq             2    176    108     225          15                 27   \n",
      "\n",
      "       monthly_charges total_charges plan_type payment_method        contract  \\\n",
      "count             1181           985      1190           1142            1173   \n",
      "unique            1151           847         4              6               5   \n",
      "top      not available                   Basic         M-Pesa  Month-to-month   \n",
      "freq                14           126       529            201             675   \n",
      "\n",
      "       has_internet is_senior_citizen dependents device_model referrer  \\\n",
      "count          1215              1215       1141         1118      860   \n",
      "unique            8                 4          4           60        8   \n",
      "top              No                 0        Yes   Realme S32    Radio   \n",
      "freq            169               314        296           29      131   \n",
      "\n",
      "                          feedback_text churn  \n",
      "count                              1013  1215  \n",
      "unique                               50     2  \n",
      "top     Switching from competitor soon.    No  \n",
      "freq                                 91   890  \n",
      "\n",
      "Missing Values per Column:\n",
      "\n",
      "referrer               355\n",
      "total_charges          230\n",
      "feedback_text          202\n",
      "data_usage_gb          187\n",
      "county                 113\n",
      "device_model            97\n",
      "dependents              74\n",
      "payment_method          73\n",
      "num_support_tickets     59\n",
      "tenure_months           57\n",
      "city                    54\n",
      "gender                  52\n",
      "contract                42\n",
      "age                     41\n",
      "monthly_charges         34\n",
      "plan_type               25\n",
      "customer_id              0\n",
      "is_senior_citizen        0\n",
      "has_internet             0\n",
      "last_purchase_date       0\n",
      "signup_date              0\n",
      "churn                    0\n",
      "dtype: int64\n",
      "\n",
      "Number of duplicate rows: 15\n",
      "\n",
      "Column: gender\n",
      "gender\n",
      "male      176\n",
      "Female    175\n",
      "Male      172\n",
      "F         163\n",
      "Other     161\n",
      "female    160\n",
      "M         156\n",
      "NaN        52\n",
      "Name: count, dtype: int64\n",
      "\n",
      "Column: city\n",
      "city\n",
      "Nyeri       108\n",
      "Thika        98\n",
      "Eldoret      96\n",
      "Mombasa      95\n",
      "Machakos     91\n",
      "Nrb          89\n",
      "Nairobi      88\n",
      "Nairobi      88\n",
      "Naivasha     85\n",
      "Meru         84\n",
      "Nakuru       80\n",
      "Kisumu       80\n",
      "Niarobi      79\n",
      "NaN          54\n",
      "Name: count, dtype: int64\n",
      "\n",
      "Column: plan_type\n",
      "plan_type\n",
      "Basic       529\n",
      "Standard    430\n",
      "Premium     196\n",
      "basic        35\n",
      "NaN          25\n",
      "Name: count, dtype: int64\n",
      "\n",
      "Column: payment_method\n",
      "payment_method\n",
      "M-Pesa           201\n",
      "MPesa            201\n",
      "Credit card      197\n",
      "Bank transfer    188\n",
      "Mpesa            179\n",
      "Cash             176\n",
      "NaN               73\n",
      "Name: count, dtype: int64\n",
      "\n",
      "Column: contract\n",
      "contract\n",
      "Month-to-month    675\n",
      "One year          319\n",
      "Two year          116\n",
      "NaN                42\n",
      "1-yr               39\n",
      "2-yr               24\n",
      "Name: count, dtype: int64\n",
      "\n",
      "Column: has_internet\n",
      "has_internet\n",
      "No       169\n",
      "Yes      164\n",
      "1        157\n",
      "0        155\n",
      "FALSE    149\n",
      "N        149\n",
      "Y        138\n",
      "TRUE     134\n",
      "Name: count, dtype: int64\n",
      "\n",
      "Column: dependents\n",
      "dependents\n",
      "Yes    296\n",
      "yes    296\n",
      "no     276\n",
      "No     273\n",
      "NaN     74\n",
      "Name: count, dtype: int64\n",
      "\n",
      "=== Column: age ===\n",
      "Missing values: 41\n",
      "Mean: 34.91\n",
      "Std Dev: 15.22\n",
      "Min: -5.0\n",
      "25%: 26.0\n",
      "Median (50%): 34.0\n",
      "75%: 42.75\n",
      "Max: 145.0\n",
      "--------------------------------------------------\n",
      "\n",
      "=== Column: tenure_months ===\n",
      "Missing values: 57\n",
      "Mean: 38.59\n",
      "Std Dev: 24.96\n",
      "Min: -71.0\n",
      "25%: 19.0\n",
      "Median (50%): 39.0\n",
      "75%: 59.75\n",
      "Max: 85.0\n",
      "--------------------------------------------------\n",
      "\n",
      "=== Column: num_support_tickets ===\n",
      "Missing values: 59\n",
      "Mean: 2.03\n",
      "Std Dev: 1.45\n",
      "Min: 0.0\n",
      "25%: 1.0\n",
      "Median (50%): 2.0\n",
      "75%: 3.0\n",
      "Max: 9.0\n",
      "--------------------------------------------------\n",
      "\n",
      "=== Column: data_usage_gb ===\n",
      "Missing values: 187\n",
      "Mean: 46.32\n",
      "Std Dev: 112.48\n",
      "Min: 0.0\n",
      "25%: 0.0\n",
      "Median (50%): 26.35\n",
      "75%: 64.34\n",
      "Max: 1481.47\n",
      "--------------------------------------------------\n",
      "Remaining rows after dropping duplicates: 1200\n",
      "Missing Values Report:\n",
      "\n",
      "referrer               349\n",
      "total_charges          229\n",
      "feedback_text          199\n",
      "data_usage_gb          183\n",
      "county                 112\n",
      "device_model            96\n",
      "payment_method          73\n",
      "dependents              73\n",
      "num_support_tickets     59\n",
      "tenure_months           57\n",
      "city                    54\n",
      "gender                  52\n",
      "contract                42\n",
      "age                     41\n",
      "monthly_charges         34\n",
      "plan_type               25\n",
      "customer_id              0\n",
      "is_senior_citizen        0\n",
      "has_internet             0\n",
      "last_purchase_date       0\n",
      "signup_date              0\n",
      "churn                    0\n",
      "dtype: int64\n"
     ]
    }
   ],
   "source": [
    "import pandas as pd\n",
    "import numpy as np\n",
    "#Loading the dataset as csv file\n",
    "df = pd.read_csv(r\"C:\\Users\\OJ 001\\Downloads\\customer_subscriptions_dirty.csv\")\n",
    "\n",
    "#Viweing the dataset columns,the shape of the dataset and the first 5 rows, respectively\n",
    "print(df.columns)\n",
    "print(\"Shape:\", df.shape)\n",
    "#df.head(5)\n",
    "\n",
    "print(df.info())\n",
    "\n",
    "#Describing numeric and categorical/text columns respectively\n",
    "print(\"\\nNumeric Summary:\\n\")\n",
    "print(df.describe(include=[np.number]))\n",
    "\n",
    "print(\"\\nCategorical Summary:\\n\")\n",
    "print(df.describe(include=[object]))\n",
    "\n",
    "#Missing values\n",
    "print(\"\\nMissing Values per Column:\\n\")\n",
    "print(df.isnull().sum().sort_values(ascending=False))\n",
    "\n",
    "#Dulicate values\n",
    "duplicate_count = df.duplicated().sum()\n",
    "print(f\"\\nNumber of duplicate rows: {duplicate_count}\")\n",
    "\n",
    "#Unique Values per Column (for spotting inconsistencies) in text columns\n",
    "for col in ['gender', 'city', 'plan_type', 'payment_method', 'contract', 'has_internet', 'dependents']:\n",
    "    print(f\"\\nColumn: {col}\")\n",
    "    print(df[col].value_counts(dropna=False).head(15))\n",
    "\n",
    "#Unique Values per Column (for spotting inconsistencies) in numerical  columns to show null values and outliers\n",
    "\n",
    "# Select only numeric columns\n",
    "numeric_cols = df.select_dtypes(include=['int64', 'float64']).columns\n",
    "\n",
    "for col in numeric_cols:\n",
    "    print(f\"\\n=== Column: {col} ===\")\n",
    "    print(f\"Missing values: {df[col].isna().sum()}\")\n",
    "    print(f\"Mean: {df[col].mean():.2f}\")\n",
    "    print(f\"Std Dev: {df[col].std():.2f}\")\n",
    "    print(f\"Min: {df[col].min()}\")\n",
    "    print(f\"25%: {df[col].quantile(0.25)}\")\n",
    "    print(f\"Median (50%): {df[col].median()}\")\n",
    "    print(f\"75%: {df[col].quantile(0.75)}\")\n",
    "    print(f\"Max: {df[col].max()}\")\n",
    "    print(\"-\" * 50)\n",
    "\n",
    "# Dropping duplicated rows\n",
    "\n",
    "df = df.drop_duplicates()\n",
    "\n",
    "# Confirm\n",
    "print(f\"Remaining rows after dropping duplicates: {len(df)}\")\n",
    "\n",
    "#checking for missing values\n",
    "# Count missing values in each column\n",
    "missing_report = df.isna().sum().sort_values(ascending=False)\n",
    "\n",
    "print(\"Missing Values Report:\\n\")\n",
    "print(missing_report)\n",
    "\n",
    "\n",
    "\n",
    "\n",
    "\n",
    "\n",
    "\n"
   ]
  },
  {
   "cell_type": "markdown",
   "id": "c8032602",
   "metadata": {},
   "source": [
    "#Identifying categorical columns\n"
   ]
  },
  {
   "cell_type": "code",
   "execution_count": 14,
   "id": "b43957fa-ef43-414e-b050-4415fc0c141f",
   "metadata": {},
   "outputs": [
    {
     "name": "stdout",
     "output_type": "stream",
     "text": [
      "Categorical columns: ['customer_id', 'gender', 'city', 'county', 'signup_date', 'last_purchase_date', 'monthly_charges', 'total_charges', 'plan_type', 'payment_method', 'contract', 'has_internet', 'is_senior_citizen', 'dependents', 'device_model', 'referrer', 'feedback_text', 'churn']\n"
     ]
    }
   ],
   "source": [
    "# Get categorical columns\n",
    "categorical_cols = df.select_dtypes(include=['object']).columns\n",
    "print(\"Categorical columns:\", list(categorical_cols))\n"
   ]
  },
  {
   "cell_type": "code",
   "execution_count": 16,
   "id": "e3d511a0-3efd-41d7-b96f-937504ef997d",
   "metadata": {},
   "outputs": [],
   "source": [
    "#Fill Missing Values with \"Unknown\""
   ]
  },
  {
   "cell_type": "code",
   "execution_count": 18,
   "id": "aad41075-6b98-472c-a804-a2c41ca74df8",
   "metadata": {},
   "outputs": [],
   "source": [
    "# Replace NaN with 'Unknown' in all categorical columns\n",
    "df[categorical_cols] = df[categorical_cols].fillna(\"Unknown\")\n"
   ]
  },
  {
   "cell_type": "code",
   "execution_count": 20,
   "id": "7446e861-c55f-4b5c-b9e1-f4aad9d6de70",
   "metadata": {},
   "outputs": [],
   "source": [
    "#Verifying\n"
   ]
  },
  {
   "cell_type": "code",
   "execution_count": 22,
   "id": "e36842cd-2d49-469a-a2ac-c2757c5e5d62",
   "metadata": {},
   "outputs": [
    {
     "name": "stdout",
     "output_type": "stream",
     "text": [
      "customer_id           0\n",
      "gender                0\n",
      "city                  0\n",
      "county                0\n",
      "signup_date           0\n",
      "last_purchase_date    0\n",
      "monthly_charges       0\n",
      "total_charges         0\n",
      "plan_type             0\n",
      "payment_method        0\n",
      "contract              0\n",
      "has_internet          0\n",
      "is_senior_citizen     0\n",
      "dependents            0\n",
      "device_model          0\n",
      "referrer              0\n",
      "feedback_text         0\n",
      "churn                 0\n",
      "dtype: int64\n"
     ]
    }
   ],
   "source": [
    "# Check if any categorical columns still have NaN\n",
    "print(df[categorical_cols].isna().sum())\n"
   ]
  },
  {
   "cell_type": "code",
   "execution_count": 24,
   "id": "134a1655-8137-484a-b063-470fdbdb600e",
   "metadata": {},
   "outputs": [],
   "source": [
    "#Identifying numeric columns"
   ]
  },
  {
   "cell_type": "code",
   "execution_count": 26,
   "id": "d7b850a0-0bfd-4ce9-b777-94d62f0d346c",
   "metadata": {},
   "outputs": [
    {
     "name": "stdout",
     "output_type": "stream",
     "text": [
      "Numeric columns: ['age', 'tenure_months', 'num_support_tickets', 'data_usage_gb']\n"
     ]
    }
   ],
   "source": [
    "# Get numeric columns\n",
    "numeric_cols = df.select_dtypes(include=['int64', 'float64']).columns\n",
    "print(\"Numeric columns:\", list(numeric_cols))\n"
   ]
  },
  {
   "cell_type": "code",
   "execution_count": 35,
   "id": "076c0773-8443-4c60-a123-99d242fa4113",
   "metadata": {},
   "outputs": [],
   "source": [
    "#Filling mssing values with median"
   ]
  },
  {
   "cell_type": "code",
   "execution_count": 45,
   "id": "36de7192-4033-4528-ac26-3bbc53d666b0",
   "metadata": {},
   "outputs": [
    {
     "name": "stdout",
     "output_type": "stream",
     "text": [
      "age                    float64\n",
      "tenure_months          float64\n",
      "num_support_tickets    float64\n",
      "data_usage_gb          float64\n",
      "dtype: object\n"
     ]
    }
   ],
   "source": [
    "#Checking the type of data in numeric columns\n",
    "print(df[numeric_cols].dtypes)\n"
   ]
  },
  {
   "cell_type": "code",
   "execution_count": 41,
   "id": "69f19e46-d5e5-4eee-a921-713b2f93b678",
   "metadata": {},
   "outputs": [],
   "source": [
    "# Convert all numeric columns to proper numbers\n",
    "for col in numeric_cols:\n",
    "    df[col] = pd.to_numeric(df[col], errors='coerce')\n"
   ]
  },
  {
   "cell_type": "code",
   "execution_count": 47,
   "id": "9258dc5e-eef4-4eae-a9c5-c95e245cbb9c",
   "metadata": {},
   "outputs": [],
   "source": [
    "#Filling numeric columns witg median\n",
    "for col in numeric_cols:\n",
    "    df[col] = df[col].fillna(df[col].median())\n"
   ]
  },
  {
   "cell_type": "code",
   "execution_count": 57,
   "id": "2b950f1f-cf78-44be-b50f-48b49cb7822d",
   "metadata": {},
   "outputs": [
    {
     "name": "stdout",
     "output_type": "stream",
     "text": [
      "age                    0\n",
      "tenure_months          0\n",
      "num_support_tickets    0\n",
      "data_usage_gb          0\n",
      "dtype: int64\n",
      "\n",
      " age                    float64\n",
      "tenure_months          float64\n",
      "num_support_tickets    float64\n",
      "data_usage_gb          float64\n",
      "dtype: object\n"
     ]
    }
   ],
   "source": [
    "# Verifying\n",
    "print(df[numeric_cols].isna().sum())\n",
    "print(\"\\n\", df[numeric_cols].dtypes)\n"
   ]
  },
  {
   "cell_type": "code",
   "execution_count": 61,
   "id": "143857ff-f1c8-4624-a5a0-1492d508dbfc",
   "metadata": {},
   "outputs": [],
   "source": [
    "#df.head(5)"
   ]
  },
  {
   "cell_type": "code",
   "execution_count": 65,
   "id": "d43587ca-f971-44ac-9640-a1e0824e28e2",
   "metadata": {},
   "outputs": [],
   "source": [
    "df['age'] = pd.to_numeric(df['age'], errors='coerce')\n",
    "df['tenure_months'] = pd.to_numeric(df['tenure_months'], errors='coerce')\n",
    "df['monthly_charges'] = pd.to_numeric(df['monthly_charges'], errors='coerce')\n",
    "df['total_charges'] = pd.to_numeric(df['total_charges'], errors='coerce')\n",
    "\n"
   ]
  },
  {
   "cell_type": "code",
   "execution_count": 72,
   "id": "27629f59-f51e-4239-9b29-f598152067d1",
   "metadata": {},
   "outputs": [],
   "source": [
    "df['monthly_charges'] = pd.to_numeric(df['monthly_charges'], errors='coerce')\n",
    "df['total_charges']   = pd.to_numeric(df['total_charges'], errors='coerce')\n",
    "\n",
    "# Fill missing with median\n",
    "df['monthly_charges'] = df['monthly_charges'].fillna(df['monthly_charges'].median())\n",
    "df['total_charges']   = df['total_charges'].fillna(df['total_charges'].median())\n"
   ]
  },
  {
   "cell_type": "code",
   "execution_count": 74,
   "id": "a4bdbd4b-73e9-461b-be5c-db74e3283fc4",
   "metadata": {},
   "outputs": [
    {
     "name": "stdout",
     "output_type": "stream",
     "text": [
      "monthly_charges    float64\n",
      "total_charges      float64\n",
      "dtype: object\n",
      "monthly_charges    0\n",
      "total_charges      0\n",
      "dtype: int64\n"
     ]
    }
   ],
   "source": [
    "print(df[['monthly_charges','total_charges']].dtypes)\n",
    "print(df[['monthly_charges','total_charges']].isna().sum())\n"
   ]
  },
  {
   "cell_type": "code",
   "execution_count": 76,
   "id": "9905ef3e-13b9-4c90-b542-0101164b26cb",
   "metadata": {},
   "outputs": [
    {
     "name": "stdout",
     "output_type": "stream",
     "text": [
      "Invalid ages: 160    -4.0\n",
      "190    -5.0\n",
      "224    -3.0\n",
      "233    -3.0\n",
      "363    -5.0\n",
      "809    -3.0\n",
      "867    -2.0\n",
      "878    -3.0\n",
      "1031   -3.0\n",
      "1174   -3.0\n",
      "Name: age, dtype: float64\n",
      "Invalid tenure: 126    -71.0\n",
      "151    -71.0\n",
      "163    -47.0\n",
      "193    -35.0\n",
      "220    -67.0\n",
      "259    -65.0\n",
      "499    -57.0\n",
      "505    -44.0\n",
      "622    -22.0\n",
      "749    -13.0\n",
      "922    -17.0\n",
      "958    -68.0\n",
      "1106   -52.0\n",
      "Name: tenure_months, dtype: float64\n",
      "Invalid monthly charges: 61     -460.55\n",
      "167    -132.38\n",
      "490    -394.95\n",
      "492    -104.42\n",
      "589    -229.88\n",
      "634    -345.74\n",
      "699    -219.28\n",
      "718    -337.93\n",
      "899    -169.04\n",
      "925    -218.82\n",
      "948    -321.76\n",
      "982    -271.61\n",
      "995    -239.74\n",
      "1030   -335.93\n",
      "1147   -166.64\n",
      "1155   -160.47\n",
      "1193   -309.99\n",
      "Name: monthly_charges, dtype: float64\n",
      "Invalid total charges: 35       -136.41\n",
      "61     -10579.43\n",
      "167     -2775.75\n",
      "405     -1535.34\n",
      "490    -30907.12\n",
      "492     -1423.15\n",
      "634    -24456.58\n",
      "649      -297.71\n",
      "699     -5644.19\n",
      "801      -128.74\n",
      "982     -8493.14\n",
      "1018     -160.52\n",
      "1030    -3561.92\n",
      "1155    -2318.11\n",
      "Name: total_charges, dtype: float64\n"
     ]
    }
   ],
   "source": [
    "# Check invalid ages\n",
    "invalid_ages = df.query('age < 0')['age']\n",
    "print(\"Invalid ages:\", invalid_ages)\n",
    "\n",
    "# Check invalid tenure\n",
    "invalid_tenure = df.query('tenure_months < 0')['tenure_months']\n",
    "print(\"Invalid tenure:\", invalid_tenure)\n",
    "\n",
    "# Check invalid monthly charges\n",
    "invalid_monthly = df.query('monthly_charges < 0')['monthly_charges']\n",
    "print(\"Invalid monthly charges:\", invalid_monthly)\n",
    "\n",
    "# Check invalid total charges\n",
    "invalid_total = df.query('total_charges < 0')['total_charges']\n",
    "print(\"Invalid total charges:\", invalid_total)\n"
   ]
  },
  {
   "cell_type": "code",
   "execution_count": 78,
   "id": "0e937b13-da2d-4102-b8aa-a85b0a6a703f",
   "metadata": {},
   "outputs": [],
   "source": [
    "# Clean gender\n",
    "df['gender'] = df['gender'].str.strip().str.lower()\n",
    "df['gender'] = df['gender'].replace({'male': 'Male', 'female': 'Female'})\n",
    "\n",
    "# Clean Yes/No columns\n",
    "df['has_internet'] = df['has_internet'].str.strip().str.lower()\n",
    "df['has_internet'] = df['has_internet'].replace({'yes': 'Yes', 'no': 'No'})\n",
    "\n",
    "df['dependents'] = df['dependents'].str.strip().str.lower()\n",
    "df['dependents'] = df['dependents'].replace({'yes': 'Yes', 'no': 'No'})\n"
   ]
  },
  {
   "cell_type": "code",
   "execution_count": 80,
   "id": "d6d1af87-7b8d-4cf9-a94b-9903c018821f",
   "metadata": {},
   "outputs": [
    {
     "name": "stdout",
     "output_type": "stream",
     "text": [
      "\n",
      "Cleaned unique values in gender: ['other' 'f' 'm' 'Male' 'Female' 'unknown']\n",
      "\n",
      "Cleaned unique values in has_internet: ['0' 'Yes' 'true' 'No' '1' 'y' 'false' 'n']\n",
      "\n",
      "Cleaned unique values in dependents: ['No' 'Yes' 'unknown']\n"
     ]
    }
   ],
   "source": [
    "for col in ['gender','has_internet','dependents']:\n",
    "    print(f\"\\nCleaned unique values in {col}: {df[col].unique()}\")\n"
   ]
  },
  {
   "cell_type": "code",
   "execution_count": 82,
   "id": "c6b04c85-2376-4277-b5bd-c02b91796030",
   "metadata": {},
   "outputs": [],
   "source": [
    "#fixing gender column further \n",
    "\n",
    "# Normalize gender column\n",
    "df['gender'] = df['gender'].str.strip().str.lower()\n",
    "\n",
    "# Map values\n",
    "df['gender'] = df['gender'].replace({\n",
    "    'male': 'Male',\n",
    "    'female': 'Female',\n",
    "    'm': 'Male',\n",
    "    'f': 'Female',\n",
    "    'y': 'Yes',\n",
    "    'n': 'No'\n",
    "})\n"
   ]
  },
  {
   "cell_type": "code",
   "execution_count": 84,
   "id": "ff85c749-83b0-449e-b99a-18978325305f",
   "metadata": {},
   "outputs": [],
   "source": [
    "#fixing has internet column further \n",
    "# Normalize has_internet column\n",
    "df['has_internet'] = df['has_internet'].astype(str).str.strip().str.lower()\n",
    "\n",
    "# Map values\n",
    "df['has_internet'] = df['has_internet'].replace({\n",
    "    'yes': 'Yes',\n",
    "    'no': 'No',\n",
    "    'true': 'Yes',\n",
    "    'false': 'No',\n",
    "    '1': 'Yes',\n",
    "    '0': 'No'\n",
    "})\n"
   ]
  },
  {
   "cell_type": "code",
   "execution_count": 86,
   "id": "65bd3fd1-a8f9-4843-bf64-a33a9003ac55",
   "metadata": {},
   "outputs": [],
   "source": [
    "# -------------------------------\n",
    "# CLEAN CATEGORICAL COLUMNS\n",
    "# ---------------------------\n",
    "# --- Plan Type ---\n",
    "df['plan_type'] = df['plan_type'].astype(str).str.strip().str.lower()\n",
    "df['plan_type'] = df['plan_type'].replace({\n",
    "    'basic': 'Basic',\n",
    "    'standard': 'Standard',\n",
    "    'premium': 'Premium',\n",
    "    'unknown': 'Unknown'\n",
    "})\n",
    "\n",
    "# --- Payment Method ---\n",
    "df['payment_method'] = df['payment_method'].astype(str).str.strip().str.lower()\n",
    "df['payment_method'] = df['payment_method'].replace({\n",
    "    'credit card': 'Credit Card',\n",
    "    'cc': 'Credit Card',\n",
    "    'debit card': 'Debit Card',\n",
    "    'bank transfer': 'Bank Transfer',\n",
    "    'paypal': 'PayPal',\n",
    "    'unknown': 'Unknown'\n",
    "})\n",
    "\n",
    "# --- Contract ---\n",
    "df['contract'] = df['contract'].astype(str).str.strip().str.lower()\n",
    "df['contract'] = df['contract'].replace({\n",
    "    'month-to-month': 'Month-to-Month',\n",
    "    '1 year': 'One year',\n",
    "    '12 months': 'One year',\n",
    "    '2 year': 'Two year',\n",
    "    '24 months': 'Two year',\n",
    "    'unknown': 'Unknown'\n",
    "})\n",
    "\n",
    "# --- City ---\n",
    "df['city'] = df['city'].astype(str).str.strip().str.title()\n",
    "# (Title case ensures \"new york\", \"NEW YORK\" -> \"New York\")\n"
   ]
  },
  {
   "cell_type": "code",
   "execution_count": 88,
   "id": "e1d7780c-b310-4408-8cd6-dcc7f2148c75",
   "metadata": {},
   "outputs": [
    {
     "name": "stdout",
     "output_type": "stream",
     "text": [
      "\n",
      "Unique values in gender:\n",
      "['other' 'Female' 'Male' 'unknown']\n",
      "\n",
      "Unique values in has_internet:\n",
      "['No' 'Yes' 'y' 'n']\n",
      "\n",
      "Unique values in dependents:\n",
      "['No' 'Yes' 'unknown']\n",
      "\n",
      "Unique values in plan_type:\n",
      "['Unknown' 'Standard' 'Basic' 'Premium']\n",
      "\n",
      "Unique values in payment_method:\n",
      "['Credit Card' 'cash' 'mpesa' 'm-pesa' 'Bank Transfer' 'Unknown']\n",
      "\n",
      "Unique values in contract:\n",
      "['Month-to-Month' 'two year' '1-yr' 'one year' 'Unknown' '2-yr']\n",
      "\n",
      "Unique values in city:\n",
      "['Nakuru' 'Kisumu' 'Unknown' 'Nairobi' 'Nyeri' 'Machakos' 'Meru'\n",
      " 'Naivasha' 'Mombasa' 'Niarobi' 'Nrb' 'Thika' 'Eldoret']\n"
     ]
    }
   ],
   "source": []
  },
  {
   "cell_type": "code",
   "execution_count": 90,
   "id": "240a3121-f9b9-4a25-be53-0a5073c452f8",
   "metadata": {},
   "outputs": [
    {
     "name": "stdout",
     "output_type": "stream",
     "text": [
      "Numeric Columns: Index(['age', 'tenure_months', 'monthly_charges', 'total_charges',\n",
      "       'num_support_tickets', 'data_usage_gb'],\n",
      "      dtype='object')\n"
     ]
    }
   ],
   "source": [
    "#confirming numeric columns\n",
    "numeric_cols = df.select_dtypes(include=[np.number]).columns\n",
    "print(\"Numeric Columns:\", numeric_cols)\n"
   ]
  },
  {
   "cell_type": "code",
   "execution_count": 100,
   "id": "9cc0de86-66c9-4b6b-8ff6-ea79ee8c3f3c",
   "metadata": {},
   "outputs": [],
   "source": [
    " #further for other inconsistencies in columns\n",
    "# --- Contract ---\n",
    "# --- Contract ---\n",
    "df['contract'] = df['contract'].astype(str).str.strip().str.lower()\n",
    "df['contract'] = df['contract'].replace({\n",
    "    'month-to-month': 'Month-to-Month',\n",
    "    '1 year': 'One year',\n",
    "    '1-yr': 'One year',\n",
    "    '12 months': 'One year',\n",
    "    'one year': 'One year',\n",
    "    '2 year': 'Two year',\n",
    "    '2-yr': 'Two year',\n",
    "    '24 months': 'Two year',\n",
    "    'two year': 'Two year',\n",
    "    'unknown': 'Unknown'\n",
    "})\n",
    "# Ensure consistent title casing\n",
    "df['contract'] = df['contract'].str.title()\n",
    "\n",
    "\n",
    "\n",
    "# --- Payment Method ---\n",
    "df['payment_method'] = df['payment_method'].astype(str).str.strip().str.lower()\n",
    "df['payment_method'] = df['payment_method'].replace({\n",
    "    'credit card': 'Credit Card',\n",
    "    'cc': 'Credit Card',\n",
    "    'debit card': 'Debit Card',\n",
    "    'bank transfer': 'Bank Transfer',\n",
    "    'paypal': 'PayPal',\n",
    "    'mpesa': 'M-Pesa',\n",
    "    'm-pesa': 'M-Pesa',\n",
    "    'unknown': 'Unknown'\n",
    "})\n",
    "\n",
    "# --- City ---\n",
    "df['city'] = df['city'].astype(str).str.strip().str.title()\n",
    "df['city'] = df['city'].replace({\n",
    "    'Niarobi': 'Nairobi',\n",
    "    'Nrb': 'Nairobi'\n",
    "})\n",
    "\n",
    "# --- Has Internet ---\n",
    "df['has_internet'] = df['has_internet'].astype(str).str.strip().str.lower()\n",
    "df['has_internet'] = df['has_internet'].replace({\n",
    "    'yes': 'Yes',\n",
    "    'true': 'Yes',\n",
    "    '1': 'Yes',\n",
    "    'y': 'Yes',\n",
    "    'no': 'No',\n",
    "    'false': 'No',\n",
    "    '0': 'No',\n",
    "    'n': 'No',\n",
    "    'unknown': 'Unknown'\n",
    "})\n"
   ]
  },
  {
   "cell_type": "code",
   "execution_count": 102,
   "id": "eb500422-2c3c-4690-8e59-42a8a9da951c",
   "metadata": {},
   "outputs": [
    {
     "name": "stdout",
     "output_type": "stream",
     "text": [
      "\n",
      "Unique values in gender:\n",
      "['other' 'Female' 'Male' 'unknown']\n",
      "\n",
      "Unique values in has_internet:\n",
      "['No' 'Yes']\n",
      "\n",
      "Unique values in dependents:\n",
      "['No' 'Yes' 'unknown']\n",
      "\n",
      "Unique values in plan_type:\n",
      "['Unknown' 'Standard' 'Basic' 'Premium']\n",
      "\n",
      "Unique values in payment_method:\n",
      "['Credit Card' 'cash' 'M-Pesa' 'Bank Transfer' 'Unknown']\n",
      "\n",
      "Unique values in contract:\n",
      "['Month-To-Month' 'Two Year' 'One Year' 'Unknown']\n",
      "\n",
      "Unique values in city:\n",
      "['Nakuru' 'Kisumu' 'Unknown' 'Nairobi' 'Nyeri' 'Machakos' 'Meru'\n",
      " 'Naivasha' 'Mombasa' 'Thika' 'Eldoret']\n"
     ]
    }
   ],
   "source": [
    "# Verify cleaned categorical columns\n",
    "for col in ['gender','has_internet', 'dependents','plan_type','payment_method','contract','city']:\n",
    "    print(f\"\\nUnique values in {col}:\")\n",
    "    print(df[col].unique())\n"
   ]
  },
  {
   "cell_type": "code",
   "execution_count": 104,
   "id": "116c1ba6-0ce6-4ab4-83ce-7dbbf5ae912d",
   "metadata": {},
   "outputs": [
    {
     "name": "stdout",
     "output_type": "stream",
     "text": [
      "Numeric Columns: Index(['age', 'tenure_months', 'monthly_charges', 'total_charges',\n",
      "       'num_support_tickets', 'data_usage_gb'],\n",
      "      dtype='object')\n"
     ]
    }
   ],
   "source": [
    "# confirming numeric columns\n",
    "numeric_cols = df.select_dtypes(include=[np.number]).columns\n",
    "print(\"Numeric Columns:\", numeric_cols)\n"
   ]
  },
  {
   "cell_type": "code",
   "execution_count": 106,
   "id": "fcab8976-c062-4e24-8a5e-a439eeedefdc",
   "metadata": {},
   "outputs": [
    {
     "name": "stdout",
     "output_type": "stream",
     "text": [
      "               age  tenure_months  monthly_charges  total_charges  \\\n",
      "count  1200.000000    1200.000000      1200.000000   1.200000e+03   \n",
      "mean     34.967500      38.696667      2647.556483   8.214347e+04   \n",
      "std      14.973809      24.419560     11240.123804   4.051291e+05   \n",
      "min      -5.000000     -71.000000      -460.550000  -3.090712e+04   \n",
      "25%      27.000000      20.000000       782.027500   3.207861e+04   \n",
      "50%      34.000000      39.000000      1045.640000   4.011997e+04   \n",
      "75%      42.000000      59.000000      1643.967500   5.127824e+04   \n",
      "max     145.000000      85.000000    144141.580000   7.250591e+06   \n",
      "\n",
      "       num_support_tickets  data_usage_gb  \n",
      "count          1200.000000    1200.000000  \n",
      "mean              2.029167      43.315917  \n",
      "std               1.421267     104.310046  \n",
      "min               0.000000       0.000000  \n",
      "25%               1.000000       0.000000  \n",
      "50%               2.000000      26.100000  \n",
      "75%               3.000000      58.802500  \n",
      "max               9.000000    1481.470000  \n"
     ]
    }
   ],
   "source": [
    "#Summary statistics\n",
    "print(df[numeric_cols].describe())\n"
   ]
  },
  {
   "cell_type": "code",
   "execution_count": 118,
   "id": "5e4d8555-3b4e-4bd8-b69b-cd898a27a9fe",
   "metadata": {},
   "outputs": [
    {
     "name": "stdout",
     "output_type": "stream",
     "text": [
      "\n",
      "Column: age\n",
      "Lower bound: 4.5, Upper bound: 64.5\n",
      "Number of outliers: 0\n",
      "Empty DataFrame\n",
      "Columns: [age]\n",
      "Index: []\n",
      "\n",
      "Column: tenure_months\n",
      "Lower bound: -38.5, Upper bound: 117.5\n",
      "Number of outliers: 0\n",
      "Empty DataFrame\n",
      "Columns: [tenure_months]\n",
      "Index: []\n",
      "\n",
      "Column: monthly_charges\n",
      "Lower bound: -510.88250000000016, Upper bound: 2936.8775\n",
      "Number of outliers: 0\n",
      "Empty DataFrame\n",
      "Columns: [monthly_charges]\n",
      "Index: []\n",
      "\n",
      "Column: total_charges\n",
      "Lower bound: 3279.1662499999948, Upper bound: 80077.67625\n",
      "Number of outliers: 0\n",
      "Empty DataFrame\n",
      "Columns: [total_charges]\n",
      "Index: []\n",
      "\n",
      "Column: num_support_tickets\n",
      "Lower bound: -2.0, Upper bound: 6.0\n",
      "Number of outliers: 0\n",
      "Empty DataFrame\n",
      "Columns: [num_support_tickets]\n",
      "Index: []\n",
      "\n",
      "Column: data_usage_gb\n",
      "Lower bound: -88.20374999999999, Upper bound: 147.00624999999997\n",
      "Number of outliers: 0\n",
      "Empty DataFrame\n",
      "Columns: [data_usage_gb]\n",
      "Index: []\n"
     ]
    }
   ],
   "source": [
    "#Detecting outliers\n",
    "for col in numeric_cols:\n",
    "    Q1 = df[col].quantile(0.25)\n",
    "    Q3 = df[col].quantile(0.75)\n",
    "    IQR = Q3 - Q1\n",
    "\n",
    "    lower = Q1 - 1.5 * IQR\n",
    "    upper = Q3 + 1.5 * IQR\n",
    "\n",
    "    outliers = df[(df[col] < lower) | (df[col] > upper)]\n",
    "\n",
    "    print(f\"\\nColumn: {col}\")\n",
    "    print(f\"Lower bound: {lower}, Upper bound: {upper}\")\n",
    "    print(f\"Number of outliers: {len(outliers)}\")\n",
    "    print(outliers[[col]].head())  # show first few outlier values\n"
   ]
  },
  {
   "cell_type": "code",
   "execution_count": 122,
   "id": "973d5a73-8d03-4098-be76-668c5762ab5c",
   "metadata": {},
   "outputs": [],
   "source": [
    "#Handling outliers -By capping values at upper/lower limits \n",
    "\n"
   ]
  },
  {
   "cell_type": "code",
   "execution_count": 124,
   "id": "15c1b049-6f18-4be8-a766-d7500efdf3ab",
   "metadata": {},
   "outputs": [
    {
     "data": {
      "image/png": "[encoded data removed]",
      "text/plain": [
       "<Figure size 600x300 with 1 Axes>"
      ]
     },
     "metadata": {},
     "output_type": "display_data"
    },
    {
     "data": {
      "image/png": "[encoded data removed]",
      "text/plain": [
       "<Figure size 600x300 with 1 Axes>"
      ]
     },
     "metadata": {},
     "output_type": "display_data"
    },
    {
     "data": {
      "image/png": "[encoded data removed]",
      "text/plain": [
       "<Figure size 600x300 with 1 Axes>"
      ]
     },
     "metadata": {},
     "output_type": "display_data"
    },
    {
     "data": {
      "image/png": "[encoded data removed]",
      "text/plain": [
       "<Figure size 600x300 with 1 Axes>"
      ]
     },
     "metadata": {},
     "output_type": "display_data"
    }
   ],
   "source": [
    "#Detecting outliers using the boxplot\n",
    "import matplotlib.pyplot as plt\n",
    "\n",
    "for col in ['age', 'tenure_months', 'monthly_charges', 'total_charges']:\n",
    "    plt.figure(figsize=(6,3))\n",
    "    df.boxplot(column=col)\n",
    "    plt.title(f\"Boxplot of {col}\")\n",
    "    plt.show()\n"
   ]
  },
  {
   "cell_type": "code",
   "execution_count": 69,
   "id": "f9aadbc6-9b7e-4281-a225-45030a435fe7",
   "metadata": {},
   "outputs": [
    {
     "name": "stdout",
     "output_type": "stream",
     "text": [
      "Missing values per column:\n",
      " customer_id            0\n",
      "age                    0\n",
      "gender                 0\n",
      "city                   0\n",
      "county                 0\n",
      "signup_date            0\n",
      "last_purchase_date     0\n",
      "tenure_months          0\n",
      "monthly_charges        0\n",
      "total_charges          0\n",
      "plan_type              0\n",
      "payment_method         0\n",
      "contract               0\n",
      "num_support_tickets    0\n",
      "has_internet           0\n",
      "data_usage_gb          0\n",
      "is_senior_citizen      0\n",
      "dependents             0\n",
      "device_model           0\n",
      "referrer               0\n",
      "feedback_text          0\n",
      "churn                  0\n",
      "dtype: int64\n",
      "Missing values after filling:\n",
      " customer_id            0\n",
      "age                    0\n",
      "gender                 0\n",
      "city                   0\n",
      "county                 0\n",
      "signup_date            0\n",
      "last_purchase_date     0\n",
      "tenure_months          0\n",
      "monthly_charges        0\n",
      "total_charges          0\n",
      "plan_type              0\n",
      "payment_method         0\n",
      "contract               0\n",
      "num_support_tickets    0\n",
      "has_internet           0\n",
      "data_usage_gb          0\n",
      "is_senior_citizen      0\n",
      "dependents             0\n",
      "device_model           0\n",
      "referrer               0\n",
      "feedback_text          0\n",
      "churn                  0\n",
      "dtype: int64\n",
      "    age  tenure_months  monthly_charges  total_charges\n",
      "0  40.0           14.0           569.75       40616.83\n",
      "1  17.0           78.0          1542.70      120186.63\n",
      "2  33.0           66.0           728.27       40616.83\n",
      "3  38.0           31.0           901.57       28195.03\n",
      "4  20.0           39.0          2010.12       78564.16\n",
      "\n",
      "Missing values after fixing numeric columns:\n",
      " age                0\n",
      "tenure_months      0\n",
      "monthly_charges    0\n",
      "total_charges      0\n",
      "dtype: int64\n",
      "✅ Cleaned dataset saved successfully with no missing values\n"
     ]
    }
   ],
   "source": [
    "# Check missing values\n",
    "missing = df.isnull().sum()\n",
    "print(\"Missing values per column:\\n\", missing)\n",
    "\n",
    "cat_cols = df.select_dtypes(include='object').columns\n",
    "df[cat_cols] = df[cat_cols].fillna('Unknown')\n",
    "\n",
    "num_cols = df.select_dtypes(include='number').columns\n",
    "df[num_cols] = df[num_cols].fillna(df[num_cols].median())\n",
    "\n",
    "print(\"Missing values after filling:\\n\", df.isnull().sum())\n",
    "\n",
    "#Changing all to numeric\n",
    "import numpy as np\n",
    "\n",
    "# List of numeric columns\n",
    "num_cols = ['age', 'tenure_months', 'monthly_charges', 'total_charges']\n",
    "\n",
    "# Remove commas and convert to float\n",
    "for col in num_cols:\n",
    "    df[col] = df[col].astype(str).str.replace(',', '')  # remove commas\n",
    "    df[col] = pd.to_numeric(df[col], errors='coerce')   # convert to numeric, non-convertible → NaN\n",
    "\n",
    "# Fill missing numeric values with median\n",
    "df[num_cols] = df[num_cols].fillna(df[num_cols].median())\n",
    "\n",
    "# Check\n",
    "print(df[num_cols].head())\n",
    "print(\"\\nMissing values after fixing numeric columns:\\n\", df[num_cols].isnull().sum())\n",
    "\n",
    "\n",
    "\n",
    "\n",
    "\n",
    "#saving a cleaned dataset\n",
    "# Save the cleaned dataset before encoding\n",
    "#df.to_csv(\"cleanedvalues3.csv\", index=False)\n",
    "#print(\"✅ Cleaned dataset saved successfully with no missing values\")\n",
    "\n",
    "\n",
    "\n",
    "\n",
    "\n",
    "\n"
   ]
  },
  {
   "cell_type": "code",
   "execution_count": 49,
   "id": "1e656746-b17d-4edc-97fe-f96910a41b48",
   "metadata": {},
   "outputs": [],
   "source": []
  },
  {
   "cell_type": "code",
   "execution_count": 85,
   "id": "57f7015c-3974-481e-8967-f49e96c9331d",
   "metadata": {},
   "outputs": [],
   "source": [
    "# CATEGORICAL ENCODING \n"
   ]
  },
  {
   "cell_type": "code",
   "execution_count": 58,
   "id": "4be766e6-ee9b-4880-a937-aba4c56d2487",
   "metadata": {},
   "outputs": [
    {
     "name": "stdout",
     "output_type": "stream",
     "text": [
      "✅ Converted boolean columns to 0/1\n"
     ]
    }
   ],
   "source": [
    "# Convert boolean columns to integers\n",
    "bool_cols = df_encoded.select_dtypes(include='bool').columns\n",
    "df_encoded[bool_cols] = df_encoded[bool_cols].astype(int)\n",
    "\n",
    "print(\"✅ Converted boolean columns to 0/1\")\n"
   ]
  },
  {
   "cell_type": "code",
   "execution_count": 60,
   "id": "62396607-3289-48a4-a244-b21a617fab1f",
   "metadata": {},
   "outputs": [
    {
     "name": "stdout",
     "output_type": "stream",
     "text": [
      "Missing values after fixing numeric columns:\n",
      " age                0\n",
      "tenure_months      0\n",
      "monthly_charges    0\n",
      "total_charges      0\n",
      "dtype: int64\n"
     ]
    }
   ],
   "source": [
    "import numpy as np\n",
    "import pandas as pd\n",
    "\n",
    "# List of numeric columns\n",
    "num_cols = ['age', 'tenure_months', 'monthly_charges', 'total_charges']\n",
    "\n",
    "# Remove commas if any and convert to numeric\n",
    "for col in num_cols:\n",
    "    df_encoded[col] = df_encoded[col].astype(str).str.replace(',', '')  # remove commas\n",
    "    df_encoded[col] = pd.to_numeric(df_encoded[col], errors='coerce')   # convert to numeric\n",
    "\n",
    "# Fill missing numeric values with median\n",
    "df_encoded[num_cols] = df_encoded[num_cols].fillna(df_encoded[num_cols].median())\n",
    "\n",
    "# Check missing values\n",
    "print(\"Missing values after fixing numeric columns:\\n\", df_encoded[num_cols].isnull().sum())\n"
   ]
  },
  {
   "cell_type": "code",
   "execution_count": 72,
   "id": "993aa885-feb5-4aee-968f-1058cb1c67bd",
   "metadata": {},
   "outputs": [
    {
     "name": "stdout",
     "output_type": "stream",
     "text": [
      "✅ Encoded dataset saved successfully with no missing values\n"
     ]
    }
   ],
   "source": [
    "#df_encoded.to_csv(\"encoded_telecom12.csv\", index=False)\n",
    "#print(\"✅ Encoded dataset saved successfully with no missing values\")\n"
   ]
  },
  {
   "cell_type": "code",
   "execution_count": null,
   "id": "d0e46bab-c79d-4bdc-a0e0-bf25ec03d089",
   "metadata": {},
   "outputs": [],
   "source": []
  },
  {
   "cell_type": "code",
   "execution_count": 83,
   "id": "4c077e7b-bcd8-43b6-9f62-03f14df5ba78",
   "metadata": {},
   "outputs": [
    {
     "name": "stdout",
     "output_type": "stream",
     "text": [
      "✅ Fully cleaned and encoded dataset saved as encoded_telecom_final.csv\n"
     ]
    }
   ],
   "source": [
    "#Recleaning the data\n",
    "\n",
    "# Make a copy just in case\n",
    "# Make a fresh copy of the cleaned dataset\n",
    "df_cleaned3 = df.copy()\n",
    "\n",
    "# --------- 1. Fix categorical inconsistencies ----------\n",
    "df_cleaned3['gender'] = df_cleaned3['gender'].replace({'m':'male','f':'female','y':'yes','n':'no'})\n",
    "df_cleaned3['has_internet'] = df_cleaned3['has_internet'].replace({True:'yes', False:'no','y':'yes','n':'no'})\n",
    "df_cleaned3['dependents'] = df_cleaned3['dependents'].replace({True:'yes', False:'no','y':'yes','n':'no'})\n",
    "\n",
    "df_cleaned3['contract'] = df_cleaned3['contract'].str.lower().replace({'2-yr':'two year','1-yr':'one year'})\n",
    "df_cleaned3['payment_method'] = df_cleaned3['payment_method'].replace({'mpesa':'M-pesa'})\n",
    "df_cleaned3['city'] = df_cleaned3['city'].replace({'Niarobi':'Nairobi','Nrb':'Nairobi'})\n",
    "\n",
    "# Fill any remaining missing categorical values\n",
    "cat_cols = ['gender','has_internet','dependents','contract','payment_method','city','plan_type']\n",
    "df_cleaned3[cat_cols] = df_cleaned3[cat_cols].fillna('Unknown')\n",
    "\n",
    "# --------- 2. Convert binary columns to 0/1 ----------\n",
    "binary_cols = ['gender','has_internet','dependents']\n",
    "df_cleaned3[binary_cols] = df_cleaned3[binary_cols].replace({'yes':1,'no':0})\n",
    "\n",
    "# --------- 3. One-hot encode multi-class columns ----------\n",
    "multi_cat_cols = ['city','plan_type','payment_method','contract']\n",
    "df_encoded3 = pd.get_dummies(df_cleaned3, columns=multi_cat_cols, drop_first=True)\n",
    "\n",
    "# --------- 4. Ensure numeric columns are clean ----------\n",
    "num_cols = ['age','tenure_months','monthly_charges','total_charges']\n",
    "for col in num_cols:\n",
    "    df_encoded3[col] = df_encoded3[col].astype(str).str.replace(',', '')\n",
    "    df_encoded3[col] = pd.to_numeric(df_encoded3[col], errors='coerce')\n",
    "df_encoded3[num_cols] = df_encoded3[num_cols].fillna(df_encoded3[num_cols].median())\n",
    "\n",
    "# --------- 5. Save the final encoded dataset ----------\n",
    "df_encoded3.to_csv(\"encoded_telecom_final1.csv\", index=False)\n",
    "print(\"✅ Fully cleaned and encoded dataset saved as encoded_telecom_final.csv\")\n"
   ]
  },
  {
   "cell_type": "code",
   "execution_count": 77,
   "id": "26df5b5e-a38b-4b9a-a1c4-d642f1d13644",
   "metadata": {},
   "outputs": [
    {
     "name": "stdout",
     "output_type": "stream",
     "text": [
      "Converted boolean columns to integers:\n",
      "Empty DataFrame\n",
      "Columns: []\n",
      "Index: [0, 1, 2, 3, 4]\n"
     ]
    }
   ],
   "source": [
    "# Identify boolean columns\n",
    "bool_cols = df_encoded.select_dtypes(include='bool').columns\n",
    "\n",
    "# Convert True/False to 1/0\n",
    "df_encoded[bool_cols] = df_encoded[bool_cols].astype(int)\n",
    "\n",
    "# Check\n",
    "print(\"Converted boolean columns to integers:\")\n",
    "print(df_encoded[bool_cols].head())\n"
   ]
  },
  {
   "cell_type": "code",
   "execution_count": 79,
   "id": "bab802be-7364-41b6-b8f2-651a3b0912b4",
   "metadata": {},
   "outputs": [
    {
     "name": "stdout",
     "output_type": "stream",
     "text": [
      "✅ Cleaned dataset saved successfully as cleaned_telecom_final.csv\n"
     ]
    }
   ],
   "source": [
    "# Save cleaned dataset\n",
    "df_cleaned2.to_csv(\"cleaned_telecom_final.csv\", index=False)\n",
    "print(\"✅ Cleaned dataset saved successfully as cleaned_telecom_final.csv\")\n"
   ]
  },
  {
   "cell_type": "code",
   "execution_count": 87,
   "id": "826fa0e8-735b-40d1-83ac-8829b3e1760e",
   "metadata": {},
   "outputs": [
    {
     "name": "stdout",
     "output_type": "stream",
     "text": [
      "✅ Encoded dataset saved successfully as encoded_telecom_final.csv\n"
     ]
    }
   ],
   "source": [
    "# Save encoded dataset\n",
    "df_encoded2.to_csv(\"encoded_telecom_final2.csv\", index=False)\n",
    "print(\"✅ Encoded dataset saved successfully as encoded_telecom_final.csv\")\n"
   ]
  },
  {
   "cell_type": "code",
   "execution_count": null,
   "id": "85596e78-a404-489e-93b3-b5813002b561",
   "metadata": {},
   "outputs": [],
   "source": []
  }
 ],
 "metadata": {
  "kernelspec": {
   "display_name": "Python [conda env:base] *",
   "language": "python",
   "name": "conda-base-py"
  },
  "language_info": {
   "codemirror_mode": {
    "name": "ipython",
    "version": 3
   },
   "file_extension": ".py",
   "mimetype": "text/x-python",
   "name": "python",
   "nbconvert_exporter": "python",
   "pygments_lexer": "ipython3",
   "version": "3.12.7"
  }
 },
 "nbformat": 4,
 "nbformat_minor": 5
}
