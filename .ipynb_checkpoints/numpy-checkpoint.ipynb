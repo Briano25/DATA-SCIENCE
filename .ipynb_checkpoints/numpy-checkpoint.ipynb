{
 "cells": [
  {
   "cell_type": "code",
   "execution_count": 9,
   "id": "ad6b36a8-ea7d-43e5-8227-fd5cfc170177",
   "metadata": {},
   "outputs": [
    {
     "name": "stdout",
     "output_type": "stream",
     "text": [
      "[1 2 3]\n",
      "\n",
      "Rank Two Array\n",
      " [[1 2 3]\n",
      " [4 5 6]]\n",
      "\n",
      "Rank One Array with tuple\n",
      " [1 3 2]\n"
     ]
    }
   ],
   "source": [
    "import numpy as np\n",
    " \n",
    "# Creating a rank 1 Array\n",
    "arr = np.array([1, 2, 3])\n",
    "print(arr)\n",
    " \n",
    "# Creating a rank 2 Array\n",
    "arr = np.array([[1, 2, 3],\n",
    "                [4, 5, 6]])\n",
    "print('\\nRank Two Array\\n', arr)\n",
    " \n",
    "# Creating an array from tuple\n",
    "arr = np.array((1, 3, 2))\n",
    "print('\\nRank One Array with tuple\\n',arr)"
   ]
  },
  {
   "cell_type": "code",
   "execution_count": 13,
   "id": "2a60382e-1c20-45ae-ba31-344f5c4380dd",
   "metadata": {},
   "outputs": [
    {
     "name": "stdout",
     "output_type": "stream",
     "text": [
      "first 2 rows and alternate columns(0 and 2):\n",
      " [[-1.  0.]\n",
      " [ 4.  6.]]\n",
      "\n",
      "Elements at indices (1, 3), (1, 2), (0, 1), (3, 0):\n",
      " [0. 6. 2. 3.]\n"
     ]
    }
   ],
   "source": [
    "import numpy as np\n",
    " \n",
    "arr = np.array([[-1, 2, 0, 4],\n",
    "                [4, -0.5, 6, 0],\n",
    "                [2.6, 0, 7, 8],\n",
    "                [3, -7, 4, 2.0]])\n",
    "\n",
    "# Printing a range of Array\n",
    "# with the use of slicing method\n",
    "arr2 = arr[:2, ::2]\n",
    "print (\"first 2 rows and alternate columns(0 and 2):\\n\", arr2)\n",
    " \n",
    "# Printing elements at\n",
    "# specific Indices\n",
    "arr3 = arr[[1, 1, 0, 3], \n",
    "                [3, 2, 1, 0]]\n",
    "print (\"\\nElements at indices (1, 3), \"\n",
    "    \"(1, 2), (0, 1), (3, 0):\\n\", arr3)"
   ]
  },
  {
   "cell_type": "code",
   "execution_count": null,
   "id": "cb654266-01af-4f4f-a467-0b31d12c843e",
   "metadata": {},
   "outputs": [
    {
     "name": "stdout",
     "output_type": "stream",
     "text": [
      "Adding 1 to every element: [[2 3]\n",
      " [4 5]]\n",
      "\n",
      "Subtracting 2 from each element: [[ 2  1]\n",
      " [ 0 -1]]\n",
      "\n",
      "Sum of all array elements:  10\n",
      "\n",
      "Array sum:\n",
      " [[5 5]\n",
      " [5 5]]\n"
     ]
    }
   ],
   "source": [
    "import numpy as np\n",
    " \n",
    "# Defining Array 1\n",
    "a = np.array([[1, 5],\n",
    "              [3, 4]])\n",
    " \n",
    "# Defining Array 2\n",
    "b = np.array([[4, 3],\n",
    "              [2, 1]])\n",
    "               \n",
    "# Adding 1 to every element\n",
    "print (\"Adding 1 to every element:\", a + 1)\n",
    " \n",
    "# Subtracting 2 from each element\n",
    "print (\"\\nSubtracting 2 from each element:\", b - 2)\n",
    " \n",
    "# sum of array elements\n",
    "# Performing Unary operations\n",
    "print (\"\\nSum of all array elements: \", a. sum ())\n",
    " \n",
    "# Adding two arrays\n",
    "# Performing Binary Operations\n",
    "print (\"\\nArray sum:\\n\", a + b)\n"
   ]
  },
  {
   "cell_type": "code",
   "execution_count": 17,
   "id": "0f0184b5-ae56-4951-90cf-95ad39bd4311",
   "metadata": {},
   "outputs": [
    {
     "name": "stdout",
     "output_type": "stream",
     "text": [
      "int32\n",
      "float64\n",
      "int64\n"
     ]
    }
   ],
   "source": [
    "import numpy as np\n",
    " \n",
    "# Integer datatype\n",
    "x = np.array([1, 2])  \n",
    "print(x.dtype)         \n",
    " \n",
    "# Float datatype\n",
    "x = np.array([1.0, 2.0]) \n",
    "print(x.dtype)  \n",
    " \n",
    "# Forced Datatype\n",
    "x = np.array([1, 2], dtype = np.int64)   \n",
    "print(x.dtype)"
   ]
  },
  {
   "cell_type": "code",
   "execution_count": 19,
   "id": "a2f33a44-a8ae-4938-b24f-d7ac65fd848c",
   "metadata": {},
   "outputs": [
    {
     "name": "stdout",
     "output_type": "stream",
     "text": [
      "Data Type of arr32: int32\n",
      "Data Type of arr64: int64\n",
      "Size of each element in arr32 (bytes): 4\n",
      "Size of each element in arr64 (bytes): 8\n",
      "int32 range:  -2147483648 to 2147483647\n",
      "int64 range:  -9223372036854775808 to 9223372036854775807\n"
     ]
    }
   ],
   "source": [
    "import numpy as np\n",
    "\n",
    "# Create arrays of int32 and int64\n",
    "arr32 = np.array([1, 2, 3], dtype=np.int32)\n",
    "arr64 = np.array([1, 2, 3], dtype=np.int64)\n",
    "\n",
    "# Print their data types\n",
    "print(\"Data Type of arr32:\", arr32.dtype)\n",
    "print(\"Data Type of arr64:\", arr64.dtype)\n",
    "\n",
    "# Print the size of each element in bytes\n",
    "print(\"Size of each element in arr32 (bytes):\", arr32.itemsize)\n",
    "print(\"Size of each element in arr64 (bytes):\", arr64.itemsize)\n",
    "\n",
    "# Value ranges\n",
    "print(\"int32 range: \", np.iinfo(np.int32).min, \"to\", np.iinfo(np.int32).max)\n",
    "print(\"int64 range: \", np.iinfo(np.int64).min, \"to\", np.iinfo(np.int64).max)\n"
   ]
  },
  {
   "cell_type": "code",
   "execution_count": 55,
   "id": "538f0738-87f9-4ba9-89ea-26a4309249aa",
   "metadata": {},
   "outputs": [
    {
     "name": "stdout",
     "output_type": "stream",
     "text": [
      "Addition of two Arrays\n",
      " [[ 7. 13.]\n",
      " [ 4. 14.]]\n",
      "\n",
      "Addition of all Array elements\n",
      " 19.0\n",
      "\n",
      "Square root of Array\n",
      " [[2.         2.64575131]\n",
      " [1.41421356 2.44948974]]\n",
      "\n",
      "Transpose of Array\n",
      " [[4. 2.]\n",
      " [7. 6.]]\n"
     ]
    }
   ],
   "source": [
    "import numpy as np\n",
    " \n",
    "# First Array\n",
    "arr1 = np.array([[4, 7], [2, 6]], \n",
    "                 dtype = np.float64)\n",
    "                  \n",
    "# Second Array\n",
    "arr2 = np.array([[3, 6], [2, 8]], \n",
    "                 dtype = np.float64) \n",
    " \n",
    "# Addition of two Arrays\n",
    "Sum = np.add(arr1, arr2)\n",
    "print('Addition of two Arrays\\n',Sum)\n",
    " \n",
    "# Addition of all Array elements\n",
    "Sum1 = np.sum(arr1)\n",
    "print('\\nAddition of all Array elements\\n',Sum1)\n",
    " \n",
    "# Square root of Array\n",
    "Sqrt = np.sqrt(arr1)\n",
    "print('\\nSquare root of Array\\n',Sqrt)\n",
    " \n",
    "# Transpose of Array\n",
    "Trans_arr = arr1.T\n",
    "print('\\nTranspose of Array\\n',Trans_arr)\n"
   ]
  },
  {
   "cell_type": "code",
   "execution_count": null,
   "id": "e58c56fb-6803-4043-b9a7-ddf6570ec70d",
   "metadata": {},
   "outputs": [],
   "source": []
  },
  {
   "cell_type": "code",
   "execution_count": 64,
   "id": "19794581-5d00-442d-ba83-180270b0e8a5",
   "metadata": {},
   "outputs": [
    {
     "name": "stdout",
     "output_type": "stream",
     "text": [
      "id of arr 2577491684560\n",
      "id of c 2577473186256\n",
      "original array-  [12  4  6  8 10]\n",
      "copy-  [ 2  4  6  8 10]\n"
     ]
    }
   ],
   "source": [
    "import numpy as np \n",
    "\n",
    "# creating array \n",
    "arr = np.array([2, 4, 6, 8, 10]) \n",
    "\n",
    "# creating copy of array \n",
    "c = arr.copy() \n",
    "\n",
    "# both arr and c have different id \n",
    "print(\"id of arr\", id(arr)) \n",
    "print(\"id of c\", id(c)) \n",
    "\n",
    "# changing original array \n",
    "# this will not effect copy \n",
    "arr[0] = 12\n",
    "\n",
    "# printing array and copy \n",
    "print(\"original array- \", arr) \n",
    "print(\"copy- \", c) \n"
   ]
  },
  {
   "cell_type": "code",
   "execution_count": 66,
   "id": "0ea2d233-22ba-48b9-bc92-7c8983a709e1",
   "metadata": {},
   "outputs": [
    {
     "name": "stdout",
     "output_type": "stream",
     "text": [
      "id of arr 2577491683312\n",
      "id of nc 2577491683312\n",
      "original array-  [12  4  6  8 10]\n",
      "assigned array-  [12  4  6  8 10]\n"
     ]
    }
   ],
   "source": [
    "import numpy as np \n",
    "\n",
    "# creating array \n",
    "arr = np.array([2, 4, 6, 8, 10]) \n",
    "\n",
    "# assigning arr to nc \n",
    "nc = arr \n",
    "\n",
    "# both arr and nc have same id \n",
    "print(\"id of arr\", id(arr)) \n",
    "print(\"id of nc\", id(nc)) \n",
    "\n",
    "# updating nc \n",
    "nc[0]= 12\n",
    "\n",
    "# printing the values \n",
    "print(\"original array- \", arr) \n",
    "print(\"assigned array- \", nc) \n"
   ]
  },
  {
   "cell_type": "code",
   "execution_count": 68,
   "id": "26a4e6bd-29d7-4ee2-b378-65d43e12e39b",
   "metadata": {},
   "outputs": [
    {
     "name": "stdout",
     "output_type": "stream",
     "text": [
      "Original Array :  [1 8 3 3 5]\n",
      "Array after appending :  [1 8 3 3 5 7]\n"
     ]
    }
   ],
   "source": [
    "# importing the module\n",
    "import numpy as np\n",
    "\n",
    "# creating an array\n",
    "arr = np.array([1, 8, 3, 3, 5])\n",
    "print('Original Array : ', arr)\n",
    "\n",
    "# appending to the array\n",
    "arr = np.append(arr, [7])\n",
    "print('Array after appending : ', arr)\n"
   ]
  },
  {
   "cell_type": "code",
   "execution_count": 70,
   "id": "8a856599-f527-43cd-b0fe-ede3ebf5f3b5",
   "metadata": {},
   "outputs": [
    {
     "name": "stdout",
     "output_type": "stream",
     "text": [
      "First array is :  [1 2 3]\n",
      "Second array is :  [4 5 6]\n",
      "Array after appending :  [1 2 3 4 5 6]\n"
     ]
    }
   ],
   "source": [
    "# importing the module\n",
    "import numpy as np\n",
    "\n",
    "# creating an array\n",
    "arr1 = np.array([1, 2, 3])\n",
    "print('First array is : ', arr1)\n",
    "\n",
    "# creating another array\n",
    "arr2 = np.array([4, 5, 6])\n",
    "print('Second array is : ', arr2)\n",
    "\n",
    "# appending arr2 to arr1\n",
    "arr = np.append(arr1, arr2)\n",
    "print('Array after appending : ', arr)\n"
   ]
  },
  {
   "cell_type": "code",
   "execution_count": 72,
   "id": "d9e71791-c0f7-4d13-afff-36a589407788",
   "metadata": {},
   "outputs": [
    {
     "name": "stdout",
     "output_type": "stream",
     "text": [
      "[[1 2]\n",
      " [3 4]\n",
      " [5 6]]\n"
     ]
    }
   ],
   "source": [
    "# importing the module\n",
    "import numpy as np\n",
    "\n",
    "arr1 = np.array([[1, 2], [3, 4]])\n",
    "arr2 = np.array([[5, 6]])\n",
    "\n",
    "combined = np.concatenate((arr1, arr2), axis=0)\n",
    "print(combined)\n"
   ]
  },
  {
   "cell_type": "code",
   "execution_count": 74,
   "id": "5f0842dc-b1d4-4ebf-a749-9546d65afb43",
   "metadata": {},
   "outputs": [
    {
     "name": "stdout",
     "output_type": "stream",
     "text": [
      "Column-wise Concatenation:\n",
      " [[1 2 5 6]\n",
      " [3 4 7 8]]\n"
     ]
    }
   ],
   "source": [
    "import numpy as np\n",
    "\n",
    "arr1 = np.array([[1, 2], [3, 4]])\n",
    "arr2 = np.array([[5, 6], [7, 8]])\n",
    "\n",
    "combined = np.concatenate((arr1, arr2), axis=1)\n",
    "print(\"Column-wise Concatenation:\\n\", combined)\n"
   ]
  },
  {
   "cell_type": "code",
   "execution_count": 76,
   "id": "b33cb29d-43ce-4856-a3b2-7fb8a746a36d",
   "metadata": {},
   "outputs": [
    {
     "name": "stdout",
     "output_type": "stream",
     "text": [
      "Using vstack:\n",
      " [[1 2]\n",
      " [3 4]\n",
      " [5 6]\n",
      " [7 8]]\n"
     ]
    }
   ],
   "source": [
    "\n",
    "vstacked = np.vstack((arr1, arr2))\n",
    "print(\"Using vstack:\\n\", vstacked)\n"
   ]
  },
  {
   "cell_type": "code",
   "execution_count": 78,
   "id": "c41f23b4-b9f9-48a6-976a-1c814fc3b63c",
   "metadata": {},
   "outputs": [
    {
     "name": "stdout",
     "output_type": "stream",
     "text": [
      "Using hstack:\n",
      " [[1 2 5 6]\n",
      " [3 4 7 8]]\n"
     ]
    }
   ],
   "source": [
    "hstacked = np.hstack((arr1, arr2))\n",
    "print(\"Using hstack:\\n\", hstacked)\n"
   ]
  },
  {
   "cell_type": "code",
   "execution_count": 80,
   "id": "5976ba20-3567-462c-b2c2-cceaf0e840d0",
   "metadata": {},
   "outputs": [
    {
     "name": "stdout",
     "output_type": "stream",
     "text": [
      "[1. 2. 3. 4. 5.]\n"
     ]
    }
   ],
   "source": [
    "# importing the module\n",
    "import numpy as np\n",
    "\n",
    "arr = np.array([1, 2, 3])\n",
    "arr_float = np.array([4.0, 5.0])\n",
    "\n",
    "combined = np.append(arr, arr_float)\n",
    "print(combined) # Output: [1. 2. 3. 4. 5.]\n"
   ]
  },
  {
   "cell_type": "code",
   "execution_count": 82,
   "id": "6aa6ed61-6405-4267-899e-5268c4fa6925",
   "metadata": {},
   "outputs": [
    {
     "name": "stdout",
     "output_type": "stream",
     "text": [
      "Original Array\n",
      "[[ 1  2  3  4  5  6]\n",
      " [ 7  8  9 10 11 12]] \n",
      "\n",
      "Array to be appended column wise\n",
      "[[ 5  6  7  8  9 10]]\n",
      "Array after appending the values column wise\n",
      "[[ 1  2  3  4  5  6]\n",
      " [ 7  8  9 10 11 12]\n",
      " [ 5  6  7  8  9 10]] \n",
      "\n",
      "Array to be appended row wise\n",
      "[[1]\n",
      " [2]]\n",
      "Array after appending the values row wise\n",
      "[[ 1  2  3  4  5  6  1]\n",
      " [ 7  8  9 10 11 12  2]]\n"
     ]
    }
   ],
   "source": [
    "# importing the module\n",
    "import numpy as np\n",
    "\n",
    "# create an array\n",
    "arr = np.arange(1, 13).reshape(2, 6)\n",
    "print('Original Array')\n",
    "print(arr, '\\n')\n",
    "\n",
    "# create another array which is\n",
    "# to be appended column-wise\n",
    "col = np.arange(5, 11).reshape(1, 6)\n",
    "print('Array to be appended column wise')\n",
    "print(col)\n",
    "arr_col = np.append(arr, col, axis=0)\n",
    "print('Array after appending the values column wise')\n",
    "print(arr_col, '\\n')\n",
    "\n",
    "# create an array which is\n",
    "# to be appended row wise\n",
    "row = np.array([1, 2]).reshape(2, 1)\n",
    "print('Array to be appended row wise')\n",
    "print(row)\n",
    "arr_row = np.append(arr, row, axis=1)\n",
    "print('Array after appending the values row wise')\n",
    "print(arr_row)\n"
   ]
  },
  {
   "cell_type": "code",
   "execution_count": 88,
   "id": "69d0ecd3-3db8-451e-8f0b-336b3b450809",
   "metadata": {},
   "outputs": [
    {
     "name": "stdout",
     "output_type": "stream",
     "text": [
      "True\n"
     ]
    }
   ],
   "source": [
    "import numpy as np\n",
    "\n",
    "an_array = np.array([[1, 2], [3, 4]])\n",
    "another_array = np.array([[1, 2], [3, 4]])\n",
    "\n",
    "comparison = an_array == another_array\n",
    "equal_arrays = comparison.all()\n",
    "\n",
    "print(equal_arrays)\n"
   ]
  },
  {
   "cell_type": "code",
   "execution_count": 90,
   "id": "5f26e72c-3cf1-4dcc-a697-aef59b195c2a",
   "metadata": {},
   "outputs": [
    {
     "name": "stdout",
     "output_type": "stream",
     "text": [
      "Array a:  [101  99  87]\n",
      "Array b:  [897  97 111]\n",
      "a > b\n",
      "[False  True False]\n",
      "a >= b\n",
      "[False  True False]\n",
      "a < b\n",
      "[ True False  True]\n",
      "a <= b\n",
      "[ True False  True]\n"
     ]
    }
   ],
   "source": [
    "import numpy as np\n",
    "\n",
    "\n",
    "a = np.array([101, 99, 87])\n",
    "b = np.array([897, 97, 111])\n",
    "\n",
    "print(\"Array a: \", a)\n",
    "print(\"Array b: \", b)\n",
    "\n",
    "print(\"a > b\")\n",
    "print(np.greater(a, b))\n",
    "\n",
    "print(\"a >= b\")\n",
    "print(np.greater_equal(a, b))\n",
    "\n",
    "print(\"a < b\")\n",
    "print(np.less(a, b))\n",
    "\n",
    "print(\"a <= b\")\n",
    "print(np.less_equal(a, b))\n"
   ]
  },
  {
   "cell_type": "code",
   "execution_count": 92,
   "id": "55bab308-db45-4ee2-bc86-46778227af38",
   "metadata": {},
   "outputs": [
    {
     "name": "stdout",
     "output_type": "stream",
     "text": [
      "Equal\n"
     ]
    }
   ],
   "source": [
    "import numpy as np\n",
    "\n",
    "arr1 = np.array([[1, 2], [3, 4]])\n",
    "arr2 = np.array([[1, 2], [3, 4]])\n",
    "\n",
    "\n",
    "# Comparing the arrays\n",
    "if np.array_equal(arr1, arr2):\n",
    "\tprint(\"Equal\")\n",
    "else:\n",
    "\tprint(\"Not Equal\")\n"
   ]
  },
  {
   "cell_type": "code",
   "execution_count": null,
   "id": "c3824dc5-343a-4e22-bfba-937be34b0e91",
   "metadata": {},
   "outputs": [],
   "source": []
  }
 ],
 "metadata": {
  "kernelspec": {
   "display_name": "Python [conda env:base] *",
   "language": "python",
   "name": "conda-base-py"
  },
  "language_info": {
   "codemirror_mode": {
    "name": "ipython",
    "version": 3
   },
   "file_extension": ".py",
   "mimetype": "text/x-python",
   "name": "python",
   "nbconvert_exporter": "python",
   "pygments_lexer": "ipython3",
   "version": "3.12.7"
  }
 },
 "nbformat": 4,
 "nbformat_minor": 5
}
