{
 "cells": [
  {
   "cell_type": "code",
   "execution_count": 1,
   "id": "9a4aeba6-5208-43d3-ac6a-2dd7d27e29e3",
   "metadata": {},
   "outputs": [],
   "source": [
    "import pandas as pd\n",
    "import numpy as np\n",
    "import matplotlib.pyplot as plt\n",
    "\n",
    " df= pd.read_csv(r\"C:\\Users\\OJ 001\\Desktop\\DataScience\\encoded_telecom_final57.csv\")\n"
   ]
  },
  {
   "cell_type": "code",
   "execution_count": 43,
   "id": "b2abbb7b-6b59-4d2c-819c-76f32b40d351",
   "metadata": {},
   "outputs": [
    {
     "data": {
      "text/plain": [
       "(1200, 43)"
      ]
     },
     "execution_count": 43,
     "metadata": {},
     "output_type": "execute_result"
    }
   ],
   "source": [
    "df.shape"
   ]
  },
  {
   "cell_type": "code",
   "execution_count": 19,
   "id": "05101835-b9d6-42e9-a958-00bb5cc2abc7",
   "metadata": {},
   "outputs": [],
   "source": [
    "df_feat = df.copy()   # work on df_feat so df stays as backup\n"
   ]
  },
  {
   "cell_type": "code",
   "execution_count": 28,
   "id": "567cf8ac-8de0-45f7-bba0-11985029f1d9",
   "metadata": {},
   "outputs": [
    {
     "name": "stdout",
     "output_type": "stream",
     "text": [
      "               age  tenure_months  monthly_charges  total_charges\n",
      "count  1200.000000    1200.000000      1200.000000    1200.000000\n",
      "mean     34.740300      39.643333      2427.079698   56921.915950\n",
      "std      11.687911      22.557042      8621.037099   68113.471432\n",
      "min       0.000000       0.000000       500.460000      12.380000\n",
      "25%      27.000000      21.000000       797.235000   31437.662500\n",
      "50%      34.000000      39.000000      1048.720000   40709.825000\n",
      "75%      42.000000      59.000000      1660.392500   56654.442500\n",
      "max      67.030000      85.000000     73712.779800  548583.349200\n"
     ]
    }
   ],
   "source": [
    "expected_num = ['age', 'tenure_months', 'monthly_charges', 'total_charges']\n",
    "for c in expected_num:\n",
    "    if c in df_feat.columns:\n",
    "        df_feat[c] = df_feat[c].astype(str).str.replace(',', '').str.strip()\n",
    "        df_feat[c] = pd.to_numeric(df_feat[c], errors='coerce')\n",
    "    else:\n",
    "        print(f\"Warning: expected numeric column NOT found: {c}\")\n",
    "\n",
    "# Fill any remaining numeric NaNs using median (safe fallback)\n",
    "present_nums = [c for c in expected_num if c in df_feat.columns]\n",
    "if present_nums:\n",
    "    df_feat[present_nums] = df_feat[present_nums].fillna(df_feat[present_nums].median())\n",
    "\n",
    "# Step 3: Clean numerical outliers and invalid values\n",
    "\n",
    "# 1. Handle negative values\n",
    "df_feat['age'] = df_feat['age'].apply(lambda x: np.nan if x < 0 else x)\n",
    "df_feat['tenure_months'] = df_feat['tenure_months'].apply(lambda x: np.nan if x < 0 else x)\n",
    "df_feat['monthly_charges'] = df_feat['monthly_charges'].apply(lambda x: np.nan if x < 0 else x)\n",
    "df_feat['total_charges'] = df_feat['total_charges'].apply(lambda x: np.nan if x < 0 else x)\n",
    "\n",
    "# Fill NaN only in numeric columns with mean\n",
    "num_cols = df_feat.select_dtypes(include=np.number).columns\n",
    "df_feat[num_cols] = df_feat[num_cols].fillna(df_feat[num_cols].mean())\n",
    "   # replace NaN with mean\n",
    "# or\n",
    "#df_feat.dropna(inplace=True)                   # drop rows with NaN\n",
    "\n",
    "\n",
    "# 2. Cap extreme values using 99th percentile\n",
    "for col in ['age', 'monthly_charges', 'total_charges']:\n",
    "    upper_limit = df_feat[col].quantile(0.99)   # 99th percentile\n",
    "    df_feat[col] = np.where(df_feat[col] > upper_limit, upper_limit, df_feat[col])\n",
    "\n",
    "# 3. Fill missing values with median\n",
    "for col in ['age', 'tenure_months', 'monthly_charges', 'total_charges']:\n",
    "    df_feat[col] = df_feat[col].fillna(df_feat[col].median())\n",
    "\n",
    "# Check results again\n",
    "print(df_feat[['age','tenure_months','monthly_charges','total_charges']].describe())\n",
    "\n",
    "\n",
    "\n"
   ]
  },
  {
   "cell_type": "code",
   "execution_count": null,
   "id": "e7708ae9-73c2-422b-a502-5d8831f18a8d",
   "metadata": {},
   "outputs": [],
   "source": [
    "# Create avg_monthly_charge safely (use monthly_charges if tenure == 0)\n",
    "df_feat['avg_monthly_charge'] = np.where(\n",
    "    (df_feat.get('tenure_months', 0) > 0),\n",
    "    df_feat['total_charges'] / df_feat['tenure_months'],\n",
    "    df_feat['monthly_charges']\n",
    ")\n",
    "\n",
    "# clean infinities & fallback\n",
    "# Replace infinities with NaN\n",
    "df_feat['avg_monthly_charge'] = df_feat['avg_monthly_charge'].replace([np.inf, -np.inf], np.nan)\n",
    "\n",
    "# Fill NaN with monthly_charges\n",
    "df_feat['avg_monthly_charge'] = df_feat['avg_monthly_charge'].fillna(df_feat['monthly_charges'])\n",
    "\n",
    "\n",
    "print(df_feat['avg_monthly_charge'].describe())\n",
    "print(df_feat[['monthly_charges','tenure_months','total_charges','avg_monthly_charge']].head())\n"
   ]
  },
  {
   "cell_type": "code",
   "execution_count": 24,
   "id": "adb82c78-f02c-4dd0-b24e-50ae78440afb",
   "metadata": {},
   "outputs": [
    {
     "name": "stdout",
     "output_type": "stream",
     "text": [
      "count    1.170000e+03\n",
      "mean     9.453114e+04\n",
      "std      4.575246e+05\n",
      "min      0.000000e+00\n",
      "25%      2.208593e+04\n",
      "50%      4.124392e+04\n",
      "75%      7.095473e+04\n",
      "max      7.250510e+06\n",
      "Name: lifetime_value, dtype: float64\n"
     ]
    }
   ],
   "source": [
    "#Feature: lifetime_value (simple revenue measure)\n",
    "df_feat['lifetime_value'] = df_feat['monthly_charges'] * df_feat['tenure_months']\n",
    "print(df_feat['lifetime_value'].describe())\n"
   ]
  },
  {
   "cell_type": "code",
   "execution_count": 26,
   "id": "0c12e163-3c1e-43c6-b303-35409b5f2cf7",
   "metadata": {},
   "outputs": [
    {
     "name": "stdout",
     "output_type": "stream",
     "text": [
      "   monthly_charges  tenure_months  total_charges  expected_total  \\\n",
      "0           569.75           14.0      40709.825         7976.50   \n",
      "1          1542.70           78.0     120186.630       120330.60   \n",
      "2           728.27           66.0      40709.825        48065.82   \n",
      "3           901.57           31.0      28195.030        27948.67   \n",
      "4          2010.12           39.0      78564.160        78394.68   \n",
      "\n",
      "   total_expected_diff  total_expected_pct_diff  is_total_mismatch  \n",
      "0            32733.325                 4.103720                  1  \n",
      "1             -143.970                 0.001196                  0  \n",
      "2            -7355.995                 0.153040                  1  \n",
      "3              246.360                 0.008815                  0  \n",
      "4              169.480                 0.002162                  0  \n",
      "Number of mismatches: 413\n"
     ]
    }
   ],
   "source": [
    "#Feature: expected total, diff, pct diff and mismatch flag\n",
    "eps = 1e-9\n",
    "df_feat['expected_total'] = df_feat['monthly_charges'] * df_feat['tenure_months']\n",
    "df_feat['total_expected_diff'] = df_feat['total_charges'] - df_feat['expected_total']\n",
    "df_feat['total_expected_pct_diff'] = (df_feat['total_expected_diff'].abs()) / (df_feat['expected_total'].abs() + eps)\n",
    "# flag: tune thresholds if you like\n",
    "df_feat['is_total_mismatch'] = ((df_feat['total_expected_diff'].abs() > 1000) |\n",
    "                                (df_feat['total_expected_pct_diff'] > 0.5)).astype(int)\n",
    "\n",
    "print(df_feat[['monthly_charges','tenure_months','total_charges','expected_total','total_expected_diff','total_expected_pct_diff','is_total_mismatch']].head())\n",
    "print(\"Number of mismatches:\", df_feat['is_total_mismatch'].sum())\n"
   ]
  },
  {
   "cell_type": "code",
   "execution_count": 30,
   "id": "5d8a3315-cc04-4b6e-8b45-485e16332101",
   "metadata": {},
   "outputs": [
    {
     "name": "stdout",
     "output_type": "stream",
     "text": [
      "tenure_group\n",
      "37-72    577\n",
      "13-36    344\n",
      "73+      105\n",
      "0-6      101\n",
      "7-12      73\n",
      "Name: count, dtype: int64\n"
     ]
    }
   ],
   "source": [
    "#Tenure groups (categorical)\n",
    "df_feat['tenure_group'] = pd.cut(\n",
    "    df_feat['tenure_months'],\n",
    "    bins=[-1, 6, 12, 36, 72, np.inf],\n",
    "    labels=['0-6','7-12','13-36','37-72','73+']\n",
    ")\n",
    "print(df_feat['tenure_group'].value_counts(dropna=False))\n"
   ]
  },
  {
   "cell_type": "code",
   "execution_count": 32,
   "id": "896e5bf1-b302-4556-9671-5b34ebf4b1e0",
   "metadata": {},
   "outputs": [
    {
     "name": "stdout",
     "output_type": "stream",
     "text": [
      "    age age_group  is_senior\n",
      "0  40.0     36-50          0\n",
      "1  17.0       <25          0\n",
      "2  33.0     25-35          0\n",
      "3  38.0     36-50          0\n",
      "4  20.0       <25          0\n"
     ]
    }
   ],
   "source": [
    "#Age groups & senior flag\n",
    "df_feat['age_group'] = pd.cut(\n",
    "    df_feat['age'],\n",
    "    bins=[0, 24, 35, 50, 60, 120],\n",
    "    labels=['<25','25-35','36-50','51-59','60+']\n",
    ")\n",
    "df_feat['is_senior'] = (df_feat['age'] >= 60).astype(int)\n",
    "print(df_feat[['age','age_group','is_senior']].head())\n"
   ]
  },
  {
   "cell_type": "code",
   "execution_count": 34,
   "id": "27e3b4ef-d6fd-4e93-aa7c-cf9c287c12c9",
   "metadata": {},
   "outputs": [
    {
     "name": "stdout",
     "output_type": "stream",
     "text": [
      "is_two_year_contract\n",
      "0    1061\n",
      "1     139\n",
      "Name: count, dtype: int64\n"
     ]
    }
   ],
   "source": [
    "#Contract long-term flag (works with either original or dummy columns)\n",
    "# If original 'contract' exists:\n",
    "if 'contract' in df_feat.columns:\n",
    "    df_feat['is_two_year_contract'] = df_feat['contract'].astype(str).str.lower().str.contains('two').fillna(False).astype(int)\n",
    "else:\n",
    "    # fallback: look for contract_ dummy columns\n",
    "    contract_dummies = [c for c in df_feat.columns if c.lower().startswith('contract_')]\n",
    "    # try to find any dummy that denotes two-year\n",
    "    two_cols = [c for c in contract_dummies if 'two' in c.lower() or '2' in c.lower() or 'two year' in c.lower()]\n",
    "    if two_cols:\n",
    "        df_feat['is_two_year_contract'] = df_feat[two_cols[0]].astype(int)\n",
    "    else:\n",
    "        df_feat['is_two_year_contract'] = 0\n",
    "\n",
    "print(df_feat['is_two_year_contract'].value_counts())\n"
   ]
  },
  {
   "cell_type": "code",
   "execution_count": 36,
   "id": "2b045a3d-a22f-4e4e-8903-027c41b44323",
   "metadata": {},
   "outputs": [
    {
     "name": "stdout",
     "output_type": "stream",
     "text": [
      "  city_grouped  city_is_top\n",
      "0        Other            0\n",
      "1        Other            0\n",
      "2        Other            0\n",
      "3        Other            0\n",
      "4        Other            0\n"
     ]
    }
   ],
   "source": [
    "#Group top cities & payment methods (reduce cardinality)\n",
    "\n",
    "# CITY grouping (prefer original 'city' if present)\n",
    "if 'city' in df_feat.columns:\n",
    "    top_cities = df_feat['city'].value_counts().nlargest(5).index.tolist()\n",
    "    df_feat['city_grouped'] = df_feat['city'].where(df_feat['city'].isin(top_cities), other='Other')\n",
    "    df_feat['city_is_top'] = df_feat['city_grouped'].ne('Other').astype(int)\n",
    "else:\n",
    "    # If we only have dummies like city_Nairobi, reconstruct topness using sums\n",
    "    city_dummies = [c for c in df_feat.columns if c.startswith('city_')]\n",
    "    if city_dummies:\n",
    "        top_by_sum = df_feat[city_dummies].sum().nlargest(5).index.tolist()\n",
    "        # city_is_top = whether any of those top dummies is 1\n",
    "        df_feat['city_is_top'] = (df_feat[top_by_sum].sum(axis=1) > 0).astype(int)\n",
    "        # city_grouped: find first top dummy with 1, else 'Other'\n",
    "        def city_from_row(row):\n",
    "            for col in top_by_sum:\n",
    "                if row[col] == 1:\n",
    "                    return col.replace('city_','')\n",
    "            return 'Other'\n",
    "        df_feat['city_grouped'] = df_feat[city_dummies].apply(city_from_row, axis=1)\n",
    "    else:\n",
    "        df_feat['city_grouped'] = 'Unknown'\n",
    "        df_feat['city_is_top'] = 0\n",
    "\n",
    "print(df_feat[['city_grouped','city_is_top']].head())\n"
   ]
  },
  {
   "cell_type": "code",
   "execution_count": 38,
   "id": "ddde90c9-9396-4e4c-863b-052ad6d2f23e",
   "metadata": {},
   "outputs": [],
   "source": [
    "if 'payment_method' in df_feat.columns:\n",
    "    top_pay = df_feat['payment_method'].value_counts().nlargest(5).index.tolist()\n",
    "    df_feat['payment_method_grouped'] = df_feat['payment_method'].where(df_feat['payment_method'].isin(top_pay), other='Other')\n",
    "    df_feat['is_common_payment'] = df_feat['payment_method_grouped'].ne('Other').astype(int)\n",
    "else:\n",
    "    df_feat['payment_method_grouped'] = 'Unknown'\n",
    "    df_feat['is_common_payment'] = 0\n"
   ]
  },
  {
   "cell_type": "code",
   "execution_count": 40,
   "id": "749ae584-bfee-4294-882f-cdad6f286e50",
   "metadata": {},
   "outputs": [],
   "source": [
    "#Interaction features\n",
    "\n",
    "eps = 1e-9\n",
    "df_feat['charges_per_age'] = df_feat['monthly_charges'] / (df_feat['age'] + eps)\n",
    "df_feat['charges_per_tenure'] = df_feat['monthly_charges'] / (df_feat['tenure_months'] + eps)\n"
   ]
  },
  {
   "cell_type": "code",
   "execution_count": 45,
   "id": "c87091ca-a37e-441e-938f-d6b65d1f6d4e",
   "metadata": {},
   "outputs": [],
   "source": [
    "#Log transforms for skewed money columns\n",
    "# create log1p versions (safe for zeros)\n",
    "for c in ['monthly_charges','total_charges','lifetime_value','avg_monthly_charge']:\n",
    "    if c in df_feat.columns:\n",
    "        df_feat['log_'+c] = np.log1p(df_feat[c].clip(lower=0))\n"
   ]
  },
  {
   "cell_type": "code",
   "execution_count": 47,
   "id": "656098a2-12e6-4ace-a760-5cc323342e82",
   "metadata": {},
   "outputs": [
    {
     "name": "stdout",
     "output_type": "stream",
     "text": [
      "Skewness (desc):\n",
      "charges_per_age            34.641016\n",
      "total_expected_pct_diff    12.993982\n",
      "avg_monthly_charge         12.957943\n",
      "expected_total             12.513939\n",
      "lifetime_value             12.513939\n",
      "charges_per_tenure         11.824305\n",
      "data_usage_gb               8.890275\n",
      "monthly_charges             7.753067\n",
      "total_charges               4.760272\n",
      "log_monthly_charges         2.903937\n",
      "log_avg_monthly_charge      1.970647\n",
      "num_support_tickets         0.887825\n",
      "age                         0.174453\n",
      "tenure_months               0.026689\n",
      "log_total_charges          -1.719550\n",
      "log_lifetime_value         -3.204754\n",
      "total_expected_diff       -13.887848\n",
      "dtype: float64\n"
     ]
    }
   ],
   "source": [
    "#Quick skewness check (decide which numeric columns are skewed)\n",
    "numeric_for_skew = [c for c in df_feat.select_dtypes(include=[np.number]).columns \n",
    "                    if df_feat[c].nunique() > 2]   # ignore binary dummies\n",
    "skew_vals = df_feat[numeric_for_skew].skew().sort_values(ascending=False)\n",
    "print(\"Skewness (desc):\")\n",
    "print(skew_vals.head(30))\n"
   ]
  },
  {
   "cell_type": "code",
   "execution_count": 49,
   "id": "96bb11ca-0dc2-45a4-bd28-dd3e1e08a084",
   "metadata": {},
   "outputs": [
    {
     "name": "stdout",
     "output_type": "stream",
     "text": [
      "Will log-transform: ['charges_per_age', 'total_expected_pct_diff', 'avg_monthly_charge', 'expected_total', 'lifetime_value', 'charges_per_tenure', 'data_usage_gb', 'monthly_charges', 'total_charges', 'log_monthly_charges', 'log_avg_monthly_charge', 'log_total_charges', 'log_lifetime_value', 'total_expected_diff']\n"
     ]
    }
   ],
   "source": [
    "#Apply log1p to highly right-skewed features (if needed)\n",
    "skew_threshold = 1.0\n",
    "to_log = [c for c in skew_vals.index if abs(skew_vals.loc[c]) > skew_threshold]\n",
    "print(\"Will log-transform:\", to_log)\n",
    "\n",
    "for c in to_log:\n",
    "    safe_col = c\n",
    "    new_col = 'log1p_'+c\n",
    "    df_feat[new_col] = np.log1p(df_feat[safe_col].clip(lower=0))\n"
   ]
  },
  {
   "cell_type": "code",
   "execution_count": 51,
   "id": "aec482d9-7731-40d3-b291-bd856846104b",
   "metadata": {},
   "outputs": [
    {
     "name": "stdout",
     "output_type": "stream",
     "text": [
      "One-hot encoded: ['tenure_group', 'age_group', 'city_grouped', 'payment_method_grouped']\n"
     ]
    }
   ],
   "source": [
    "#One-hot encode any new grouped categorical features (if needed)\n",
    "to_onehot = [c for c in ['tenure_group','age_group','city_grouped','payment_method_grouped'] if c in df_feat.columns]\n",
    "if to_onehot:\n",
    "    df_feat = pd.get_dummies(df_feat, columns=to_onehot, drop_first=True)\n",
    "    print(\"One-hot encoded:\", to_onehot)\n"
   ]
  },
  {
   "cell_type": "code",
   "execution_count": 34,
   "id": "bfa01714-6236-46ca-9a70-27662c9d7777",
   "metadata": {},
   "outputs": [
    {
     "name": "stdout",
     "output_type": "stream",
     "text": [
      "age                0.174875\n",
      "tenure_months      0.026689\n",
      "monthly_charges    7.753509\n",
      "total_charges      4.766079\n",
      "dtype: float64\n"
     ]
    }
   ],
   "source": [
    "#print(df_feat.columns)\n",
    "num_cols = ['age', 'tenure_months', 'monthly_charges', 'total_charges']\n",
    "\n",
    "skewness = df_feat[num_cols].skew()\n",
    "print(skewness)\n",
    "\n"
   ]
  },
  {
   "cell_type": "code",
   "execution_count": 38,
   "id": "a81a0538-56a3-47bc-a2c2-628f51a029b3",
   "metadata": {},
   "outputs": [
    {
     "data": {
      "image/png": "[encoded data removed]",
      "text/plain": [
       "<Figure size 600x400 with 1 Axes>"
      ]
     },
     "metadata": {},
     "output_type": "display_data"
    },
    {
     "data": {
      "image/png": "[encoded data removed]",
      "text/plain": [
       "<Figure size 600x400 with 1 Axes>"
      ]
     },
     "metadata": {},
     "output_type": "display_data"
    },
    {
     "data": {
      "image/png": "[encoded data removed]",
      "text/plain": [
       "<Figure size 600x400 with 1 Axes>"
      ]
     },
     "metadata": {},
     "output_type": "display_data"
    },
    {
     "data": {
      "image/png": "[encoded data removed]",
      "text/plain": [
       "<Figure size 600x400 with 1 Axes>"
      ]
     },
     "metadata": {},
     "output_type": "display_data"
    }
   ],
   "source": [
    "# histograms + KDE\n",
    "import seaborn as sns\n",
    "for col in num_cols:\n",
    "    plt.figure(figsize=(6,4))\n",
    "    sns.histplot(df_feat[col], kde=True, bins=30)\n",
    "    plt.title(f\"Distribution of {col}\")\n",
    "    plt.show()\n"
   ]
  },
  {
   "cell_type": "code",
   "execution_count": null,
   "id": "fe262231-9f81-4f14-ad07-fd9257459621",
   "metadata": {},
   "outputs": [],
   "source": []
  },
  {
   "cell_type": "code",
   "execution_count": 42,
   "id": "938307c9-b4e0-4274-9fd2-36a8d51391cd",
   "metadata": {},
   "outputs": [
    {
     "name": "stdout",
     "output_type": "stream",
     "text": [
      "Skewness after Yeo-Johnson:\n",
      " monthly_charges_yj    0.088437\n",
      "total_charges_yj      0.202385\n",
      "dtype: float64\n"
     ]
    }
   ],
   "source": [
    "from sklearn.preprocessing import PowerTransformer\n",
    "\n",
    "# Apply Yeo-Johnson transform\n",
    "pt = PowerTransformer(method='yeo-johnson')\n",
    "\n",
    "# Transform the skewed columns\n",
    "df_feat[['monthly_charges_yj', 'total_charges_yj']] = pt.fit_transform(\n",
    "    df_feat[['monthly_charges', 'total_charges']]\n",
    ")\n",
    "\n",
    "# Check skewness again\n",
    "new_skewness_yj = df_feat[['monthly_charges_yj', 'total_charges_yj']].skew()\n",
    "print(\"Skewness after Yeo-Johnson:\\n\", new_skewness_yj)\n"
   ]
  },
  {
   "cell_type": "code",
   "execution_count": 50,
   "id": "0e9d70b6-4533-4353-b332-546afa300bbb",
   "metadata": {},
   "outputs": [
    {
     "name": "stdout",
     "output_type": "stream",
     "text": [
      "✅ Engineered dataset saved as encoded_telecom_engineered57.csv (before scaling)\n"
     ]
    }
   ],
   "source": [
    "# Save engineered dataset before scaling\n",
    "df_feat.to_csv(r\"C:\\Users\\OJ 001\\Desktop\\DataScience\\encoded_telecom_engineered57.csv\", index=False)\n",
    "\n",
    "print(\"✅ Engineered dataset saved as encoded_telecom_engineered57.csv (before scaling)\")\n"
   ]
  },
  {
   "cell_type": "code",
   "execution_count": 52,
   "id": "05e07e83-4486-4eaa-bfa7-c7dc0da54751",
   "metadata": {},
   "outputs": [],
   "source": [
    "#Scaling\n",
    "\n",
    "from sklearn.preprocessing import StandardScaler\n"
   ]
  },
  {
   "cell_type": "code",
   "execution_count": 54,
   "id": "1c9d9ffe-aca7-4578-834d-be1b2e1cbf6c",
   "metadata": {},
   "outputs": [],
   "source": [
    "num_cols = ['age', 'tenure_months', 'monthly_charges_yj', 'total_charges_yj']\n"
   ]
  },
  {
   "cell_type": "code",
   "execution_count": 56,
   "id": "978ef01c-9d5c-450f-9be0-69ee56be1ea0",
   "metadata": {},
   "outputs": [],
   "source": [
    "scaler = StandardScaler()\n",
    "df_scaled = df_feat.copy()  # keep a copy\n",
    "\n",
    "df_scaled[num_cols] = scaler.fit_transform(df_feat[num_cols])\n"
   ]
  },
  {
   "cell_type": "code",
   "execution_count": 58,
   "id": "0e664a90-6814-4429-996a-a07deffae15f",
   "metadata": {},
   "outputs": [
    {
     "name": "stdout",
     "output_type": "stream",
     "text": [
      "                     count          mean       std       min       25%  \\\n",
      "age                 1200.0  1.791160e-16  1.000417 -2.973567 -0.662524   \n",
      "tenure_months       1200.0  1.051011e-16  1.000417 -1.758203 -0.826842   \n",
      "monthly_charges_yj  1200.0  2.368476e-17  1.000417 -2.126835 -0.694238   \n",
      "total_charges_yj    1200.0 -2.664535e-17  1.000417 -4.072977 -0.299183   \n",
      "\n",
      "                         50%       75%       max  \n",
      "age                -0.063365  0.621388  2.763810  \n",
      "tenure_months      -0.028532  0.858479  2.011593  \n",
      "monthly_charges_yj -0.056916  0.756901  2.617974  \n",
      "total_charges_yj   -0.027094  0.344479  3.791541  \n"
     ]
    }
   ],
   "source": [
    "print(df_scaled[num_cols].describe().T)\n"
   ]
  },
  {
   "cell_type": "code",
   "execution_count": 60,
   "id": "008e7594-dfbc-4694-a6e1-d55bd61ca8ba",
   "metadata": {},
   "outputs": [
    {
     "name": "stdout",
     "output_type": "stream",
     "text": [
      "✅ Scaled dataset saved as encoded_telecom_scaled57.csv\n"
     ]
    }
   ],
   "source": [
    "# Save the scaled dataset\n",
    "df_scaled.to_csv(r\"C:\\Users\\OJ 001\\Desktop\\DataScience\\encoded_telecom_scaled57.csv\", index=False)\n",
    "print(\"✅ Scaled dataset saved as encoded_telecom_scaled57.csv\")\n"
   ]
  },
  {
   "cell_type": "code",
   "execution_count": null,
   "id": "dc772335-28f6-484b-b89f-66a80c177868",
   "metadata": {},
   "outputs": [],
   "source": []
  }
 ],
 "metadata": {
  "kernelspec": {
   "display_name": "Python [conda env:base] *",
   "language": "python",
   "name": "conda-base-py"
  },
  "language_info": {
   "codemirror_mode": {
    "name": "ipython",
    "version": 3
   },
   "file_extension": ".py",
   "mimetype": "text/x-python",
   "name": "python",
   "nbconvert_exporter": "python",
   "pygments_lexer": "ipython3",
   "version": "3.12.7"
  }
 },
 "nbformat": 4,
 "nbformat_minor": 5
}
