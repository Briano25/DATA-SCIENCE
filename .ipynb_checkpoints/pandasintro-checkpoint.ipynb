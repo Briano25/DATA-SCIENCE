{
 "cells": [
  {
   "cell_type": "code",
   "execution_count": 3,
   "id": "baa74a3e-ac4e-49ec-b864-9044d7309793",
   "metadata": {},
   "outputs": [
    {
     "name": "stdout",
     "output_type": "stream",
     "text": [
      "<module 'pandas' from 'C:\\\\Users\\\\OJ 001\\\\anaconda3\\\\Lib\\\\site-packages\\\\pandas\\\\__init__.py'>\n"
     ]
    }
   ],
   "source": [
    "import pandas as pd\n",
    "print(pd)"
   ]
  },
  {
   "cell_type": "code",
   "execution_count": 7,
   "id": "bb062f73-3f83-43a0-bf5e-c47bffe71445",
   "metadata": {},
   "outputs": [
    {
     "name": "stdout",
     "output_type": "stream",
     "text": [
      "0    10\n",
      "1    20\n",
      "2    30\n",
      "3    40\n",
      "dtype: int64\n"
     ]
    }
   ],
   "source": [
    "import pandas as pd\n",
    "\n",
    "data = pd.Series([10, 20, 30, 40])\n",
    "print(data)"
   ]
  },
  {
   "cell_type": "code",
   "execution_count": 9,
   "id": "e6ae4cf2-a840-489c-ad96-7dafe850e6ee",
   "metadata": {},
   "outputs": [
    {
     "name": "stdout",
     "output_type": "stream",
     "text": [
      "      Name  Age\n",
      "0    Alice   25\n",
      "1      Bob   30\n",
      "2  Charlie   35\n"
     ]
    }
   ],
   "source": [
    "import pandas as pd\n",
    "\n",
    "data = {\n",
    "    'Name': ['Alice', 'Bob', 'Charlie'],\n",
    "    'Age': [25, 30, 35]\n",
    "}\n",
    "\n",
    "df = pd.DataFrame(data)\n",
    "print(df)"
   ]
  },
  {
   "cell_type": "code",
   "execution_count": 11,
   "id": "37c1208e-050e-406f-9bde-a8bd51e658d1",
   "metadata": {},
   "outputs": [
    {
     "name": "stdout",
     "output_type": "stream",
     "text": [
      "Pandas Series:\n",
      " 0    10\n",
      "1    20\n",
      "2    30\n",
      "3    40\n",
      "dtype: int64\n"
     ]
    }
   ],
   "source": [
    "import pandas as pd\n",
    "\n",
    "# List of numbers\n",
    "data = [10, 20, 30, 40]\n",
    "series = pd.Series(data)\n",
    "print(\"Pandas Series:\\n\", series)"
   ]
  },
  {
   "cell_type": "code",
   "execution_count": 27,
   "id": "d8292808-ef63-46cb-bbe0-696c6c10192b",
   "metadata": {},
   "outputs": [
    {
     "name": "stdout",
     "output_type": "stream",
     "text": [
      "Original Series:\n",
      "a    100\n",
      "b    200\n",
      "c    300\n",
      "dtype: int64\n",
      "\n",
      "Value at index 'b': 200\n",
      "\n",
      "Modified Series:\n",
      "a    100\n",
      "b    250\n",
      "c    300\n",
      "dtype: int64\n"
     ]
    }
   ],
   "source": [
    "import pandas as pd\n",
    "\n",
    "s = pd.Series([100, 200, 300], index=['a', 'b', 'c'])\n",
    "\n",
    "print(\"Original Series:\")\n",
    "print(s)\n",
    "\n",
    "# Access value by label\n",
    "print(\"\\nValue at index 'b':\", s['b'])\n",
    "\n",
    "# Modify value\n",
    "s['b'] = 250\n",
    "print(\"\\nModified Series:\")\n",
    "print(s)"
   ]
  },
  {
   "cell_type": "code",
   "execution_count": 15,
   "id": "79423444-aa49-4ee4-94fd-858006a73824",
   "metadata": {},
   "outputs": [
    {
     "name": "stdout",
     "output_type": "stream",
     "text": [
      "Original DataFrame:\n",
      "      Name  Age\n",
      "0    Alice   25\n",
      "1      Bob   30\n",
      "2  Charlie   35\n",
      "\n",
      "Ages:\n",
      "0    25\n",
      "1    30\n",
      "2    35\n",
      "Name: Age, dtype: int64\n",
      "\n",
      "DataFrame after modifying Bob's age:\n",
      "      Name  Age\n",
      "0    Alice   25\n",
      "1      Bob   32\n",
      "2  Charlie   35\n"
     ]
    }
   ],
   "source": [
    "data = {\n",
    "    'Name': ['Alice', 'Bob', 'Charlie'],\n",
    "    'Age': [25, 30, 35]\n",
    "}\n",
    "df = pd.DataFrame(data)\n",
    "\n",
    "print(\"Original DataFrame:\")\n",
    "print(df)\n",
    "\n",
    "# Access a column\n",
    "print(\"\\nAges:\")\n",
    "print(df['Age'])\n",
    "\n",
    "# Modify the value\n",
    "df.loc[1, 'Age'] = 32\n",
    "print(\"\\nDataFrame after modifying Bob's age:\")\n",
    "print(df)\n"
   ]
  },
  {
   "cell_type": "code",
   "execution_count": 17,
   "id": "2ccf8497-1c04-476c-8f21-93ab35d3d753",
   "metadata": {},
   "outputs": [
    {
     "name": "stdout",
     "output_type": "stream",
     "text": [
      "\n",
      "DataFrame after adding a column:\n",
      "      Name  Age Country\n",
      "0    Alice   25     USA\n",
      "1      Bob   32      UK\n",
      "2  Charlie   35  Canada\n",
      "\n",
      "DataFrame after deleting 'Age':\n",
      "      Name Country\n",
      "0    Alice     USA\n",
      "1      Bob      UK\n",
      "2  Charlie  Canada\n"
     ]
    }
   ],
   "source": [
    "df['Country'] = ['USA', 'UK', 'Canada']\n",
    "print(\"\\nDataFrame after adding a column:\")\n",
    "print(df)\n",
    "\n",
    "# Delete a column\n",
    "del df['Age']\n",
    "print(\"\\nDataFrame after deleting 'Age':\")\n",
    "print(df)"
   ]
  },
  {
   "cell_type": "code",
   "execution_count": 19,
   "id": "d8f57269-dcce-4239-84a8-23e75c162e5d",
   "metadata": {},
   "outputs": [
    {
     "name": "stdout",
     "output_type": "stream",
     "text": [
      "\n",
      "Filtered DataFrame (Country == 'USA'):\n",
      "    Name Country\n",
      "0  Alice     USA\n"
     ]
    }
   ],
   "source": [
    "filtered_df = df[df['Country'] == 'USA']\n",
    "print(\"\\nFiltered DataFrame (Country == 'USA'):\")\n",
    "print(filtered_df)"
   ]
  },
  {
   "cell_type": "code",
   "execution_count": 21,
   "id": "3746f703-03ca-4f43-984a-0558ebc26357",
   "metadata": {},
   "outputs": [
    {
     "name": "stdout",
     "output_type": "stream",
     "text": [
      "Original DataFrame:\n",
      "   Student  Score Grade\n",
      "0    Alice     85     A\n",
      "1      Bob     42     F\n",
      "2  Charlie     73     B\n",
      "3    David     49     F\n",
      "\n",
      "After adding 'Passed' column:\n",
      "   Student  Score Grade  Passed\n",
      "0    Alice     85     A    True\n",
      "1      Bob     42     F   False\n",
      "2  Charlie     73     B    True\n",
      "3    David     49     F   False\n",
      "\n",
      "After removing 'Grade' column:\n",
      "   Student  Score  Passed\n",
      "0    Alice     85    True\n",
      "1      Bob     42   False\n",
      "2  Charlie     73    True\n",
      "3    David     49   False\n",
      "\n",
      "Students who passed:\n",
      "   Student  Score  Passed\n",
      "0    Alice     85    True\n",
      "2  Charlie     73    True\n"
     ]
    }
   ],
   "source": [
    "import pandas as pd\n",
    "\n",
    "# Step 1: Create a DataFrame\n",
    "data = {\n",
    "    'Student': ['Alice', 'Bob', 'Charlie', 'David'],\n",
    "    'Score': [85, 42, 73, 49],\n",
    "    'Grade': ['A', 'F', 'B', 'F']\n",
    "}\n",
    "df = pd.DataFrame(data)\n",
    "\n",
    "print(\"Original DataFrame:\")\n",
    "print(df)\n",
    "\n",
    "# Step 2: Add a 'Passed' column (True if Score >= 50)\n",
    "df['Passed'] = df['Score'] >= 50\n",
    "\n",
    "print(\"\\nAfter adding 'Passed' column:\")\n",
    "print(df)\n",
    "\n",
    "# Step 3: Remove the 'Grade' column\n",
    "df.drop('Grade', axis=1, inplace=True)\n",
    "\n",
    "print(\"\\nAfter removing 'Grade' column:\")\n",
    "print(df)\n",
    "\n",
    "# Step 4: Filter students who passed\n",
    "passed_df = df[df['Passed'] == True]\n",
    "\n",
    "print(\"\\nStudents who passed:\")\n",
    "print(passed_df)\n"
   ]
  },
  {
   "cell_type": "code",
   "execution_count": null,
   "id": "b0fe31ec-b063-4301-94b9-ebee14a07a17",
   "metadata": {},
   "outputs": [],
   "source": []
  }
 ],
 "metadata": {
  "kernelspec": {
   "display_name": "Python [conda env:base] *",
   "language": "python",
   "name": "conda-base-py"
  },
  "language_info": {
   "codemirror_mode": {
    "name": "ipython",
    "version": 3
   },
   "file_extension": ".py",
   "mimetype": "text/x-python",
   "name": "python",
   "nbconvert_exporter": "python",
   "pygments_lexer": "ipython3",
   "version": "3.12.7"
  }
 },
 "nbformat": 4,
 "nbformat_minor": 5
}
