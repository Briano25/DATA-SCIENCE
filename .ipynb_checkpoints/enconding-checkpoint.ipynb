{
 "cells": [
  {
   "cell_type": "code",
   "execution_count": 1,
   "id": "8a8b5b89",
   "metadata": {},
   "outputs": [
    {
     "name": "stdout",
     "output_type": "stream",
     "text": [
      "Original Data:\n",
      "   Gender     City\n",
      "0    Male  Nairobi\n",
      "1  Female   Kisumu\n",
      "2  Female  Mombasa\n",
      "3    Male  Nairobi\n",
      "4  Female   Kisumu\n",
      "\n",
      "After Label and One-Hot Encoding:\n",
      "   Gender  Gender_encoded  City_Mombasa  City_Nairobi\n",
      "0    Male               1         False          True\n",
      "1  Female               0         False         False\n",
      "2  Female               0          True         False\n",
      "3    Male               1         False          True\n",
      "4  Female               0         False         False\n"
     ]
    }
   ],
   "source": [
    "import pandas as pd\n",
    "from sklearn.preprocessing import LabelEncoder\n",
    "\n",
    "# Sample dataset\n",
    "df = pd.DataFrame({\n",
    "    'Gender': ['Male', 'Female', 'Female', 'Male', 'Female'],\n",
    "    'City': ['Nairobi', 'Kisumu', 'Mombasa', 'Nairobi', 'Kisumu']\n",
    "})\n",
    "\n",
    "print(\"Original Data:\")\n",
    "print(df)\n",
    "\n",
    "# --------------------------\n",
    "# 🔠 Label Encoding (for Gender)\n",
    "# --------------------------\n",
    "le = LabelEncoder()\n",
    "df['Gender_encoded'] = le.fit_transform(df['Gender'])\n",
    "\n",
    "# 'Male' becomes 1, 'Female' becomes 0\n",
    "\n",
    "# --------------------------\n",
    "# 🟦 One-Hot Encoding (for City)\n",
    "# --------------------------\n",
    "df_encoded = pd.get_dummies(df, columns=['City'], drop_first=True)\n",
    "\n",
    "# 'drop_first=True' drops the first category (Nairobi) to avoid dummy variable trap\n",
    "\n",
    "# --------------------------\n",
    "# 🖨️ Final Output\n",
    "# --------------------------\n",
    "print(\"\\nAfter Label and One-Hot Encoding:\")\n",
    "print(df_encoded)\n"
   ]
  }
 ],
 "metadata": {
  "kernelspec": {
   "display_name": "venv",
   "language": "python",
   "name": "python3"
  },
  "language_info": {
   "codemirror_mode": {
    "name": "ipython",
    "version": 3
   },
   "file_extension": ".py",
   "mimetype": "text/x-python",
   "name": "python",
   "nbconvert_exporter": "python",
   "pygments_lexer": "ipython3",
   "version": "3.12.9"
  }
 },
 "nbformat": 4,
 "nbformat_minor": 5
}
