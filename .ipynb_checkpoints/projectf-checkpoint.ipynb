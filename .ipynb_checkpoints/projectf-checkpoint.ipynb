{
 "cells": [
  {
   "cell_type": "code",
   "execution_count": 19,
   "id": "ea7aff97-7557-449e-8406-04283da559b1",
   "metadata": {},
   "outputs": [
    {
     "name": "stdout",
     "output_type": "stream",
     "text": [
      "✅ Raw dataset loaded\n"
     ]
    },
    {
     "data": {
      "text/plain": [
       "Index(['customer_id', 'age', 'gender', 'city', 'county', 'signup_date',\n",
       "       'last_purchase_date', 'tenure_months', 'monthly_charges',\n",
       "       'total_charges', 'plan_type', 'payment_method', 'contract',\n",
       "       'num_support_tickets', 'has_internet', 'data_usage_gb',\n",
       "       'is_senior_citizen', 'dependents', 'device_model', 'referrer',\n",
       "       'feedback_text', 'churn'],\n",
       "      dtype='object')"
      ]
     },
     "execution_count": 19,
     "metadata": {},
     "output_type": "execute_result"
    }
   ],
   "source": [
    "import pandas as pd\n",
    "import numpy as np\n",
    "\n",
    "# Load the raw dataset\n",
    "df = pd.read_csv(r\"C:\\Users\\OJ 001\\Downloads\\customer_subscriptions_dirty.csv\")  \n",
    "print(\"✅ Raw dataset loaded\")\n",
    "#print(df.head())\n",
    "df.columns\n"
   ]
  },
  {
   "cell_type": "code",
   "execution_count": 5,
   "id": "57e38519-9142-4ad0-a678-dd1d9607cc33",
   "metadata": {},
   "outputs": [],
   "source": [
    "#Dropping duplicates from the data\n",
    "df.drop_duplicates(inplace=True)\n"
   ]
  },
  {
   "cell_type": "code",
   "execution_count": 7,
   "id": "feb5bb79-9b9a-4e48-9c0f-cdd1395f3a61",
   "metadata": {},
   "outputs": [],
   "source": [
    "#Handling missing values\n",
    "\n",
    "# Categorical columns\n",
    "cat_cols = df.select_dtypes(include='object').columns\n",
    "df[cat_cols] = df[cat_cols].fillna('Unknown')\n",
    "\n",
    "# Numeric columns\n",
    "num_cols = df.select_dtypes(include='number').columns\n",
    "df[num_cols] = df[num_cols].fillna(df[num_cols].median())\n"
   ]
  },
  {
   "cell_type": "code",
   "execution_count": 30,
   "id": "0e571c51-f99f-433c-a436-ce2896d473fa",
   "metadata": {},
   "outputs": [],
   "source": [
    "#Fixing inconsistencies in the columns\n",
    "\n",
    "# Binary categories\n",
    "# Fix categorical inconsistencies\n",
    "\n",
    "# Gender\n",
    "df['gender'] = df['gender'].replace({\n",
    "    'M': 'Male', 'm': 'Male', 'male': 'Male',\n",
    "    'F': 'Female', 'f': 'Female', 'female': 'Female',\n",
    "    'Other': 'Unknown', 'y': 'yes', 'n': 'no'\n",
    "})\n",
    "\n",
    "# Has Internet\n",
    "df['has_internet'] = df['has_internet'].replace({\n",
    "    'TRUE': 'Yes', '1': 'Yes', '0': 'No', 'FALSE': 'No', 'Y': 'Yes', 'N': 'No'\n",
    "})\n",
    "\n",
    "# Dependents\n",
    "df['dependents'] = df['dependents'].replace({\n",
    "    'yes': 'Yes', 'no': 'No'\n",
    "})\n",
    "\n",
    "# Contract\n",
    "df['contract'] = df['contract'].str.lower().replace({\n",
    "    '2-yr': 'two year', '1-yr': 'one year'\n",
    "})\n",
    "\n",
    "# Payment method\n",
    "df['payment_method'] = df['payment_method'].replace({\n",
    "    'Mpesa': 'M-pesa'\n",
    "})\n",
    "\n",
    "# City\n",
    "df['city'] = df['city'].replace({\n",
    "    'Niarobi': 'Nairobi', 'Nrb': 'Nairobi'\n",
    "})\n",
    "\n",
    "# Fill remaining missing categorical values\n",
    "cat_cols = ['gender','has_internet','dependents','contract','payment_method','city','plan_type']\n",
    "df[cat_cols] = df[cat_cols].fillna('Unknown')\n"
   ]
  },
  {
   "cell_type": "code",
   "execution_count": 24,
   "id": "dc7f0efd-e6ee-4b24-8224-70f6b25ad45f",
   "metadata": {},
   "outputs": [],
   "source": [
    "#Ensurinng numeric columns are clean\n",
    "num_cols = ['age','tenure_months','monthly_charges','total_charges']\n",
    "\n",
    "for col in num_cols:\n",
    "    df[col] = df[col].astype(str).str.replace(',', '')   # remove commas\n",
    "    df[col] = pd.to_numeric(df[col], errors='coerce')    # convert to numeric\n",
    "df[num_cols] = df[num_cols].fillna(df[num_cols].median())\n"
   ]
  },
  {
   "cell_type": "code",
   "execution_count": 85,
   "id": "36995bc1-7a8b-47ce-8b3b-7de9930df010",
   "metadata": {},
   "outputs": [
    {
     "name": "stdout",
     "output_type": "stream",
     "text": [
      "  has_internet dependents\n",
      "0          0.0        0.0\n",
      "1          0.0        0.0\n",
      "2          0.0        0.0\n",
      "3          0.0        0.0\n",
      "4          0.0        0.0\n",
      "5          0.0        0.0\n",
      "6          0.0        0.0\n",
      "7          0.0        0.0\n",
      "8          0.0        0.0\n",
      "9          0.0        0.0\n"
     ]
    },
    {
     "ename": "AttributeError",
     "evalue": "'DataFrame' object has no attribute 'unique'",
     "output_type": "error",
     "traceback": [
      "\u001b[1;31m---------------------------------------------------------------------------\u001b[0m",
      "\u001b[1;31mAttributeError\u001b[0m                            Traceback (most recent call last)",
      "\u001b[1;32m~\\AppData\\Local\\Temp\\ipykernel_4168\\1406982663.py\u001b[0m in \u001b[0;36m?\u001b[1;34m()\u001b[0m\n\u001b[0;32m      8\u001b[0m     \u001b[1;33m}\u001b[0m\u001b[1;33m)\u001b[0m\u001b[1;33m\u001b[0m\u001b[1;33m\u001b[0m\u001b[0m\n\u001b[0;32m      9\u001b[0m \u001b[1;33m\u001b[0m\u001b[0m\n\u001b[0;32m     10\u001b[0m \u001b[1;31m# Check result\u001b[0m\u001b[1;33m\u001b[0m\u001b[1;33m\u001b[0m\u001b[0m\n\u001b[0;32m     11\u001b[0m \u001b[0mprint\u001b[0m\u001b[1;33m(\u001b[0m\u001b[0mdf\u001b[0m\u001b[1;33m[\u001b[0m\u001b[0mbinary_cols\u001b[0m\u001b[1;33m]\u001b[0m\u001b[1;33m.\u001b[0m\u001b[0mhead\u001b[0m\u001b[1;33m(\u001b[0m\u001b[1;36m10\u001b[0m\u001b[1;33m)\u001b[0m\u001b[1;33m)\u001b[0m\u001b[1;33m\u001b[0m\u001b[1;33m\u001b[0m\u001b[0m\n\u001b[1;32m---> 12\u001b[1;33m \u001b[0mprint\u001b[0m\u001b[1;33m(\u001b[0m\u001b[0mdf\u001b[0m\u001b[1;33m[\u001b[0m\u001b[0mbinary_cols\u001b[0m\u001b[1;33m]\u001b[0m\u001b[1;33m.\u001b[0m\u001b[0munique\u001b[0m\u001b[1;33m(\u001b[0m\u001b[1;33m)\u001b[0m\u001b[1;33m)\u001b[0m\u001b[1;33m\u001b[0m\u001b[1;33m\u001b[0m\u001b[0m\n\u001b[0m",
      "\u001b[1;32m~\\anaconda3\\Lib\\site-packages\\pandas\\core\\generic.py\u001b[0m in \u001b[0;36m?\u001b[1;34m(self, name)\u001b[0m\n\u001b[0;32m   6295\u001b[0m             \u001b[1;32mand\u001b[0m \u001b[0mname\u001b[0m \u001b[1;32mnot\u001b[0m \u001b[1;32min\u001b[0m \u001b[0mself\u001b[0m\u001b[1;33m.\u001b[0m\u001b[0m_accessors\u001b[0m\u001b[1;33m\u001b[0m\u001b[1;33m\u001b[0m\u001b[0m\n\u001b[0;32m   6296\u001b[0m             \u001b[1;32mand\u001b[0m \u001b[0mself\u001b[0m\u001b[1;33m.\u001b[0m\u001b[0m_info_axis\u001b[0m\u001b[1;33m.\u001b[0m\u001b[0m_can_hold_identifiers_and_holds_name\u001b[0m\u001b[1;33m(\u001b[0m\u001b[0mname\u001b[0m\u001b[1;33m)\u001b[0m\u001b[1;33m\u001b[0m\u001b[1;33m\u001b[0m\u001b[0m\n\u001b[0;32m   6297\u001b[0m         \u001b[1;33m)\u001b[0m\u001b[1;33m:\u001b[0m\u001b[1;33m\u001b[0m\u001b[1;33m\u001b[0m\u001b[0m\n\u001b[0;32m   6298\u001b[0m             \u001b[1;32mreturn\u001b[0m \u001b[0mself\u001b[0m\u001b[1;33m[\u001b[0m\u001b[0mname\u001b[0m\u001b[1;33m]\u001b[0m\u001b[1;33m\u001b[0m\u001b[1;33m\u001b[0m\u001b[0m\n\u001b[1;32m-> 6299\u001b[1;33m         \u001b[1;32mreturn\u001b[0m \u001b[0mobject\u001b[0m\u001b[1;33m.\u001b[0m\u001b[0m__getattribute__\u001b[0m\u001b[1;33m(\u001b[0m\u001b[0mself\u001b[0m\u001b[1;33m,\u001b[0m \u001b[0mname\u001b[0m\u001b[1;33m)\u001b[0m\u001b[1;33m\u001b[0m\u001b[1;33m\u001b[0m\u001b[0m\n\u001b[0m",
      "\u001b[1;31mAttributeError\u001b[0m: 'DataFrame' object has no attribute 'unique'"
     ]
    }
   ],
   "source": [
    "# Binary columns\n",
    "binary_cols = ['has_internet','dependents']\n",
    "\n",
    "for col in binary_cols:\n",
    "    df[col] = df[col].astype(str).str.strip().str.lower()  # normalize\n",
    "    df[col] = df[col].replace({\n",
    "        'yes': 1, 'no': 0, 'true': 1, 'false': 0, 'y': 1, 'n': 0, '1': 1, '0': 0\n",
    "    })\n",
    "\n",
    "# Check result\n",
    "print(df[binary_cols].head(10))\n",
    "print(df[binary_cols].unique())\n"
   ]
  },
  {
   "cell_type": "code",
   "execution_count": null,
   "id": "035f7277-0a51-46c3-86e7-c702f3d8b375",
   "metadata": {},
   "outputs": [],
   "source": []
  },
  {
   "cell_type": "code",
   "execution_count": null,
   "id": "836c573d-80a1-4ee4-ba73-206805316e34",
   "metadata": {},
   "outputs": [],
   "source": []
  }
 ],
 "metadata": {
  "kernelspec": {
   "display_name": "Python [conda env:base] *",
   "language": "python",
   "name": "conda-base-py"
  },
  "language_info": {
   "codemirror_mode": {
    "name": "ipython",
    "version": 3
   },
   "file_extension": ".py",
   "mimetype": "text/x-python",
   "name": "python",
   "nbconvert_exporter": "python",
   "pygments_lexer": "ipython3",
   "version": "3.12.7"
  }
 },
 "nbformat": 4,
 "nbformat_minor": 5
}
