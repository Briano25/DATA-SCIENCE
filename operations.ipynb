{
 "cells": [
  {
   "cell_type": "code",
   "execution_count": 1,
   "id": "90da28ae-d85d-44f5-8543-fa5b11b0fdee",
   "metadata": {},
   "outputs": [
    {
     "name": "stdout",
     "output_type": "stream",
     "text": [
      "<module 'numpy' from 'C:\\\\Users\\\\OJ 001\\\\anaconda3\\\\Lib\\\\site-packages\\\\numpy\\\\__init__.py'>\n"
     ]
    }
   ],
   "source": [
    "import numpy as np \n",
    "print(np)"
   ]
  },
  {
   "cell_type": "code",
   "execution_count": null,
   "id": "410b0e30-eaac-4e77-9abb-a9d4ee7beb69",
   "metadata": {},
   "outputs": [
    {
     "name": "stdout",
     "output_type": "stream",
     "text": [
      "<module 'pandas' from 'C:\\\\Users\\\\OJ 001\\\\anaconda3\\\\Lib\\\\site-packages\\\\pandas\\\\__init__.py'>\n"
     ]
    }
   ],
   "source": [
    "import pandas as pd\n",
    "print(pd)"
   ]
  },
  {
   "cell_type": "code",
   "execution_count": null,
   "id": "aef2f378-b01d-4a1c-bf13-b0e15aa34a8c",
   "metadata": {},
   "outputs": [
    {
     "name": "stdout",
     "output_type": "stream",
     "text": [
      "[[3 3 4 5]\n",
      " [3 4 5 6]\n",
      " [4 5 6 7]\n",
      " [5 6 7 8]]\n",
      "6\n"
     ]
    }
   ],
   "source": [
    "import numpy as np \n",
    "\n",
    "n=np.array([[3,4,4,5],[3,4,5,6],[4,5,6,7],[5,6,7,8]])\n",
    "print(n)\n",
    "print(n[1,3])"
   ]
  },
  {
   "cell_type": "code",
   "execution_count": 51,
   "id": "b795440d-7c03-4dc8-b8c3-3670b5e25eef",
   "metadata": {},
   "outputs": [
    {
     "name": "stdout",
     "output_type": "stream",
     "text": [
      "[[[9 9 9 9]\n",
      "  [9 9 9 9]\n",
      "  [9 9 9 9]\n",
      "  [9 9 9 9]]\n",
      "\n",
      " [[9 9 9 9]\n",
      "  [9 9 9 9]\n",
      "  [9 9 9 9]\n",
      "  [9 9 9 9]]\n",
      "\n",
      " [[9 9 9 9]\n",
      "  [9 9 9 9]\n",
      "  [9 9 9 9]\n",
      "  [9 9 9 9]]\n",
      "\n",
      " [[9 9 9 9]\n",
      "  [9 9 9 9]\n",
      "  [9 9 9 9]\n",
      "  [9 9 9 9]]]\n",
      "9\n",
      "[[[9 9 9 9]\n",
      "  [9 9 9 9]\n",
      "  [9 9 5 9]\n",
      "  [9 9 9 9]]\n",
      "\n",
      " [[9 9 9 9]\n",
      "  [9 9 9 9]\n",
      "  [9 9 5 9]\n",
      "  [9 9 9 9]]\n",
      "\n",
      " [[9 9 9 9]\n",
      "  [9 9 9 9]\n",
      "  [9 9 5 9]\n",
      "  [9 9 9 9]]\n",
      "\n",
      " [[9 9 9 9]\n",
      "  [9 9 9 9]\n",
      "  [9 9 5 9]\n",
      "  [9 9 9 9]]]\n"
     ]
    }
   ],
   "source": [
    "import numpy as np \n",
    "a=np.full((4,4,4),9)\n",
    "print(a)\n",
    "print(a[0, 1, 2])\n",
    "a[:, 2,2] = 5 \n",
    "print(a)"
   ]
  },
  {
   "cell_type": "code",
   "execution_count": 59,
   "id": "856801ef-ada9-4700-895c-5542e89da355",
   "metadata": {},
   "outputs": [
    {
     "name": "stdout",
     "output_type": "stream",
     "text": [
      "[[[0. 0. 0. 0. 0.]\n",
      "  [0. 0. 0. 0. 0.]\n",
      "  [0. 0. 0. 0. 0.]\n",
      "  [0. 0. 0. 0. 0.]]\n",
      "\n",
      " [[0. 0. 0. 0. 0.]\n",
      "  [0. 0. 0. 0. 0.]\n",
      "  [0. 0. 0. 0. 0.]\n",
      "  [0. 0. 0. 0. 0.]]\n",
      "\n",
      " [[0. 0. 0. 0. 0.]\n",
      "  [0. 0. 0. 0. 0.]\n",
      "  [0. 0. 0. 0. 0.]\n",
      "  [0. 0. 0. 0. 0.]]\n",
      "\n",
      " [[0. 0. 0. 0. 0.]\n",
      "  [0. 0. 0. 0. 0.]\n",
      "  [0. 0. 0. 0. 0.]\n",
      "  [0. 0. 0. 0. 0.]]\n",
      "\n",
      " [[0. 0. 0. 0. 0.]\n",
      "  [0. 0. 0. 0. 0.]\n",
      "  [0. 0. 0. 0. 0.]\n",
      "  [0. 0. 0. 0. 0.]]]\n"
     ]
    }
   ],
   "source": [
    "import numpy as np\n",
    "m=np.zeros((5,4,5))\n",
    "\n",
    "print(m)"
   ]
  },
  {
   "cell_type": "code",
   "execution_count": 69,
   "id": "e40d4996-28a4-4815-8730-6c5030ae5b81",
   "metadata": {},
   "outputs": [
    {
     "name": "stdout",
     "output_type": "stream",
     "text": [
      "[[[5 9 9 9]\n",
      "  [9 5 9 9]\n",
      "  [5 9 9 5]]\n",
      "\n",
      " [[5 5 9 9]\n",
      "  [5 9 5 5]\n",
      "  [9 5 9 9]]\n",
      "\n",
      " [[5 5 9 9]\n",
      "  [9 5 9 9]\n",
      "  [9 9 9 5]]]\n"
     ]
    }
   ],
   "source": [
    "import numpy as np\n",
    "a = np.where(np.random.rand(3, 3, 4) > 0.5, 9, 5)\n",
    "print(a)"
   ]
  },
  {
   "cell_type": "code",
   "execution_count": null,
   "id": "3b71eef0-7243-4dc8-b977-ec5c16a433a6",
   "metadata": {},
   "outputs": [],
   "source": []
  },
  {
   "cell_type": "code",
   "execution_count": 82,
   "id": "c5653796-a1c7-4458-a285-c7b57f21dcac",
   "metadata": {},
   "outputs": [
    {
     "name": "stdout",
     "output_type": "stream",
     "text": [
      "[   0   10   20   30   40   50   60   70   80   90  100  110  120  130\n",
      "  140  150  160  170  180  190  200  210  220  230  240  250  260  270\n",
      "  280  290  300  310  320  330  340  350  360  370  380  390  400  410\n",
      "  420  430  440  450  460  470  480  490  500  510  520  530  540  550\n",
      "  560  570  580  590  600  610  620  630  640  650  660  670  680  690\n",
      "  700  710  720  730  740  750  760  770  780  790  800  810  820  830\n",
      "  840  850  860  870  880  890  900  910  920  930  940  950  960  970\n",
      "  980  990 1000]\n"
     ]
    }
   ],
   "source": [
    "b=np.arange(0,1009,10)\n",
    "print(b)"
   ]
  },
  {
   "cell_type": "code",
   "execution_count": 84,
   "id": "cc1463f7-1e02-424f-aed4-5ade94566b5d",
   "metadata": {},
   "outputs": [
    {
     "name": "stdout",
     "output_type": "stream",
     "text": [
      "[[1 2 3]\n",
      " [4 5 6]]\n",
      "[[0. 0. 0.]\n",
      " [0. 0. 0.]]\n",
      "[[1. 1. 1.]\n",
      " [1. 1. 1.]]\n",
      "[[9 9 9]\n",
      " [9 9 9]]\n"
     ]
    }
   ],
   "source": [
    "import numpy as np\n",
    "\n",
    "a = np.array([[1, 2, 3], [4, 5, 6]])  # Create an array\n",
    "b = np.zeros((2, 3))  # Create a 2x3 array filled with zeros\n",
    "c = np.ones((2, 3))   # Create a 2x3 array filled with ones\n",
    "d = np.full((2, 3), 9) # Create a 2x3 array filled with 9\n",
    "\n",
    "print(a)\n",
    "print(b)\n",
    "print(c)\n",
    "print(d)\n"
   ]
  },
  {
   "cell_type": "code",
   "execution_count": 86,
   "id": "56a7d228-46eb-47a6-930c-bb776beaa8bf",
   "metadata": {},
   "outputs": [
    {
     "name": "stdout",
     "output_type": "stream",
     "text": [
      "(2, 3)\n",
      "6\n",
      "2\n"
     ]
    }
   ],
   "source": [
    "import numpy as np\n",
    "\n",
    "a = np.array([[1, 2, 3], [4, 5, 6]])\n",
    "\n",
    "print(a.shape)  # (2, 3) → 2 rows, 3 columns\n",
    "print(a.size)   # 6 → Total number of elements\n",
    "print(a.ndim)   # 2 → Number of dimensions\n"
   ]
  },
  {
   "cell_type": "code",
   "execution_count": 88,
   "id": "f5c4b659-251f-48c0-877c-77c1f151a753",
   "metadata": {},
   "outputs": [
    {
     "name": "stdout",
     "output_type": "stream",
     "text": [
      "[[1 2]\n",
      " [3 4]\n",
      " [5 6]]\n",
      "[1 2 3 4 5 6]\n"
     ]
    }
   ],
   "source": [
    "import numpy as np\n",
    "\n",
    "a = np.array([[1, 2, 3], [4, 5, 6]])\n",
    "b = a.reshape(3, 2)  # Reshape to 3 rows, 2 columns\n",
    "c = a.ravel()        # Flatten the array into 1D\n",
    "\n",
    "print(b)\n",
    "print(c)\n"
   ]
  },
  {
   "cell_type": "code",
   "execution_count": 90,
   "id": "54b7d6d8-4e93-47cf-a5b5-9185f29a4a3c",
   "metadata": {},
   "outputs": [
    {
     "name": "stdout",
     "output_type": "stream",
     "text": [
      "21\n",
      "3.5\n",
      "1\n",
      "6\n",
      "[[11 12 13]\n",
      " [14 15 16]]\n"
     ]
    }
   ],
   "source": [
    "import numpy as np\n",
    "\n",
    "a = np.array([[1, 2, 3], [4, 5, 6]])\n",
    "\n",
    "print(np.sum(a))     # 21 (Sum of all elements)\n",
    "print(np.mean(a))    # 3.5 (Mean/Average)\n",
    "print(np.min(a))     # 1 (Minimum value)\n",
    "print(np.max(a))     # 6 (Maximum value)\n",
    "print(np.add(a, 10)) # Add 10 to each element\n"
   ]
  },
  {
   "cell_type": "code",
   "execution_count": 92,
   "id": "654cecce-cacf-479c-b095-549e329d4edb",
   "metadata": {},
   "outputs": [
    {
     "name": "stdout",
     "output_type": "stream",
     "text": [
      "[5 7 9]\n",
      "[ 6 15]\n"
     ]
    }
   ],
   "source": [
    "import numpy as np\n",
    "\n",
    "a = np.array([[1, 2, 3], [4, 5, 6]])\n",
    "\n",
    "print(np.sum(a, axis=0))  # Sum along columns → [5, 7, 9]\n",
    "print(np.sum(a, axis=1))  # Sum along rows → [6, 15]\n"
   ]
  },
  {
   "cell_type": "code",
   "execution_count": 94,
   "id": "1f8ab29d-0f18-450a-818a-7f291d5e1267",
   "metadata": {},
   "outputs": [
    {
     "name": "stdout",
     "output_type": "stream",
     "text": [
      "[8 9 6]\n",
      "[2 1 4]\n"
     ]
    }
   ],
   "source": [
    "import numpy as np\n",
    "\n",
    "a = np.array([[3, 7, 2], \n",
    "              [8, 5, 1], \n",
    "              [4, 9, 6]])\n",
    "\n",
    "# Maximum values along columns\n",
    "print(np.max(a, axis=0))  # [8 9 6]\n",
    "\n",
    "# Minimum values along rows\n",
    "print(np.min(a, axis=1))  # [2 1 4]\n"
   ]
  },
  {
   "cell_type": "code",
   "execution_count": 96,
   "id": "323c1c17-30cc-47f0-88c5-4606baab7634",
   "metadata": {},
   "outputs": [
    {
     "data": {
      "image/png": "[encoded data removed]",
      "text/plain": [
       "<Figure size 1000x400 with 2 Axes>"
      ]
     },
     "metadata": {},
     "output_type": "display_data"
    }
   ],
   "source": [
    "import numpy as np\n",
    "import matplotlib.pyplot as plt\n",
    "\n",
    "# Define a sample 3x3 array\n",
    "a = np.array([[1, 2, 3], \n",
    "              [4, 5, 6], \n",
    "              [7, 8, 9]])\n",
    "\n",
    "# Compute sums along axis 0 and axis 1\n",
    "sum_axis0 = np.sum(a, axis=0)  # Sum down columns\n",
    "sum_axis1 = np.sum(a, axis=1)  # Sum across rows\n",
    "\n",
    "# Create figure and subplots\n",
    "fig, axes = plt.subplots(1, 2, figsize=(10, 4))\n",
    "\n",
    "# Plot for axis=0 (Column-wise sum)\n",
    "for i in range(a.shape[1]):  # Iterate over columns\n",
    "    axes[0].bar(i, sum_axis0[i], color=\"skyblue\", label=f\"Col {i+1}\" if i == 0 else \"\")\n",
    "\n",
    "axes[0].set_title(\"Summing Along axis=0 (↓ Down Columns)\")\n",
    "axes[0].set_xticks(range(a.shape[1]))\n",
    "axes[0].set_xticklabels([f\"Col {i+1}\" for i in range(a.shape[1])])\n",
    "axes[0].set_ylabel(\"Sum\")\n",
    "axes[0].legend()\n",
    "\n",
    "# Plot for axis=1 (Row-wise sum)\n",
    "for i in range(a.shape[0]):  # Iterate over rows\n",
    "    axes[1].bar(i, sum_axis1[i], color=\"lightcoral\", label=f\"Row {i+1}\" if i == 0 else \"\")\n",
    "\n",
    "axes[1].set_title(\"Summing Along axis=1 (→ Across Rows)\")\n",
    "axes[1].set_xticks(range(a.shape[0]))\n",
    "axes[1].set_xticklabels([f\"Row {i+1}\" for i in range(a.shape[0])])\n",
    "axes[1].set_ylabel(\"Sum\")\n",
    "axes[1].legend()\n",
    "\n",
    "# Show the plots\n",
    "plt.show()\n"
   ]
  },
  {
   "cell_type": "code",
   "execution_count": 29,
   "id": "f259c520-731e-4106-b026-1fcdf44f455b",
   "metadata": {},
   "outputs": [
    {
     "name": "stdout",
     "output_type": "stream",
     "text": [
      "[1 2 3 7 8 9]\n",
      "[1 2 3 4 5 6 7 8 9]\n"
     ]
    }
   ],
   "source": [
    "import numpy as np\n",
    "n=np.array([1,2,3])\n",
    "n=np.append(n,[7,8,9])\n",
    "print(n)\n",
    "n=np.insert(n ,3,[4,5,6])\n",
    "print(n)"
   ]
  },
  {
   "cell_type": "code",
   "execution_count": null,
   "id": "d720e0cb-1011-463c-bd10-208657571c3b",
   "metadata": {},
   "outputs": [],
   "source": []
  }
 ],
 "metadata": {
  "kernelspec": {
   "display_name": "Python [conda env:base] *",
   "language": "python",
   "name": "conda-base-py"
  },
  "language_info": {
   "codemirror_mode": {
    "name": "ipython",
    "version": 3
   },
   "file_extension": ".py",
   "mimetype": "text/x-python",
   "name": "python",
   "nbconvert_exporter": "python",
   "pygments_lexer": "ipython3",
   "version": "3.12.7"
  }
 },
 "nbformat": 4,
 "nbformat_minor": 5
}
