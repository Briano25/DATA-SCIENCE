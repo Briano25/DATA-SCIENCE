{
 "cells": [
  {
   "cell_type": "code",
   "execution_count": 1,
   "id": "ba329053-47f0-495a-aee1-44931e93d03e",
   "metadata": {},
   "outputs": [],
   "source": [
    "import pandas as pd\n",
    "import numpy as np\n",
    "import matplotlib.pyplot as plt"
   ]
  },
  {
   "cell_type": "code",
   "execution_count": 157,
   "id": "75f1c958-2c26-4a04-aea3-87f247e6acb4",
   "metadata": {},
   "outputs": [],
   "source": [
    "df=pd.read_excel(r\"C:\\Users\\OJ 001\\Desktop\\DataScience\\Data Cleaning Start4.xlsx\",sheet_name=1)\n"
   ]
  },
  {
   "cell_type": "code",
   "execution_count": 159,
   "id": "fdda33a8-8880-4f6e-a984-fedbae1f752a",
   "metadata": {},
   "outputs": [
    {
     "data": {
      "text/plain": [
       "Index(['Date', 'Client', 'Contact ', 'Department', 'Region', 'Payment',\n",
       "       'Revenue', 'Profit', 'Profit Margin'],\n",
       "      dtype='object')"
      ]
     },
     "execution_count": 159,
     "metadata": {},
     "output_type": "execute_result"
    }
   ],
   "source": [
    "df.columns"
   ]
  },
  {
   "cell_type": "code",
   "execution_count": 161,
   "id": "f1dc5784-5bee-4f0c-82e9-e9ab84be72cd",
   "metadata": {},
   "outputs": [],
   "source": [
    "#df.columns = ['Index','Date', 'Client','Contact','Department','Payment' ,'Revenue','Profit','Profit Margin']"
   ]
  },
  {
   "cell_type": "code",
   "execution_count": 163,
   "id": "b898fbf2-3941-4d0c-864e-da371d48883d",
   "metadata": {},
   "outputs": [
    {
     "name": "stdout",
     "output_type": "stream",
     "text": [
      "        Date                          Client         Contact   Department  \\\n",
      "0 2023-05-30               AMAZON.COM, INC.        Bill Smith  Cloud Tech   \n",
      "1 2023-05-30                    TESLA, INC.         Ken Singh    Strategy   \n",
      "2 2023-05-30                  NETFLIX, INC.      Harley Fritz    Strategy   \n",
      "3 2023-05-30   THE PROCTER & GAMBLE COMPANY        Nyla Novak  Operations   \n",
      "4 2023-05-30  THE GOLDMAN SACHS GROUP, INC.   David Rasmussen  Operations   \n",
      "5 2023-05-31           JPMORGAN CHASE & CO.        Ivan Hiney  Cloud Tech   \n",
      "6 2023-05-31                 MORGAN STANLEY          Jonha Ma  Cloud Tech   \n",
      "7 2023-05-31                 CITIGROUP INC.      Jordan Boone  Cloud Tech   \n",
      "8 2023-05-31    BANK OF AMERICA CORPORATION    Kylee Townsend  Cloud Tech   \n",
      "9 2023-05-31                   WALMART INC.      Nora Rollins  Cloud Tech   \n",
      "\n",
      "     Region   Payment  Revenue  Profit  Profit Margin  \n",
      "0     Texas  Transfer   4500.0     598       0.132889  \n",
      "1  New York    PayPal   3800.0    1045       0.275000  \n",
      "2  New York       NaN   3712.5    1009       0.271785  \n",
      "3   Florida       NaN      NaN     779            NaN  \n",
      "4   Florida     Check   5000.0     684       0.136800  \n",
      "5     Texas  Transfer   6100.0     544       0.089180  \n",
      "6     Texas  Transfer   4625.0     670       0.144865  \n",
      "7     Texas  Transfer   3800.0    2045       0.538158  \n",
      "8     Texas      Card   3600.0    1564       0.434444  \n",
      "9     Texas     Check   5100.0    1220       0.239216  \n"
     ]
    }
   ],
   "source": [
    "print(df.head(10))"
   ]
  },
  {
   "cell_type": "code",
   "execution_count": 149,
   "id": "a1016471-39f4-47dc-b917-eb5f54c5578c",
   "metadata": {},
   "outputs": [],
   "source": [
    "df['Contact'] = df['Contact'].str.strip().str.title()"
   ]
  },
  {
   "cell_type": "code",
   "execution_count": 137,
   "id": "d401eb3d-de8c-42fd-987c-ad7662769d15",
   "metadata": {},
   "outputs": [],
   "source": [
    "#df['Contact'].head()"
   ]
  },
  {
   "cell_type": "code",
   "execution_count": 25,
   "id": "37e4982b-1c22-431b-8a36-d50f29989bce",
   "metadata": {},
   "outputs": [],
   "source": [
    "df=df.drop_duplicates()"
   ]
  },
  {
   "cell_type": "code",
   "execution_count": 34,
   "id": "e6eec144-da99-4c08-b5c8-ffb596e834bd",
   "metadata": {},
   "outputs": [],
   "source": [
    "#df['Age'] = pd.to_numeric(df['Age'], errors='coerce')  # Convert to numeric\n",
    "#df['Date'] = pd.to_datetime(df['Date'], errors='coerce')  # Convert to datetime\n",
    "#print(df)"
   ]
  },
  {
   "cell_type": "code",
   "execution_count": 36,
   "id": "0025125b-c97a-4149-9f22-3acc86f9d33e",
   "metadata": {},
   "outputs": [
    {
     "name": "stdout",
     "output_type": "stream",
     "text": [
      "Index            29\n",
      "Date              1\n",
      "Client            0\n",
      "Contact           0\n",
      "Department        0\n",
      "Payment           2\n",
      "Revenue           2\n",
      "Profit            0\n",
      "Profit Margin     2\n",
      "dtype: int64\n"
     ]
    }
   ],
   "source": [
    "print(df.isnull().sum())"
   ]
  },
  {
   "cell_type": "code",
   "execution_count": 192,
   "id": "f8ec90f7-e814-4b33-bf29-d3688c306a02",
   "metadata": {},
   "outputs": [],
   "source": [
    "#df.loc[:, ['Profit', 'Revenue']] = df[['Profit', 'Revenue']].fillna(0)\n",
    "df['Revenue'] = df['Revenue'].fillna(0)\n",
    "df['Profit'] = df['Profit'].fillna(0)\n",
    "\n",
    "\n",
    "# Remove extra spaces in column names just in case\n",
    "df.columns = df.columns.str.strip()\n",
    "\n",
    "# Replace bad/missing values with proper NaN\n",
    "df['Profit Margin'] = df['Profit Margin'].replace(['', 'NaN', 'nan', 'NAN'], np.nan)\n",
    "\n",
    "# Fill missing values with 'N/A'\n",
    "df['Profit Margin'] = df['Profit Margin'].fillna('N/A')\n",
    "\n",
    "\n",
    "#print(df)"
   ]
  },
  {
   "cell_type": "code",
   "execution_count": 194,
   "id": "f615ce14-d736-4e88-b2f9-3939ad2158fe",
   "metadata": {},
   "outputs": [],
   "source": [
    "#df.loc[:,['Profit Margin','Revenue','Profit']] = df['Profit Margin','Revenue','Profit'].fillna(0)\n",
    "df.loc[:,['Payment']] = df['Payment'].fillna('N/A')\n",
    "\n"
   ]
  },
  {
   "cell_type": "code",
   "execution_count": 213,
   "id": "d1ff2f5f-2037-46ae-ae30-f6a370bc59ed",
   "metadata": {},
   "outputs": [],
   "source": [
    "df.to_excel('Data Cleaning(with pandas) Start1.xlsx', index=False)\n"
   ]
  },
  {
   "cell_type": "code",
   "execution_count": null,
   "id": "580ba31e-8f7d-48e4-819a-b6a92b1f29e5",
   "metadata": {},
   "outputs": [],
   "source": [
    "\n"
   ]
  },
  {
   "cell_type": "code",
   "execution_count": 1,
   "id": "a9af485e-88c5-4027-b04d-cded1c421df0",
   "metadata": {},
   "outputs": [
    {
     "ename": "NameError",
     "evalue": "name 'df' is not defined",
     "output_type": "error",
     "traceback": [
      "\u001b[1;31m---------------------------------------------------------------------------\u001b[0m",
      "\u001b[1;31mNameError\u001b[0m                                 Traceback (most recent call last)",
      "Cell \u001b[1;32mIn[1], line 5\u001b[0m\n\u001b[0;32m      3\u001b[0m \u001b[38;5;66;03m# Assuming your DataFrame is called df and has 'Sales Person' and 'Revenue' columns\u001b[39;00m\n\u001b[0;32m      4\u001b[0m plt\u001b[38;5;241m.\u001b[39mfigure(figsize\u001b[38;5;241m=\u001b[39m(\u001b[38;5;241m8\u001b[39m, \u001b[38;5;241m5\u001b[39m))  \u001b[38;5;66;03m# Set the width and height of the figure in inches\u001b[39;00m\n\u001b[1;32m----> 5\u001b[0m plt\u001b[38;5;241m.\u001b[39mbar(df[\u001b[38;5;124m'\u001b[39m\u001b[38;5;124mDepartment\u001b[39m\u001b[38;5;124m'\u001b[39m], df[\u001b[38;5;124m'\u001b[39m\u001b[38;5;124mRevenue\u001b[39m\u001b[38;5;124m'\u001b[39m], color\u001b[38;5;241m=\u001b[39m\u001b[38;5;124m'\u001b[39m\u001b[38;5;124mskyblue\u001b[39m\u001b[38;5;124m'\u001b[39m)  \u001b[38;5;66;03m# Create the bar chart\u001b[39;00m\n\u001b[0;32m      7\u001b[0m \u001b[38;5;66;03m# Add labels and title\u001b[39;00m\n\u001b[0;32m      8\u001b[0m plt\u001b[38;5;241m.\u001b[39mxlabel(\u001b[38;5;124m'\u001b[39m\u001b[38;5;124mDepartment\u001b[39m\u001b[38;5;124m'\u001b[39m)\n",
      "\u001b[1;31mNameError\u001b[0m: name 'df' is not defined"
     ]
    },
    {
     "data": {
      "text/plain": [
       "<Figure size 800x500 with 0 Axes>"
      ]
     },
     "metadata": {},
     "output_type": "display_data"
    }
   ],
   "source": [
    "import matplotlib.pyplot as plt\n",
    "\n",
    "# Assuming your DataFrame is called df and has 'Sales Person' and 'Revenue' columns\n",
    "plt.figure(figsize=(8, 5))  # Set the width and height of the figure in inches\n",
    "plt.bar(df['Department'], df['Revenue'], color='skyblue')  # Create the bar chart\n",
    "\n",
    "# Add labels and title\n",
    "plt.xlabel('Department')\n",
    "plt.ylabel('Revenue')\n",
    "plt.title('Revenue by Department')\n",
    "\n",
    "# Optional: rotate x-axis labels for better readability\n",
    "plt.xticks(rotation=45)\n",
    "\n",
    "plt.tight_layout()  # Adjust layout to prevent overlap\n",
    "plt.show()\n"
   ]
  },
  {
   "cell_type": "code",
   "execution_count": null,
   "id": "e37682a3-2896-493d-9e64-bbfc323926ad",
   "metadata": {},
   "outputs": [],
   "source": []
  }
 ],
 "metadata": {
  "kernelspec": {
   "display_name": "Python [conda env:base] *",
   "language": "python",
   "name": "conda-base-py"
  },
  "language_info": {
   "codemirror_mode": {
    "name": "ipython",
    "version": 3
   },
   "file_extension": ".py",
   "mimetype": "text/x-python",
   "name": "python",
   "nbconvert_exporter": "python",
   "pygments_lexer": "ipython3",
   "version": "3.12.7"
  }
 },
 "nbformat": 4,
 "nbformat_minor": 5
}
