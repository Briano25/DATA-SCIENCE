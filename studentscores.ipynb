{
 "cells": [
  {
   "cell_type": "code",
   "execution_count": null,
   "id": "d3734ce5-f584-49df-a72c-ed4ba31edacf",
   "metadata": {},
   "outputs": [],
   "source": []
  },
  {
   "cell_type": "code",
   "execution_count": null,
   "id": "acc356ca-103d-4e24-927e-6242ad620d7c",
   "metadata": {},
   "outputs": [],
   "source": []
  },
  {
   "cell_type": "code",
   "execution_count": 7,
   "id": "0a71e3a2-219e-4f54-aabc-320c70a05b49",
   "metadata": {},
   "outputs": [
    {
     "name": "stdout",
     "output_type": "stream",
     "text": [
      "Math Column: [97. 55. 62. 52. 74. 66. 66. 87. 50. 84.]\n",
      "\n",
      "Mean Math: 69.3\n",
      "Median Math: 66.0\n",
      "Standard Deviation of Math: 15.066851031320379\n",
      "Minimum Math: 50.0\n",
      "Maximum Math: 97.0\n"
     ]
    }
   ],
   "source": [
    "import numpy as np\n",
    "\n",
    "# Load the data from the CSV file. Make sure the path is correct.\n",
    "data = np.genfromtxt(r\"C:\\Users\\OJ 001\\Downloads\\students_scores.csv\", delimiter=',', skip_header=1, dtype=float)\n",
    "\n",
    "# Extract the temperature column (assuming it's the second column, index 1)\n",
    "math_column = data[:, 1]\n",
    "\n",
    "# Print the extracted temperature column\n",
    "print(\"Math Column:\", math_column)\n",
    "\n",
    "# Calculating statistics\n",
    "mean_Math = np.mean(math_column)\n",
    "median_Math = np.median(math_column)\n",
    "std_Math = np.std(math_column)\n",
    "min_Math = np.min(math_column)\n",
    "max_Math = np.max(math_column)\n",
    "\n",
    "# Printing the results\n",
    "print(\"\\nMean Math:\", mean_Math)\n",
    "print(\"Median Math:\", median_Math)\n",
    "print(\"Standard Deviation of Math:\", std_Math)\n",
    "print(\"Minimum Math:\", min_Math)\n",
    "print(\"Maximum Math:\", max_Math)"
   ]
  },
  {
   "cell_type": "code",
   "execution_count": null,
   "id": "393864d1-09fd-49b1-b5c6-fb98171f1d84",
   "metadata": {},
   "outputs": [],
   "source": []
  }
 ],
 "metadata": {
  "kernelspec": {
   "display_name": "Python [conda env:base] *",
   "language": "python",
   "name": "conda-base-py"
  },
  "language_info": {
   "codemirror_mode": {
    "name": "ipython",
    "version": 3
   },
   "file_extension": ".py",
   "mimetype": "text/x-python",
   "name": "python",
   "nbconvert_exporter": "python",
   "pygments_lexer": "ipython3",
   "version": "3.12.7"
  }
 },
 "nbformat": 4,
 "nbformat_minor": 5
}
