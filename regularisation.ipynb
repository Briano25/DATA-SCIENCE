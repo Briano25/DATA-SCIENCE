{
 "cells": [
  {
   "cell_type": "code",
   "execution_count": 1,
   "id": "07ffc3ec",
   "metadata": {},
   "outputs": [
    {
     "name": "stdout",
     "output_type": "stream",
     "text": [
      "\n",
      "--- Model Performance ---\n",
      "Linear Regression MSE: 56250000.0\n",
      "Ridge Regression MSE : 12747747.924576089\n",
      "Lasso Regression MSE : 56118588.90130388\n"
     ]
    }
   ],
   "source": [
    "import pandas as pd\n",
    "from sklearn.preprocessing import LabelEncoder\n",
    "from sklearn.model_selection import train_test_split\n",
    "from sklearn.linear_model import LinearRegression, Ridge, Lasso\n",
    "from sklearn.metrics import mean_squared_error\n",
    "\n",
    "# ---------------------------------------------\n",
    "# 🧪 Step 1: Create sample data\n",
    "# ---------------------------------------------\n",
    "df = pd.DataFrame({\n",
    "    'Gender': ['Male', 'Female', 'Female', 'Male', 'Female'],\n",
    "    'City': ['Nairobi', 'Kisumu', 'Mombasa', 'Nairobi', 'Kisumu'],\n",
    "    'Age': [25, 30, 28, 45, 35],\n",
    "    'Salary': [50000, 60000, 58000, 80000, 75000]\n",
    "})\n",
    "\n",
    "# ---------------------------------------------\n",
    "# 🔠 Step 2: Label Encoding for Gender\n",
    "# ---------------------------------------------\n",
    "le = LabelEncoder()\n",
    "df['Gender_encoded'] = le.fit_transform(df['Gender'])  # Male=1, Female=0\n",
    "\n",
    "# ---------------------------------------------\n",
    "# 🟦 Step 3: One-Hot Encoding for City\n",
    "# ---------------------------------------------\n",
    "df = pd.get_dummies(df, columns=['City'], drop_first=True)\n",
    "\n",
    "# ---------------------------------------------\n",
    "# 🎯 Step 4: Define features and target\n",
    "# ---------------------------------------------\n",
    "X = df.drop(['Gender', 'Salary'], axis=1)\n",
    "y = df['Salary']\n",
    "\n",
    "# ---------------------------------------------\n",
    "# 🧪 Step 5: Train-Test Split\n",
    "# ---------------------------------------------\n",
    "X_train, X_test, y_train, y_test = train_test_split(X, y, test_size=0.2, random_state=42)\n",
    "\n",
    "# ---------------------------------------------\n",
    "# ⚙️ Step 6: Apply Linear Regression + Ridge + Lasso\n",
    "# ---------------------------------------------\n",
    "# Linear Regression (no regularization)\n",
    "lr = LinearRegression()\n",
    "lr.fit(X_train, y_train)\n",
    "y_pred_lr = lr.predict(X_test)\n",
    "\n",
    "# Ridge Regression (L2 regularization)\n",
    "ridge = Ridge(alpha=1.0)\n",
    "ridge.fit(X_train, y_train)\n",
    "y_pred_ridge = ridge.predict(X_test)\n",
    "\n",
    "# Lasso Regression (L1 regularization)\n",
    "lasso = Lasso(alpha=1.0)\n",
    "lasso.fit(X_train, y_train)\n",
    "y_pred_lasso = lasso.predict(X_test)\n",
    "\n",
    "# ---------------------------------------------\n",
    "# 📊 Step 7: Evaluation\n",
    "# ---------------------------------------------\n",
    "print(\"\\n--- Model Performance ---\")\n",
    "print(\"Linear Regression MSE:\", mean_squared_error(y_test, y_pred_lr))\n",
    "print(\"Ridge Regression MSE :\", mean_squared_error(y_test, y_pred_ridge))\n",
    "print(\"Lasso Regression MSE :\", mean_squared_error(y_test, y_pred_lasso))\n"
   ]
  }
 ],
 "metadata": {
  "kernelspec": {
   "display_name": "venv",
   "language": "python",
   "name": "python3"
  },
  "language_info": {
   "codemirror_mode": {
    "name": "ipython",
    "version": 3
   },
   "file_extension": ".py",
   "mimetype": "text/x-python",
   "name": "python",
   "nbconvert_exporter": "python",
   "pygments_lexer": "ipython3",
   "version": "3.12.9"
  }
 },
 "nbformat": 4,
 "nbformat_minor": 5
}
