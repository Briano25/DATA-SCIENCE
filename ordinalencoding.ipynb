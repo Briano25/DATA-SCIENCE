{
 "cells": [
  {
   "cell_type": "code",
   "execution_count": null,
   "id": "b147852a",
   "metadata": {},
   "outputs": [],
   "source": []
  },
  {
   "cell_type": "code",
   "execution_count": 1,
   "id": "a0519c95",
   "metadata": {
    "vscode": {
     "languageId": "javascript"
    }
   },
   "outputs": [
    {
     "name": "stdout",
     "output_type": "stream",
     "text": [
      "      City  Education  Salary  Churn\n",
      "0  Nairobi    Primary   45000      0\n",
      "1  Mombasa  Secondary   52000      1\n",
      "2   Kisumu   Tertiary   61000      0\n",
      "3   Nakuru   Tertiary   58000      0\n",
      "4  Nairobi  Secondary   47000      1\n",
      "5   Kisumu    Primary   50000      0\n",
      "   Education  Education_Encoded\n",
      "0    Primary                0.0\n",
      "1  Secondary                1.0\n",
      "2   Tertiary                2.0\n",
      "3   Tertiary                2.0\n",
      "4  Secondary                1.0\n",
      "5    Primary                0.0\n"
     ]
    }
   ],
   "source": [
    "import pandas as pd\n",
    "\n",
    "df = pd.DataFrame({\n",
    "    'City': ['Nairobi', 'Mombasa', 'Kisumu', 'Nakuru', 'Nairobi', 'Kisumu'],\n",
    "    'Education': ['Primary', 'Secondary', 'Tertiary', 'Tertiary', 'Secondary', 'Primary'],\n",
    "    'Salary': [45000, 52000, 61000, 58000, 47000, 50000],\n",
    "    'Churn': [0, 1, 0, 0, 1, 0]   # Target variable\n",
    "})\n",
    "\n",
    "print(df)\n",
    "\n",
    "from sklearn.preprocessing import OrdinalEncoder\n",
    "\n",
    "encoder = OrdinalEncoder(categories=[['Primary', 'Secondary', 'Tertiary']])\n",
    "df['Education_Encoded'] = encoder.fit_transform(df[['Education']])\n",
    "print(df[['Education', 'Education_Encoded']])\n"
   ]
  }
 ],
 "metadata": {
  "kernelspec": {
   "display_name": "venv",
   "language": "python",
   "name": "python3"
  },
  "language_info": {
   "codemirror_mode": {
    "name": "ipython",
    "version": 3
   },
   "file_extension": ".py",
   "mimetype": "text/x-python",
   "name": "python",
   "nbconvert_exporter": "python",
   "pygments_lexer": "ipython3",
   "version": "3.12.9"
  }
 },
 "nbformat": 4,
 "nbformat_minor": 5
}
