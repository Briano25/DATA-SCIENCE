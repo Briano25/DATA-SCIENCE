{
 "cells": [
  {
   "cell_type": "code",
   "execution_count": 2,
   "id": "15074e4f",
   "metadata": {},
   "outputs": [
    {
     "name": "stdout",
     "output_type": "stream",
     "text": [
      "      City  Education  Salary  Churn\n",
      "0  Nairobi    Primary   45000      0\n",
      "1  Mombasa  Secondary   52000      1\n",
      "2   Kisumu   Tertiary   61000      0\n",
      "3   Nakuru   Tertiary   58000      0\n",
      "4  Nairobi  Secondary   47000      1\n",
      "5   Kisumu    Primary   50000      0\n",
      "   Education  Salary  Churn  City_Kisumu  City_Mombasa  City_Nairobi  \\\n",
      "0    Primary   45000      0        False         False          True   \n",
      "1  Secondary   52000      1        False          True         False   \n",
      "2   Tertiary   61000      0         True         False         False   \n",
      "3   Tertiary   58000      0        False         False         False   \n",
      "4  Secondary   47000      1        False         False          True   \n",
      "\n",
      "   City_Nakuru  \n",
      "0        False  \n",
      "1        False  \n",
      "2        False  \n",
      "3         True  \n",
      "4        False  \n"
     ]
    }
   ],
   "source": [
    "import pandas as pd\n",
    "\n",
    "df = pd.DataFrame({\n",
    "    'City': ['Nairobi', 'Mombasa', 'Kisumu', 'Nakuru', 'Nairobi', 'Kisumu'],\n",
    "    'Education': ['Primary', 'Secondary', 'Tertiary', 'Tertiary', 'Secondary', 'Primary'],\n",
    "    'Salary': [45000, 52000, 61000, 58000, 47000, 50000],\n",
    "    'Churn': [0, 1, 0, 0, 1, 0]   # Target variable\n",
    "})\n",
    "\n",
    "print(df)\n",
    "\n",
    "df_onehot = pd.get_dummies(df, columns=['City'], drop_first=False)\n",
    "print(df_onehot.head())\n",
    "\n"
   ]
  }
 ],
 "metadata": {
  "kernelspec": {
   "display_name": "venv",
   "language": "python",
   "name": "python3"
  },
  "language_info": {
   "codemirror_mode": {
    "name": "ipython",
    "version": 3
   },
   "file_extension": ".py",
   "mimetype": "text/x-python",
   "name": "python",
   "nbconvert_exporter": "python",
   "pygments_lexer": "ipython3",
   "version": "3.12.9"
  }
 },
 "nbformat": 4,
 "nbformat_minor": 5
}
